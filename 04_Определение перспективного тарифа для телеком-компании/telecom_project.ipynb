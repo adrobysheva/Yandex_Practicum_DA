{
 "cells": [
  {
   "cell_type": "markdown",
   "id": "91eb4687",
   "metadata": {},
   "source": [
    "# Определение перспективного тарифа для телеком-компании"
   ]
  },
  {
   "cell_type": "markdown",
   "id": "ad62080d",
   "metadata": {},
   "source": [
    "**Цель исследования** - определить, какой тарифный план компании «Мегалайн»: «Смарт» или «Ультра» приносит больше денег.\n",
    "\n",
    "Необходимо проверить две гипотезы:\n",
    "- средняя выручка пользователей тарифов «Ультра» и «Смарт» различаются;\n",
    "- средняя выручка пользователей из Москвы отличается от выручки пользователей из других регионов.\n",
    "\n",
    "**Ход исследования**\n",
    "\n",
    "В нашем распоряжении данные 500 пользователей «Мегалайна»: кто они, откуда, каким тарифом пользуются, сколько звонков и сообщений каждый отправил за 2018 год. Нужно проанализировать поведение клиентов и сделать вывод — какой тариф лучше. О качестве данных ничего не известно. Поэтому перед проверкой гипотез понадобится обзор данных. Также необходимо привести данные к нужным типам, найти и исправить ошибки. \n",
    "\n",
    "Исследование пройдет в четыре этапа:\n",
    "- Обзор данных\n",
    "- Предобработка данных\n",
    "- Анализ данных\n",
    "- Проверка гипотез"
   ]
  },
  {
   "cell_type": "markdown",
   "id": "3cb41025",
   "metadata": {},
   "source": [
    "## Обзор данных"
   ]
  },
  {
   "cell_type": "markdown",
   "id": "0542b379",
   "metadata": {},
   "source": [
    "Импортируем необходимые библиотеки и сохраняем исходные файлы в переменных."
   ]
  },
  {
   "cell_type": "code",
   "execution_count": 1,
   "id": "1e499870",
   "metadata": {},
   "outputs": [],
   "source": [
    "import pandas as pd\n",
    "import numpy as np\n",
    "import matplotlib.pyplot as plt\n",
    "import math\n",
    "from scipy import stats as st"
   ]
  },
  {
   "cell_type": "code",
   "execution_count": 2,
   "id": "b52086a9",
   "metadata": {},
   "outputs": [],
   "source": [
    "try:\n",
    "    users = pd.read_csv(r'C:\\Users\\м\\Documents\\Data\\users.csv')\n",
    "except:\n",
    "    users = pd.read_csv('/datasets/users.csv')\n",
    "    \n",
    "try:\n",
    "    calls = pd.read_csv(r'C:\\Users\\м\\Documents\\Data\\calls.csv')\n",
    "except:\n",
    "    calls = pd.read_csv('/datasets/calls.csv')\n",
    "\n",
    "try:\n",
    "    messages = pd.read_csv(r'C:\\Users\\м\\Documents\\Data\\messages.csv')\n",
    "except:\n",
    "    messages = pd.read_csv('/datasets/messages.csv')\n",
    "    \n",
    "try:\n",
    "    internet = pd.read_csv(r'C:\\Users\\м\\Documents\\Data\\internet.csv')\n",
    "except:\n",
    "    internet = pd.read_csv('/datasets/internet.csv')\n",
    "    \n",
    "try:\n",
    "    tariffs = pd.read_csv(r'C:\\Users\\м\\Documents\\Data\\tariffs.csv')\n",
    "except:\n",
    "    tariffs = pd.read_csv('/datasets/tariffs.csv')"
   ]
  },
  {
   "cell_type": "markdown",
   "id": "10718675",
   "metadata": {},
   "source": [
    "Посмотрим на первые строки таблиц."
   ]
  },
  {
   "cell_type": "code",
   "execution_count": 3,
   "id": "4d8b5635",
   "metadata": {
    "scrolled": false
   },
   "outputs": [
    {
     "data": {
      "text/html": [
       "<div>\n",
       "<style scoped>\n",
       "    .dataframe tbody tr th:only-of-type {\n",
       "        vertical-align: middle;\n",
       "    }\n",
       "\n",
       "    .dataframe tbody tr th {\n",
       "        vertical-align: top;\n",
       "    }\n",
       "\n",
       "    .dataframe thead th {\n",
       "        text-align: right;\n",
       "    }\n",
       "</style>\n",
       "<table border=\"1\" class=\"dataframe\">\n",
       "  <thead>\n",
       "    <tr style=\"text-align: right;\">\n",
       "      <th></th>\n",
       "      <th>user_id</th>\n",
       "      <th>age</th>\n",
       "      <th>churn_date</th>\n",
       "      <th>city</th>\n",
       "      <th>first_name</th>\n",
       "      <th>last_name</th>\n",
       "      <th>reg_date</th>\n",
       "      <th>tariff</th>\n",
       "    </tr>\n",
       "  </thead>\n",
       "  <tbody>\n",
       "    <tr>\n",
       "      <th>0</th>\n",
       "      <td>1000</td>\n",
       "      <td>52</td>\n",
       "      <td>NaN</td>\n",
       "      <td>Краснодар</td>\n",
       "      <td>Рафаил</td>\n",
       "      <td>Верещагин</td>\n",
       "      <td>2018-05-25</td>\n",
       "      <td>ultra</td>\n",
       "    </tr>\n",
       "    <tr>\n",
       "      <th>1</th>\n",
       "      <td>1001</td>\n",
       "      <td>41</td>\n",
       "      <td>NaN</td>\n",
       "      <td>Москва</td>\n",
       "      <td>Иван</td>\n",
       "      <td>Ежов</td>\n",
       "      <td>2018-11-01</td>\n",
       "      <td>smart</td>\n",
       "    </tr>\n",
       "    <tr>\n",
       "      <th>2</th>\n",
       "      <td>1002</td>\n",
       "      <td>59</td>\n",
       "      <td>NaN</td>\n",
       "      <td>Стерлитамак</td>\n",
       "      <td>Евгений</td>\n",
       "      <td>Абрамович</td>\n",
       "      <td>2018-06-17</td>\n",
       "      <td>smart</td>\n",
       "    </tr>\n",
       "    <tr>\n",
       "      <th>3</th>\n",
       "      <td>1003</td>\n",
       "      <td>23</td>\n",
       "      <td>NaN</td>\n",
       "      <td>Москва</td>\n",
       "      <td>Белла</td>\n",
       "      <td>Белякова</td>\n",
       "      <td>2018-08-17</td>\n",
       "      <td>ultra</td>\n",
       "    </tr>\n",
       "    <tr>\n",
       "      <th>4</th>\n",
       "      <td>1004</td>\n",
       "      <td>68</td>\n",
       "      <td>NaN</td>\n",
       "      <td>Новокузнецк</td>\n",
       "      <td>Татьяна</td>\n",
       "      <td>Авдеенко</td>\n",
       "      <td>2018-05-14</td>\n",
       "      <td>ultra</td>\n",
       "    </tr>\n",
       "  </tbody>\n",
       "</table>\n",
       "</div>"
      ],
      "text/plain": [
       "   user_id  age churn_date         city first_name  last_name    reg_date  \\\n",
       "0     1000   52        NaN    Краснодар     Рафаил  Верещагин  2018-05-25   \n",
       "1     1001   41        NaN       Москва       Иван       Ежов  2018-11-01   \n",
       "2     1002   59        NaN  Стерлитамак    Евгений  Абрамович  2018-06-17   \n",
       "3     1003   23        NaN       Москва      Белла   Белякова  2018-08-17   \n",
       "4     1004   68        NaN  Новокузнецк    Татьяна   Авдеенко  2018-05-14   \n",
       "\n",
       "  tariff  \n",
       "0  ultra  \n",
       "1  smart  \n",
       "2  smart  \n",
       "3  ultra  \n",
       "4  ultra  "
      ]
     },
     "metadata": {},
     "output_type": "display_data"
    },
    {
     "data": {
      "text/html": [
       "<div>\n",
       "<style scoped>\n",
       "    .dataframe tbody tr th:only-of-type {\n",
       "        vertical-align: middle;\n",
       "    }\n",
       "\n",
       "    .dataframe tbody tr th {\n",
       "        vertical-align: top;\n",
       "    }\n",
       "\n",
       "    .dataframe thead th {\n",
       "        text-align: right;\n",
       "    }\n",
       "</style>\n",
       "<table border=\"1\" class=\"dataframe\">\n",
       "  <thead>\n",
       "    <tr style=\"text-align: right;\">\n",
       "      <th></th>\n",
       "      <th>id</th>\n",
       "      <th>call_date</th>\n",
       "      <th>duration</th>\n",
       "      <th>user_id</th>\n",
       "    </tr>\n",
       "  </thead>\n",
       "  <tbody>\n",
       "    <tr>\n",
       "      <th>0</th>\n",
       "      <td>1000_0</td>\n",
       "      <td>2018-07-25</td>\n",
       "      <td>0.00</td>\n",
       "      <td>1000</td>\n",
       "    </tr>\n",
       "    <tr>\n",
       "      <th>1</th>\n",
       "      <td>1000_1</td>\n",
       "      <td>2018-08-17</td>\n",
       "      <td>0.00</td>\n",
       "      <td>1000</td>\n",
       "    </tr>\n",
       "    <tr>\n",
       "      <th>2</th>\n",
       "      <td>1000_2</td>\n",
       "      <td>2018-06-11</td>\n",
       "      <td>2.85</td>\n",
       "      <td>1000</td>\n",
       "    </tr>\n",
       "    <tr>\n",
       "      <th>3</th>\n",
       "      <td>1000_3</td>\n",
       "      <td>2018-09-21</td>\n",
       "      <td>13.80</td>\n",
       "      <td>1000</td>\n",
       "    </tr>\n",
       "    <tr>\n",
       "      <th>4</th>\n",
       "      <td>1000_4</td>\n",
       "      <td>2018-12-15</td>\n",
       "      <td>5.18</td>\n",
       "      <td>1000</td>\n",
       "    </tr>\n",
       "  </tbody>\n",
       "</table>\n",
       "</div>"
      ],
      "text/plain": [
       "       id   call_date  duration  user_id\n",
       "0  1000_0  2018-07-25      0.00     1000\n",
       "1  1000_1  2018-08-17      0.00     1000\n",
       "2  1000_2  2018-06-11      2.85     1000\n",
       "3  1000_3  2018-09-21     13.80     1000\n",
       "4  1000_4  2018-12-15      5.18     1000"
      ]
     },
     "metadata": {},
     "output_type": "display_data"
    },
    {
     "data": {
      "text/html": [
       "<div>\n",
       "<style scoped>\n",
       "    .dataframe tbody tr th:only-of-type {\n",
       "        vertical-align: middle;\n",
       "    }\n",
       "\n",
       "    .dataframe tbody tr th {\n",
       "        vertical-align: top;\n",
       "    }\n",
       "\n",
       "    .dataframe thead th {\n",
       "        text-align: right;\n",
       "    }\n",
       "</style>\n",
       "<table border=\"1\" class=\"dataframe\">\n",
       "  <thead>\n",
       "    <tr style=\"text-align: right;\">\n",
       "      <th></th>\n",
       "      <th>id</th>\n",
       "      <th>message_date</th>\n",
       "      <th>user_id</th>\n",
       "    </tr>\n",
       "  </thead>\n",
       "  <tbody>\n",
       "    <tr>\n",
       "      <th>0</th>\n",
       "      <td>1000_0</td>\n",
       "      <td>2018-06-27</td>\n",
       "      <td>1000</td>\n",
       "    </tr>\n",
       "    <tr>\n",
       "      <th>1</th>\n",
       "      <td>1000_1</td>\n",
       "      <td>2018-10-08</td>\n",
       "      <td>1000</td>\n",
       "    </tr>\n",
       "    <tr>\n",
       "      <th>2</th>\n",
       "      <td>1000_2</td>\n",
       "      <td>2018-08-04</td>\n",
       "      <td>1000</td>\n",
       "    </tr>\n",
       "    <tr>\n",
       "      <th>3</th>\n",
       "      <td>1000_3</td>\n",
       "      <td>2018-06-16</td>\n",
       "      <td>1000</td>\n",
       "    </tr>\n",
       "    <tr>\n",
       "      <th>4</th>\n",
       "      <td>1000_4</td>\n",
       "      <td>2018-12-05</td>\n",
       "      <td>1000</td>\n",
       "    </tr>\n",
       "  </tbody>\n",
       "</table>\n",
       "</div>"
      ],
      "text/plain": [
       "       id message_date  user_id\n",
       "0  1000_0   2018-06-27     1000\n",
       "1  1000_1   2018-10-08     1000\n",
       "2  1000_2   2018-08-04     1000\n",
       "3  1000_3   2018-06-16     1000\n",
       "4  1000_4   2018-12-05     1000"
      ]
     },
     "metadata": {},
     "output_type": "display_data"
    },
    {
     "data": {
      "text/html": [
       "<div>\n",
       "<style scoped>\n",
       "    .dataframe tbody tr th:only-of-type {\n",
       "        vertical-align: middle;\n",
       "    }\n",
       "\n",
       "    .dataframe tbody tr th {\n",
       "        vertical-align: top;\n",
       "    }\n",
       "\n",
       "    .dataframe thead th {\n",
       "        text-align: right;\n",
       "    }\n",
       "</style>\n",
       "<table border=\"1\" class=\"dataframe\">\n",
       "  <thead>\n",
       "    <tr style=\"text-align: right;\">\n",
       "      <th></th>\n",
       "      <th>Unnamed: 0</th>\n",
       "      <th>id</th>\n",
       "      <th>mb_used</th>\n",
       "      <th>session_date</th>\n",
       "      <th>user_id</th>\n",
       "    </tr>\n",
       "  </thead>\n",
       "  <tbody>\n",
       "    <tr>\n",
       "      <th>0</th>\n",
       "      <td>0</td>\n",
       "      <td>1000_0</td>\n",
       "      <td>112.95</td>\n",
       "      <td>2018-11-25</td>\n",
       "      <td>1000</td>\n",
       "    </tr>\n",
       "    <tr>\n",
       "      <th>1</th>\n",
       "      <td>1</td>\n",
       "      <td>1000_1</td>\n",
       "      <td>1052.81</td>\n",
       "      <td>2018-09-07</td>\n",
       "      <td>1000</td>\n",
       "    </tr>\n",
       "    <tr>\n",
       "      <th>2</th>\n",
       "      <td>2</td>\n",
       "      <td>1000_2</td>\n",
       "      <td>1197.26</td>\n",
       "      <td>2018-06-25</td>\n",
       "      <td>1000</td>\n",
       "    </tr>\n",
       "    <tr>\n",
       "      <th>3</th>\n",
       "      <td>3</td>\n",
       "      <td>1000_3</td>\n",
       "      <td>550.27</td>\n",
       "      <td>2018-08-22</td>\n",
       "      <td>1000</td>\n",
       "    </tr>\n",
       "    <tr>\n",
       "      <th>4</th>\n",
       "      <td>4</td>\n",
       "      <td>1000_4</td>\n",
       "      <td>302.56</td>\n",
       "      <td>2018-09-24</td>\n",
       "      <td>1000</td>\n",
       "    </tr>\n",
       "  </tbody>\n",
       "</table>\n",
       "</div>"
      ],
      "text/plain": [
       "   Unnamed: 0      id  mb_used session_date  user_id\n",
       "0           0  1000_0   112.95   2018-11-25     1000\n",
       "1           1  1000_1  1052.81   2018-09-07     1000\n",
       "2           2  1000_2  1197.26   2018-06-25     1000\n",
       "3           3  1000_3   550.27   2018-08-22     1000\n",
       "4           4  1000_4   302.56   2018-09-24     1000"
      ]
     },
     "metadata": {},
     "output_type": "display_data"
    },
    {
     "data": {
      "text/html": [
       "<div>\n",
       "<style scoped>\n",
       "    .dataframe tbody tr th:only-of-type {\n",
       "        vertical-align: middle;\n",
       "    }\n",
       "\n",
       "    .dataframe tbody tr th {\n",
       "        vertical-align: top;\n",
       "    }\n",
       "\n",
       "    .dataframe thead th {\n",
       "        text-align: right;\n",
       "    }\n",
       "</style>\n",
       "<table border=\"1\" class=\"dataframe\">\n",
       "  <thead>\n",
       "    <tr style=\"text-align: right;\">\n",
       "      <th></th>\n",
       "      <th>messages_included</th>\n",
       "      <th>mb_per_month_included</th>\n",
       "      <th>minutes_included</th>\n",
       "      <th>rub_monthly_fee</th>\n",
       "      <th>rub_per_gb</th>\n",
       "      <th>rub_per_message</th>\n",
       "      <th>rub_per_minute</th>\n",
       "      <th>tariff_name</th>\n",
       "    </tr>\n",
       "  </thead>\n",
       "  <tbody>\n",
       "    <tr>\n",
       "      <th>0</th>\n",
       "      <td>50</td>\n",
       "      <td>15360</td>\n",
       "      <td>500</td>\n",
       "      <td>550</td>\n",
       "      <td>200</td>\n",
       "      <td>3</td>\n",
       "      <td>3</td>\n",
       "      <td>smart</td>\n",
       "    </tr>\n",
       "    <tr>\n",
       "      <th>1</th>\n",
       "      <td>1000</td>\n",
       "      <td>30720</td>\n",
       "      <td>3000</td>\n",
       "      <td>1950</td>\n",
       "      <td>150</td>\n",
       "      <td>1</td>\n",
       "      <td>1</td>\n",
       "      <td>ultra</td>\n",
       "    </tr>\n",
       "  </tbody>\n",
       "</table>\n",
       "</div>"
      ],
      "text/plain": [
       "   messages_included  mb_per_month_included  minutes_included  \\\n",
       "0                 50                  15360               500   \n",
       "1               1000                  30720              3000   \n",
       "\n",
       "   rub_monthly_fee  rub_per_gb  rub_per_message  rub_per_minute tariff_name  \n",
       "0              550         200                3               3       smart  \n",
       "1             1950         150                1               1       ultra  "
      ]
     },
     "metadata": {},
     "output_type": "display_data"
    }
   ],
   "source": [
    "display(users.head())\n",
    "display(calls.head())\n",
    "display(messages.head())\n",
    "display(internet.head())\n",
    "display(tariffs.head())"
   ]
  },
  {
   "cell_type": "markdown",
   "id": "ca95fefb",
   "metadata": {},
   "source": [
    "Согласно документации к данным:\n",
    "\n",
    "Таблица `users` (информация о пользователях):\n",
    "- `user_id` — уникальный идентификатор пользователя\n",
    "- `first_name` — имя пользователя\n",
    "- `last_name` — фамилия пользователя\n",
    "- `age` — возраст пользователя (годы)\n",
    "- `reg_date` — дата подключения тарифа (день, месяц, год)\n",
    "- `churn_date` — дата прекращения пользования тарифом (если значение пропущено, то тариф ещё действовал на момент выгрузки данных)\n",
    "- `city` — город проживания пользователя\n",
    "- `tariff` — название тарифного плана\n",
    "\n",
    "Таблица `calls` (информация о звонках):\n",
    "- `id` — уникальный номер звонка\n",
    "- `call_date` — дата звонка\n",
    "- `duration` — длительность звонка в минутах\n",
    "- `user_id` — идентификатор пользователя, сделавшего звонок\n",
    "\n",
    "Таблица `messages` (информация о сообщениях):\n",
    "- `id` — уникальный номер сообщения\n",
    "- `message_date` — дата сообщения\n",
    "- `user_id` — идентификатор пользователя, отправившего сообщение\n",
    "\n",
    "Таблица `internet` (информация об интернет-сессиях):\n",
    "- `id` — уникальный номер сессии\n",
    "- `mb_used` — объём потраченного за сессию интернет-трафика (в мегабайтах)\n",
    "- `session_date` — дата интернет-сессии\n",
    "- `user_id` — идентификатор пользователя\n",
    "\n",
    "Таблица `tariffs` (информация о тарифах):\n",
    "- `tariff_name` — название тарифа\n",
    "- `rub_monthly_fee` — ежемесячная абонентская плата в рублях\n",
    "- `minutes_included` — количество минут разговора в месяц, включённых в абонентскую плату\n",
    "- `messages_included` — количество сообщений в месяц, включённых в абонентскую плату\n",
    "- `mb_per_month_included` — объём интернет-трафика, включённого в абонентскую плату (в мегабайтах)\n",
    "- `rub_per_minute` — стоимость минуты разговора сверх тарифного пакета (например, если в тарифе 100 минут разговора в месяц, то со 101 минуты будет взиматься плата)\n",
    "- `rub_per_message` — стоимость отправки сообщения сверх тарифного пакета\n",
    "- `rub_per_gb` — стоимость дополнительного гигабайта интернет-трафика сверх тарифного пакета (1 гигабайт = 1024 мегабайта)\n"
   ]
  },
  {
   "cell_type": "markdown",
   "id": "f40e3e1e",
   "metadata": {},
   "source": [
    "## Предобработка данных"
   ]
  },
  {
   "cell_type": "markdown",
   "id": "cc170ed2",
   "metadata": {},
   "source": [
    "### Исправление ошибок"
   ]
  },
  {
   "cell_type": "markdown",
   "id": "cd4a7b53",
   "metadata": {},
   "source": [
    "Взглянем на информацию о данных."
   ]
  },
  {
   "cell_type": "code",
   "execution_count": 4,
   "id": "60cc0f31",
   "metadata": {},
   "outputs": [
    {
     "name": "stdout",
     "output_type": "stream",
     "text": [
      "<class 'pandas.core.frame.DataFrame'>\n",
      "RangeIndex: 500 entries, 0 to 499\n",
      "Data columns (total 8 columns):\n",
      " #   Column      Non-Null Count  Dtype \n",
      "---  ------      --------------  ----- \n",
      " 0   user_id     500 non-null    int64 \n",
      " 1   age         500 non-null    int64 \n",
      " 2   churn_date  38 non-null     object\n",
      " 3   city        500 non-null    object\n",
      " 4   first_name  500 non-null    object\n",
      " 5   last_name   500 non-null    object\n",
      " 6   reg_date    500 non-null    object\n",
      " 7   tariff      500 non-null    object\n",
      "dtypes: int64(2), object(6)\n",
      "memory usage: 31.4+ KB\n"
     ]
    },
    {
     "data": {
      "text/plain": [
       "None"
      ]
     },
     "metadata": {},
     "output_type": "display_data"
    },
    {
     "name": "stdout",
     "output_type": "stream",
     "text": [
      "<class 'pandas.core.frame.DataFrame'>\n",
      "RangeIndex: 202607 entries, 0 to 202606\n",
      "Data columns (total 4 columns):\n",
      " #   Column     Non-Null Count   Dtype  \n",
      "---  ------     --------------   -----  \n",
      " 0   id         202607 non-null  object \n",
      " 1   call_date  202607 non-null  object \n",
      " 2   duration   202607 non-null  float64\n",
      " 3   user_id    202607 non-null  int64  \n",
      "dtypes: float64(1), int64(1), object(2)\n",
      "memory usage: 6.2+ MB\n"
     ]
    },
    {
     "data": {
      "text/plain": [
       "None"
      ]
     },
     "metadata": {},
     "output_type": "display_data"
    },
    {
     "name": "stdout",
     "output_type": "stream",
     "text": [
      "<class 'pandas.core.frame.DataFrame'>\n",
      "RangeIndex: 123036 entries, 0 to 123035\n",
      "Data columns (total 3 columns):\n",
      " #   Column        Non-Null Count   Dtype \n",
      "---  ------        --------------   ----- \n",
      " 0   id            123036 non-null  object\n",
      " 1   message_date  123036 non-null  object\n",
      " 2   user_id       123036 non-null  int64 \n",
      "dtypes: int64(1), object(2)\n",
      "memory usage: 2.8+ MB\n"
     ]
    },
    {
     "data": {
      "text/plain": [
       "None"
      ]
     },
     "metadata": {},
     "output_type": "display_data"
    },
    {
     "name": "stdout",
     "output_type": "stream",
     "text": [
      "<class 'pandas.core.frame.DataFrame'>\n",
      "RangeIndex: 149396 entries, 0 to 149395\n",
      "Data columns (total 5 columns):\n",
      " #   Column        Non-Null Count   Dtype  \n",
      "---  ------        --------------   -----  \n",
      " 0   Unnamed: 0    149396 non-null  int64  \n",
      " 1   id            149396 non-null  object \n",
      " 2   mb_used       149396 non-null  float64\n",
      " 3   session_date  149396 non-null  object \n",
      " 4   user_id       149396 non-null  int64  \n",
      "dtypes: float64(1), int64(2), object(2)\n",
      "memory usage: 5.7+ MB\n"
     ]
    },
    {
     "data": {
      "text/plain": [
       "None"
      ]
     },
     "metadata": {},
     "output_type": "display_data"
    },
    {
     "name": "stdout",
     "output_type": "stream",
     "text": [
      "<class 'pandas.core.frame.DataFrame'>\n",
      "RangeIndex: 2 entries, 0 to 1\n",
      "Data columns (total 8 columns):\n",
      " #   Column                 Non-Null Count  Dtype \n",
      "---  ------                 --------------  ----- \n",
      " 0   messages_included      2 non-null      int64 \n",
      " 1   mb_per_month_included  2 non-null      int64 \n",
      " 2   minutes_included       2 non-null      int64 \n",
      " 3   rub_monthly_fee        2 non-null      int64 \n",
      " 4   rub_per_gb             2 non-null      int64 \n",
      " 5   rub_per_message        2 non-null      int64 \n",
      " 6   rub_per_minute         2 non-null      int64 \n",
      " 7   tariff_name            2 non-null      object\n",
      "dtypes: int64(7), object(1)\n",
      "memory usage: 256.0+ bytes\n"
     ]
    },
    {
     "data": {
      "text/plain": [
       "None"
      ]
     },
     "metadata": {},
     "output_type": "display_data"
    }
   ],
   "source": [
    "display(users.info())\n",
    "display(calls.info())\n",
    "display(messages.info())\n",
    "display(internet.info())\n",
    "display(tariffs.info())"
   ]
  },
  {
   "cell_type": "markdown",
   "id": "d6cf9e37",
   "metadata": {},
   "source": [
    "Пропуски обнаружены только в столбце `churn_date` таблицы `users`. Но нам известно, что они означают, что тариф еще действует. Удалять их не нужно. А вот тип данных не везде соответствует необходимому. Во всех столбцах с датами тип данных `object`. Переведем в нужный тип.  "
   ]
  },
  {
   "cell_type": "code",
   "execution_count": 5,
   "id": "ec7a7122",
   "metadata": {},
   "outputs": [],
   "source": [
    "users['churn_date'] = pd.to_datetime(users['churn_date'], format='%Y-%m-%d')\n",
    "users['reg_date'] = pd.to_datetime(users['reg_date'], format='%Y-%m-%d')\n",
    "calls['call_date'] = pd.to_datetime(calls['call_date'], format='%Y-%m-%d')\n",
    "messages['message_date'] = pd.to_datetime(messages['message_date'], format='%Y-%m-%d')\n",
    "internet['session_date'] = pd.to_datetime(internet['session_date'], format='%Y-%m-%d')"
   ]
  },
  {
   "cell_type": "markdown",
   "id": "fa62aa9b",
   "metadata": {},
   "source": [
    "Необходимо округлить значения в столбце `duration` до целых минут."
   ]
  },
  {
   "cell_type": "code",
   "execution_count": 6,
   "id": "31af0b7c",
   "metadata": {},
   "outputs": [],
   "source": [
    "calls['duration'] = np.ceil(calls['duration']).astype('int')"
   ]
  },
  {
   "cell_type": "markdown",
   "id": "b0257295",
   "metadata": {},
   "source": [
    "Из таблицы `internet` удалим столбец, которого нет в документации к данным."
   ]
  },
  {
   "cell_type": "code",
   "execution_count": 7,
   "id": "84bbca6e",
   "metadata": {},
   "outputs": [
    {
     "data": {
      "text/html": [
       "<div>\n",
       "<style scoped>\n",
       "    .dataframe tbody tr th:only-of-type {\n",
       "        vertical-align: middle;\n",
       "    }\n",
       "\n",
       "    .dataframe tbody tr th {\n",
       "        vertical-align: top;\n",
       "    }\n",
       "\n",
       "    .dataframe thead th {\n",
       "        text-align: right;\n",
       "    }\n",
       "</style>\n",
       "<table border=\"1\" class=\"dataframe\">\n",
       "  <thead>\n",
       "    <tr style=\"text-align: right;\">\n",
       "      <th></th>\n",
       "      <th>id</th>\n",
       "      <th>mb_used</th>\n",
       "      <th>session_date</th>\n",
       "      <th>user_id</th>\n",
       "    </tr>\n",
       "  </thead>\n",
       "  <tbody>\n",
       "    <tr>\n",
       "      <th>0</th>\n",
       "      <td>1000_0</td>\n",
       "      <td>112.95</td>\n",
       "      <td>2018-11-25</td>\n",
       "      <td>1000</td>\n",
       "    </tr>\n",
       "    <tr>\n",
       "      <th>1</th>\n",
       "      <td>1000_1</td>\n",
       "      <td>1052.81</td>\n",
       "      <td>2018-09-07</td>\n",
       "      <td>1000</td>\n",
       "    </tr>\n",
       "    <tr>\n",
       "      <th>2</th>\n",
       "      <td>1000_2</td>\n",
       "      <td>1197.26</td>\n",
       "      <td>2018-06-25</td>\n",
       "      <td>1000</td>\n",
       "    </tr>\n",
       "    <tr>\n",
       "      <th>3</th>\n",
       "      <td>1000_3</td>\n",
       "      <td>550.27</td>\n",
       "      <td>2018-08-22</td>\n",
       "      <td>1000</td>\n",
       "    </tr>\n",
       "    <tr>\n",
       "      <th>4</th>\n",
       "      <td>1000_4</td>\n",
       "      <td>302.56</td>\n",
       "      <td>2018-09-24</td>\n",
       "      <td>1000</td>\n",
       "    </tr>\n",
       "  </tbody>\n",
       "</table>\n",
       "</div>"
      ],
      "text/plain": [
       "       id  mb_used session_date  user_id\n",
       "0  1000_0   112.95   2018-11-25     1000\n",
       "1  1000_1  1052.81   2018-09-07     1000\n",
       "2  1000_2  1197.26   2018-06-25     1000\n",
       "3  1000_3   550.27   2018-08-22     1000\n",
       "4  1000_4   302.56   2018-09-24     1000"
      ]
     },
     "execution_count": 7,
     "metadata": {},
     "output_type": "execute_result"
    }
   ],
   "source": [
    "internet = internet.drop('Unnamed: 0', axis=1)\n",
    "internet.head()"
   ]
  },
  {
   "cell_type": "markdown",
   "id": "c80e6803",
   "metadata": {},
   "source": [
    "Проверим, есть ли в таблице `users` полные дубликаты:"
   ]
  },
  {
   "cell_type": "code",
   "execution_count": 8,
   "id": "bb58afde",
   "metadata": {
    "scrolled": true
   },
   "outputs": [
    {
     "name": "stdout",
     "output_type": "stream",
     "text": [
      "0\n",
      "0\n",
      "0\n",
      "0\n"
     ]
    }
   ],
   "source": [
    "print(users.duplicated().sum())\n",
    "print(calls.duplicated().sum())\n",
    "print(messages.duplicated().sum())\n",
    "print(internet.duplicated().sum())"
   ]
  },
  {
   "cell_type": "markdown",
   "id": "3e2a9c32",
   "metadata": {},
   "source": [
    "Полных дубликатов нет.\n",
    "\n",
    "Рассмотрим подробнее таблицу с данными об использованном трафике. Для этого построим гистограмму, демонстрирующую распределение использованных мегабайт."
   ]
  },
  {
   "cell_type": "code",
   "execution_count": 9,
   "id": "7a583853",
   "metadata": {},
   "outputs": [
    {
     "data": {
      "image/png": "[encoded data removed]",
      "text/plain": [
       "<Figure size 432x288 with 1 Axes>"
      ]
     },
     "metadata": {
      "needs_background": "light"
     },
     "output_type": "display_data"
    }
   ],
   "source": [
    "plt.hist(internet['mb_used'], bins=30, range=(0,1500))\n",
    "plt.grid(True)\n",
    "plt.show()  "
   ]
  },
  {
   "cell_type": "markdown",
   "id": "5e4b2432",
   "metadata": {},
   "source": [
    "Видим, что есть большой пик около нуля. "
   ]
  },
  {
   "cell_type": "code",
   "execution_count": 10,
   "id": "007459c0",
   "metadata": {
    "scrolled": true
   },
   "outputs": [
    {
     "data": {
      "text/plain": [
       "19598"
      ]
     },
     "execution_count": 10,
     "metadata": {},
     "output_type": "execute_result"
    }
   ],
   "source": [
    "internet[internet['mb_used'] == 0]['mb_used'].count()"
   ]
  },
  {
   "cell_type": "markdown",
   "id": "635ae7a6",
   "metadata": {},
   "source": [
    "В таблице почти 20 тысяч строк, в которых количество использованных мегабайт равно нулю. Так как в таблице представлены данные об интернет-сессиях, можно предположить, что записи о новой интернет-сессии создаются автоматически - при включении пользователем интернета. А на деле может быть, что пользователь его никак не использовал - не открывал никакие сайты, не заходил в приложения, и вскоре выключал. Поскольку в дальнейшем мы будем работать не с данными по каждой сессии, а с суммой использованных мегабайт по месяцам, по пользователям, эти нули не скажутся на результатах исследования. \n",
    "\n",
    "На всякий случай, построим диаграмму размаха."
   ]
  },
  {
   "cell_type": "code",
   "execution_count": 11,
   "id": "f54d8dfc",
   "metadata": {},
   "outputs": [
    {
     "data": {
      "image/png": "[encoded data removed]",
      "text/plain": [
       "<Figure size 432x288 with 1 Axes>"
      ]
     },
     "metadata": {
      "needs_background": "light"
     },
     "output_type": "display_data"
    }
   ],
   "source": [
    "plt.boxplot(internet['mb_used']) ;"
   ]
  },
  {
   "cell_type": "markdown",
   "id": "bba91175",
   "metadata": {},
   "source": [
    "Как мы видим, нижняя граница \"усов\" совпадает с нулем. Значит, данные около нуля нельзя считать выбросами."
   ]
  },
  {
   "cell_type": "markdown",
   "id": "1a23d286",
   "metadata": {},
   "source": [
    "### Подсчет значений"
   ]
  },
  {
   "cell_type": "markdown",
   "id": "a05a7715",
   "metadata": {},
   "source": [
    "В таблицы с данными о звонках, сообщениях и интернет-трафике добавим столбцы с месяцем."
   ]
  },
  {
   "cell_type": "code",
   "execution_count": 12,
   "id": "04528f5c",
   "metadata": {},
   "outputs": [],
   "source": [
    "calls['month'] = calls['call_date'].dt.month\n",
    "messages['month'] = messages['message_date'].dt.month\n",
    "internet['month'] = internet['session_date'].dt.month"
   ]
  },
  {
   "cell_type": "markdown",
   "id": "c69fe16d",
   "metadata": {},
   "source": [
    "Группируем каждую таблицу по пользователям и месяцам."
   ]
  },
  {
   "cell_type": "code",
   "execution_count": 13,
   "id": "c880d8b2",
   "metadata": {},
   "outputs": [],
   "source": [
    "#рассчитываем кол-во звонков, совершенных каждым пользователем по месяцам и их общую продолжительность\n",
    "calls_pivot = calls.pivot_table(index = ['user_id', 'month'], values = ['id', 'duration'], aggfunc = {'id':'count', \n",
    "                                                                                        'duration':'sum'}).reset_index()\n",
    "\n",
    "#рассчитываем кол-во сообщений, отправленных каждым пользователем по месяцам\n",
    "messages_pivot = messages.pivot_table(index = ['user_id', 'month'], values = 'id', aggfunc = 'count').reset_index()\n",
    "\n",
    "#рассчитываем объем интернет-трафика, израсходованного каждым пользователем по месяцам\n",
    "internet_pivot = internet.pivot_table(index = ['user_id', 'month'], values = 'mb_used', aggfunc = 'sum').reset_index()"
   ]
  },
  {
   "cell_type": "code",
   "execution_count": 14,
   "id": "fb523b87",
   "metadata": {
    "scrolled": false
   },
   "outputs": [
    {
     "data": {
      "text/html": [
       "<div>\n",
       "<style scoped>\n",
       "    .dataframe tbody tr th:only-of-type {\n",
       "        vertical-align: middle;\n",
       "    }\n",
       "\n",
       "    .dataframe tbody tr th {\n",
       "        vertical-align: top;\n",
       "    }\n",
       "\n",
       "    .dataframe thead th {\n",
       "        text-align: right;\n",
       "    }\n",
       "</style>\n",
       "<table border=\"1\" class=\"dataframe\">\n",
       "  <thead>\n",
       "    <tr style=\"text-align: right;\">\n",
       "      <th></th>\n",
       "      <th>user_id</th>\n",
       "      <th>month</th>\n",
       "      <th>duration</th>\n",
       "      <th>id</th>\n",
       "    </tr>\n",
       "  </thead>\n",
       "  <tbody>\n",
       "    <tr>\n",
       "      <th>0</th>\n",
       "      <td>1000</td>\n",
       "      <td>5</td>\n",
       "      <td>159</td>\n",
       "      <td>22</td>\n",
       "    </tr>\n",
       "    <tr>\n",
       "      <th>1</th>\n",
       "      <td>1000</td>\n",
       "      <td>6</td>\n",
       "      <td>172</td>\n",
       "      <td>43</td>\n",
       "    </tr>\n",
       "    <tr>\n",
       "      <th>2</th>\n",
       "      <td>1000</td>\n",
       "      <td>7</td>\n",
       "      <td>340</td>\n",
       "      <td>47</td>\n",
       "    </tr>\n",
       "    <tr>\n",
       "      <th>3</th>\n",
       "      <td>1000</td>\n",
       "      <td>8</td>\n",
       "      <td>408</td>\n",
       "      <td>52</td>\n",
       "    </tr>\n",
       "    <tr>\n",
       "      <th>4</th>\n",
       "      <td>1000</td>\n",
       "      <td>9</td>\n",
       "      <td>466</td>\n",
       "      <td>58</td>\n",
       "    </tr>\n",
       "  </tbody>\n",
       "</table>\n",
       "</div>"
      ],
      "text/plain": [
       "   user_id  month  duration  id\n",
       "0     1000      5       159  22\n",
       "1     1000      6       172  43\n",
       "2     1000      7       340  47\n",
       "3     1000      8       408  52\n",
       "4     1000      9       466  58"
      ]
     },
     "metadata": {},
     "output_type": "display_data"
    },
    {
     "data": {
      "text/html": [
       "<div>\n",
       "<style scoped>\n",
       "    .dataframe tbody tr th:only-of-type {\n",
       "        vertical-align: middle;\n",
       "    }\n",
       "\n",
       "    .dataframe tbody tr th {\n",
       "        vertical-align: top;\n",
       "    }\n",
       "\n",
       "    .dataframe thead th {\n",
       "        text-align: right;\n",
       "    }\n",
       "</style>\n",
       "<table border=\"1\" class=\"dataframe\">\n",
       "  <thead>\n",
       "    <tr style=\"text-align: right;\">\n",
       "      <th></th>\n",
       "      <th>user_id</th>\n",
       "      <th>month</th>\n",
       "      <th>id</th>\n",
       "    </tr>\n",
       "  </thead>\n",
       "  <tbody>\n",
       "    <tr>\n",
       "      <th>0</th>\n",
       "      <td>1000</td>\n",
       "      <td>5</td>\n",
       "      <td>22</td>\n",
       "    </tr>\n",
       "    <tr>\n",
       "      <th>1</th>\n",
       "      <td>1000</td>\n",
       "      <td>6</td>\n",
       "      <td>60</td>\n",
       "    </tr>\n",
       "    <tr>\n",
       "      <th>2</th>\n",
       "      <td>1000</td>\n",
       "      <td>7</td>\n",
       "      <td>75</td>\n",
       "    </tr>\n",
       "    <tr>\n",
       "      <th>3</th>\n",
       "      <td>1000</td>\n",
       "      <td>8</td>\n",
       "      <td>81</td>\n",
       "    </tr>\n",
       "    <tr>\n",
       "      <th>4</th>\n",
       "      <td>1000</td>\n",
       "      <td>9</td>\n",
       "      <td>57</td>\n",
       "    </tr>\n",
       "  </tbody>\n",
       "</table>\n",
       "</div>"
      ],
      "text/plain": [
       "   user_id  month  id\n",
       "0     1000      5  22\n",
       "1     1000      6  60\n",
       "2     1000      7  75\n",
       "3     1000      8  81\n",
       "4     1000      9  57"
      ]
     },
     "metadata": {},
     "output_type": "display_data"
    },
    {
     "data": {
      "text/html": [
       "<div>\n",
       "<style scoped>\n",
       "    .dataframe tbody tr th:only-of-type {\n",
       "        vertical-align: middle;\n",
       "    }\n",
       "\n",
       "    .dataframe tbody tr th {\n",
       "        vertical-align: top;\n",
       "    }\n",
       "\n",
       "    .dataframe thead th {\n",
       "        text-align: right;\n",
       "    }\n",
       "</style>\n",
       "<table border=\"1\" class=\"dataframe\">\n",
       "  <thead>\n",
       "    <tr style=\"text-align: right;\">\n",
       "      <th></th>\n",
       "      <th>user_id</th>\n",
       "      <th>month</th>\n",
       "      <th>mb_used</th>\n",
       "    </tr>\n",
       "  </thead>\n",
       "  <tbody>\n",
       "    <tr>\n",
       "      <th>0</th>\n",
       "      <td>1000</td>\n",
       "      <td>5</td>\n",
       "      <td>2253.49</td>\n",
       "    </tr>\n",
       "    <tr>\n",
       "      <th>1</th>\n",
       "      <td>1000</td>\n",
       "      <td>6</td>\n",
       "      <td>23233.77</td>\n",
       "    </tr>\n",
       "    <tr>\n",
       "      <th>2</th>\n",
       "      <td>1000</td>\n",
       "      <td>7</td>\n",
       "      <td>14003.64</td>\n",
       "    </tr>\n",
       "    <tr>\n",
       "      <th>3</th>\n",
       "      <td>1000</td>\n",
       "      <td>8</td>\n",
       "      <td>14055.93</td>\n",
       "    </tr>\n",
       "    <tr>\n",
       "      <th>4</th>\n",
       "      <td>1000</td>\n",
       "      <td>9</td>\n",
       "      <td>14568.91</td>\n",
       "    </tr>\n",
       "  </tbody>\n",
       "</table>\n",
       "</div>"
      ],
      "text/plain": [
       "   user_id  month   mb_used\n",
       "0     1000      5   2253.49\n",
       "1     1000      6  23233.77\n",
       "2     1000      7  14003.64\n",
       "3     1000      8  14055.93\n",
       "4     1000      9  14568.91"
      ]
     },
     "metadata": {},
     "output_type": "display_data"
    }
   ],
   "source": [
    "display(calls_pivot.head())\n",
    "display(messages_pivot.head())\n",
    "display(internet_pivot.head())"
   ]
  },
  {
   "cell_type": "markdown",
   "id": "c8c8e94b",
   "metadata": {},
   "source": [
    "Объединим три созданные сводные таблицы и таблицу `users`."
   ]
  },
  {
   "cell_type": "code",
   "execution_count": 15,
   "id": "d4e05869",
   "metadata": {},
   "outputs": [],
   "source": [
    "data = calls_pivot.merge(messages_pivot, on = ['user_id', 'month'], how = 'outer')\\\n",
    ".merge(internet_pivot, on = ['user_id', 'month'], how = 'outer')\\\n",
    ".merge(users, on = 'user_id', how = 'left')"
   ]
  },
  {
   "cell_type": "code",
   "execution_count": 16,
   "id": "dab250f3",
   "metadata": {},
   "outputs": [
    {
     "data": {
      "text/html": [
       "<div>\n",
       "<style scoped>\n",
       "    .dataframe tbody tr th:only-of-type {\n",
       "        vertical-align: middle;\n",
       "    }\n",
       "\n",
       "    .dataframe tbody tr th {\n",
       "        vertical-align: top;\n",
       "    }\n",
       "\n",
       "    .dataframe thead th {\n",
       "        text-align: right;\n",
       "    }\n",
       "</style>\n",
       "<table border=\"1\" class=\"dataframe\">\n",
       "  <thead>\n",
       "    <tr style=\"text-align: right;\">\n",
       "      <th></th>\n",
       "      <th>user_id</th>\n",
       "      <th>month</th>\n",
       "      <th>duration</th>\n",
       "      <th>id_x</th>\n",
       "      <th>id_y</th>\n",
       "      <th>mb_used</th>\n",
       "      <th>age</th>\n",
       "      <th>churn_date</th>\n",
       "      <th>city</th>\n",
       "      <th>first_name</th>\n",
       "      <th>last_name</th>\n",
       "      <th>reg_date</th>\n",
       "      <th>tariff</th>\n",
       "    </tr>\n",
       "  </thead>\n",
       "  <tbody>\n",
       "    <tr>\n",
       "      <th>0</th>\n",
       "      <td>1000</td>\n",
       "      <td>5</td>\n",
       "      <td>159.0</td>\n",
       "      <td>22.0</td>\n",
       "      <td>22.0</td>\n",
       "      <td>2253.49</td>\n",
       "      <td>52</td>\n",
       "      <td>NaT</td>\n",
       "      <td>Краснодар</td>\n",
       "      <td>Рафаил</td>\n",
       "      <td>Верещагин</td>\n",
       "      <td>2018-05-25</td>\n",
       "      <td>ultra</td>\n",
       "    </tr>\n",
       "    <tr>\n",
       "      <th>1</th>\n",
       "      <td>1000</td>\n",
       "      <td>6</td>\n",
       "      <td>172.0</td>\n",
       "      <td>43.0</td>\n",
       "      <td>60.0</td>\n",
       "      <td>23233.77</td>\n",
       "      <td>52</td>\n",
       "      <td>NaT</td>\n",
       "      <td>Краснодар</td>\n",
       "      <td>Рафаил</td>\n",
       "      <td>Верещагин</td>\n",
       "      <td>2018-05-25</td>\n",
       "      <td>ultra</td>\n",
       "    </tr>\n",
       "    <tr>\n",
       "      <th>2</th>\n",
       "      <td>1000</td>\n",
       "      <td>7</td>\n",
       "      <td>340.0</td>\n",
       "      <td>47.0</td>\n",
       "      <td>75.0</td>\n",
       "      <td>14003.64</td>\n",
       "      <td>52</td>\n",
       "      <td>NaT</td>\n",
       "      <td>Краснодар</td>\n",
       "      <td>Рафаил</td>\n",
       "      <td>Верещагин</td>\n",
       "      <td>2018-05-25</td>\n",
       "      <td>ultra</td>\n",
       "    </tr>\n",
       "    <tr>\n",
       "      <th>3</th>\n",
       "      <td>1000</td>\n",
       "      <td>8</td>\n",
       "      <td>408.0</td>\n",
       "      <td>52.0</td>\n",
       "      <td>81.0</td>\n",
       "      <td>14055.93</td>\n",
       "      <td>52</td>\n",
       "      <td>NaT</td>\n",
       "      <td>Краснодар</td>\n",
       "      <td>Рафаил</td>\n",
       "      <td>Верещагин</td>\n",
       "      <td>2018-05-25</td>\n",
       "      <td>ultra</td>\n",
       "    </tr>\n",
       "    <tr>\n",
       "      <th>4</th>\n",
       "      <td>1000</td>\n",
       "      <td>9</td>\n",
       "      <td>466.0</td>\n",
       "      <td>58.0</td>\n",
       "      <td>57.0</td>\n",
       "      <td>14568.91</td>\n",
       "      <td>52</td>\n",
       "      <td>NaT</td>\n",
       "      <td>Краснодар</td>\n",
       "      <td>Рафаил</td>\n",
       "      <td>Верещагин</td>\n",
       "      <td>2018-05-25</td>\n",
       "      <td>ultra</td>\n",
       "    </tr>\n",
       "    <tr>\n",
       "      <th>5</th>\n",
       "      <td>1000</td>\n",
       "      <td>10</td>\n",
       "      <td>350.0</td>\n",
       "      <td>57.0</td>\n",
       "      <td>73.0</td>\n",
       "      <td>14702.49</td>\n",
       "      <td>52</td>\n",
       "      <td>NaT</td>\n",
       "      <td>Краснодар</td>\n",
       "      <td>Рафаил</td>\n",
       "      <td>Верещагин</td>\n",
       "      <td>2018-05-25</td>\n",
       "      <td>ultra</td>\n",
       "    </tr>\n",
       "    <tr>\n",
       "      <th>6</th>\n",
       "      <td>1000</td>\n",
       "      <td>11</td>\n",
       "      <td>338.0</td>\n",
       "      <td>43.0</td>\n",
       "      <td>58.0</td>\n",
       "      <td>14756.47</td>\n",
       "      <td>52</td>\n",
       "      <td>NaT</td>\n",
       "      <td>Краснодар</td>\n",
       "      <td>Рафаил</td>\n",
       "      <td>Верещагин</td>\n",
       "      <td>2018-05-25</td>\n",
       "      <td>ultra</td>\n",
       "    </tr>\n",
       "    <tr>\n",
       "      <th>7</th>\n",
       "      <td>1000</td>\n",
       "      <td>12</td>\n",
       "      <td>333.0</td>\n",
       "      <td>46.0</td>\n",
       "      <td>70.0</td>\n",
       "      <td>9817.61</td>\n",
       "      <td>52</td>\n",
       "      <td>NaT</td>\n",
       "      <td>Краснодар</td>\n",
       "      <td>Рафаил</td>\n",
       "      <td>Верещагин</td>\n",
       "      <td>2018-05-25</td>\n",
       "      <td>ultra</td>\n",
       "    </tr>\n",
       "    <tr>\n",
       "      <th>8</th>\n",
       "      <td>1001</td>\n",
       "      <td>11</td>\n",
       "      <td>430.0</td>\n",
       "      <td>59.0</td>\n",
       "      <td>NaN</td>\n",
       "      <td>18429.34</td>\n",
       "      <td>41</td>\n",
       "      <td>NaT</td>\n",
       "      <td>Москва</td>\n",
       "      <td>Иван</td>\n",
       "      <td>Ежов</td>\n",
       "      <td>2018-11-01</td>\n",
       "      <td>smart</td>\n",
       "    </tr>\n",
       "    <tr>\n",
       "      <th>9</th>\n",
       "      <td>1001</td>\n",
       "      <td>12</td>\n",
       "      <td>414.0</td>\n",
       "      <td>63.0</td>\n",
       "      <td>NaN</td>\n",
       "      <td>14036.66</td>\n",
       "      <td>41</td>\n",
       "      <td>NaT</td>\n",
       "      <td>Москва</td>\n",
       "      <td>Иван</td>\n",
       "      <td>Ежов</td>\n",
       "      <td>2018-11-01</td>\n",
       "      <td>smart</td>\n",
       "    </tr>\n",
       "  </tbody>\n",
       "</table>\n",
       "</div>"
      ],
      "text/plain": [
       "   user_id  month  duration  id_x  id_y   mb_used  age churn_date       city  \\\n",
       "0     1000      5     159.0  22.0  22.0   2253.49   52        NaT  Краснодар   \n",
       "1     1000      6     172.0  43.0  60.0  23233.77   52        NaT  Краснодар   \n",
       "2     1000      7     340.0  47.0  75.0  14003.64   52        NaT  Краснодар   \n",
       "3     1000      8     408.0  52.0  81.0  14055.93   52        NaT  Краснодар   \n",
       "4     1000      9     466.0  58.0  57.0  14568.91   52        NaT  Краснодар   \n",
       "5     1000     10     350.0  57.0  73.0  14702.49   52        NaT  Краснодар   \n",
       "6     1000     11     338.0  43.0  58.0  14756.47   52        NaT  Краснодар   \n",
       "7     1000     12     333.0  46.0  70.0   9817.61   52        NaT  Краснодар   \n",
       "8     1001     11     430.0  59.0   NaN  18429.34   41        NaT     Москва   \n",
       "9     1001     12     414.0  63.0   NaN  14036.66   41        NaT     Москва   \n",
       "\n",
       "  first_name  last_name   reg_date tariff  \n",
       "0     Рафаил  Верещагин 2018-05-25  ultra  \n",
       "1     Рафаил  Верещагин 2018-05-25  ultra  \n",
       "2     Рафаил  Верещагин 2018-05-25  ultra  \n",
       "3     Рафаил  Верещагин 2018-05-25  ultra  \n",
       "4     Рафаил  Верещагин 2018-05-25  ultra  \n",
       "5     Рафаил  Верещагин 2018-05-25  ultra  \n",
       "6     Рафаил  Верещагин 2018-05-25  ultra  \n",
       "7     Рафаил  Верещагин 2018-05-25  ultra  \n",
       "8       Иван       Ежов 2018-11-01  smart  \n",
       "9       Иван       Ежов 2018-11-01  smart  "
      ]
     },
     "execution_count": 16,
     "metadata": {},
     "output_type": "execute_result"
    }
   ],
   "source": [
    "data.head(10)"
   ]
  },
  {
   "cell_type": "markdown",
   "id": "dc76a337",
   "metadata": {},
   "source": [
    "После слияния таблиц в некоторых столбцах появились пропуски. Если по какому-либо пользователю не было данных по одному из видов связи, логично предположить, что он его не использовал. Заполним эти пропуски нулями."
   ]
  },
  {
   "cell_type": "code",
   "execution_count": 17,
   "id": "f20c9f41",
   "metadata": {},
   "outputs": [
    {
     "name": "stdout",
     "output_type": "stream",
     "text": [
      "<class 'pandas.core.frame.DataFrame'>\n",
      "Int64Index: 3214 entries, 0 to 3213\n",
      "Data columns (total 13 columns):\n",
      " #   Column      Non-Null Count  Dtype         \n",
      "---  ------      --------------  -----         \n",
      " 0   user_id     3214 non-null   int64         \n",
      " 1   month       3214 non-null   int64         \n",
      " 2   duration    3214 non-null   float64       \n",
      " 3   id_x        3214 non-null   float64       \n",
      " 4   id_y        3214 non-null   float64       \n",
      " 5   mb_used     3214 non-null   float64       \n",
      " 6   age         3214 non-null   int64         \n",
      " 7   churn_date  187 non-null    datetime64[ns]\n",
      " 8   city        3214 non-null   object        \n",
      " 9   first_name  3214 non-null   object        \n",
      " 10  last_name   3214 non-null   object        \n",
      " 11  reg_date    3214 non-null   datetime64[ns]\n",
      " 12  tariff      3214 non-null   object        \n",
      "dtypes: datetime64[ns](2), float64(4), int64(3), object(4)\n",
      "memory usage: 351.5+ KB\n"
     ]
    }
   ],
   "source": [
    "data['duration'] = data['duration'].fillna(value=0)\n",
    "data['id_x'] = data['id_x'].fillna(value=0)\n",
    "data['id_y'] = data['id_y'].fillna(value=0)\n",
    "data['mb_used'] = data['mb_used'].fillna(value=0)\n",
    "data.info()"
   ]
  },
  {
   "cell_type": "markdown",
   "id": "bb813f97",
   "metadata": {},
   "source": [
    "Необходимо округлить значения в столбце `mb_used` до гигабайт."
   ]
  },
  {
   "cell_type": "code",
   "execution_count": 18,
   "id": "692dcb8d",
   "metadata": {},
   "outputs": [],
   "source": [
    "data['mb_used'] = np.ceil(data['mb_used'] / 1024).astype('int')"
   ]
  },
  {
   "cell_type": "markdown",
   "id": "0ec96c75",
   "metadata": {},
   "source": [
    "Переименуем некоторые столбцы в созданной таблице."
   ]
  },
  {
   "cell_type": "code",
   "execution_count": 19,
   "id": "447619c4",
   "metadata": {},
   "outputs": [],
   "source": [
    "data = data.rename(columns = {'duration' : 'calls_duration', 'id_x' : 'calls_total', 'id_y' : 'messages_total', \n",
    "                              'mb_used' : 'gb_used'})"
   ]
  },
  {
   "cell_type": "markdown",
   "id": "d4b680bd",
   "metadata": {},
   "source": [
    "Так как мы присоединяли таблицу с пользователями способом `left`, два пользователя, по которым не была найдена информация в таблицах с информацией о звонках, сообщениях, интернете, оказались не включены в итоговую таблицу. То есть фактически они вообще не пользовались услугами тарифа и не принесли выручки. На дальнейших расчетах их отсутствие в таблице никак не отразится."
   ]
  },
  {
   "cell_type": "code",
   "execution_count": 20,
   "id": "592f0d54",
   "metadata": {},
   "outputs": [
    {
     "data": {
      "text/plain": [
       "(498,)"
      ]
     },
     "execution_count": 20,
     "metadata": {},
     "output_type": "execute_result"
    }
   ],
   "source": [
    "data.user_id.unique().shape "
   ]
  },
  {
   "cell_type": "markdown",
   "id": "3e39a6eb",
   "metadata": {},
   "source": [
    "Напишем функцию для подсчета помесячной выручки с каждого пользователя."
   ]
  },
  {
   "cell_type": "code",
   "execution_count": 21,
   "id": "f9a998b5",
   "metadata": {},
   "outputs": [
    {
     "data": {
      "text/html": [
       "<div>\n",
       "<style scoped>\n",
       "    .dataframe tbody tr th:only-of-type {\n",
       "        vertical-align: middle;\n",
       "    }\n",
       "\n",
       "    .dataframe tbody tr th {\n",
       "        vertical-align: top;\n",
       "    }\n",
       "\n",
       "    .dataframe thead th {\n",
       "        text-align: right;\n",
       "    }\n",
       "</style>\n",
       "<table border=\"1\" class=\"dataframe\">\n",
       "  <thead>\n",
       "    <tr style=\"text-align: right;\">\n",
       "      <th></th>\n",
       "      <th>user_id</th>\n",
       "      <th>month</th>\n",
       "      <th>calls_duration</th>\n",
       "      <th>calls_total</th>\n",
       "      <th>messages_total</th>\n",
       "      <th>gb_used</th>\n",
       "      <th>age</th>\n",
       "      <th>churn_date</th>\n",
       "      <th>city</th>\n",
       "      <th>first_name</th>\n",
       "      <th>last_name</th>\n",
       "      <th>reg_date</th>\n",
       "      <th>tariff</th>\n",
       "      <th>profit</th>\n",
       "    </tr>\n",
       "  </thead>\n",
       "  <tbody>\n",
       "    <tr>\n",
       "      <th>0</th>\n",
       "      <td>1000</td>\n",
       "      <td>5</td>\n",
       "      <td>159.0</td>\n",
       "      <td>22.0</td>\n",
       "      <td>22.0</td>\n",
       "      <td>3</td>\n",
       "      <td>52</td>\n",
       "      <td>NaT</td>\n",
       "      <td>Краснодар</td>\n",
       "      <td>Рафаил</td>\n",
       "      <td>Верещагин</td>\n",
       "      <td>2018-05-25</td>\n",
       "      <td>ultra</td>\n",
       "      <td>1950.0</td>\n",
       "    </tr>\n",
       "    <tr>\n",
       "      <th>1</th>\n",
       "      <td>1000</td>\n",
       "      <td>6</td>\n",
       "      <td>172.0</td>\n",
       "      <td>43.0</td>\n",
       "      <td>60.0</td>\n",
       "      <td>23</td>\n",
       "      <td>52</td>\n",
       "      <td>NaT</td>\n",
       "      <td>Краснодар</td>\n",
       "      <td>Рафаил</td>\n",
       "      <td>Верещагин</td>\n",
       "      <td>2018-05-25</td>\n",
       "      <td>ultra</td>\n",
       "      <td>1950.0</td>\n",
       "    </tr>\n",
       "    <tr>\n",
       "      <th>2</th>\n",
       "      <td>1000</td>\n",
       "      <td>7</td>\n",
       "      <td>340.0</td>\n",
       "      <td>47.0</td>\n",
       "      <td>75.0</td>\n",
       "      <td>14</td>\n",
       "      <td>52</td>\n",
       "      <td>NaT</td>\n",
       "      <td>Краснодар</td>\n",
       "      <td>Рафаил</td>\n",
       "      <td>Верещагин</td>\n",
       "      <td>2018-05-25</td>\n",
       "      <td>ultra</td>\n",
       "      <td>1950.0</td>\n",
       "    </tr>\n",
       "    <tr>\n",
       "      <th>3</th>\n",
       "      <td>1000</td>\n",
       "      <td>8</td>\n",
       "      <td>408.0</td>\n",
       "      <td>52.0</td>\n",
       "      <td>81.0</td>\n",
       "      <td>14</td>\n",
       "      <td>52</td>\n",
       "      <td>NaT</td>\n",
       "      <td>Краснодар</td>\n",
       "      <td>Рафаил</td>\n",
       "      <td>Верещагин</td>\n",
       "      <td>2018-05-25</td>\n",
       "      <td>ultra</td>\n",
       "      <td>1950.0</td>\n",
       "    </tr>\n",
       "    <tr>\n",
       "      <th>4</th>\n",
       "      <td>1000</td>\n",
       "      <td>9</td>\n",
       "      <td>466.0</td>\n",
       "      <td>58.0</td>\n",
       "      <td>57.0</td>\n",
       "      <td>15</td>\n",
       "      <td>52</td>\n",
       "      <td>NaT</td>\n",
       "      <td>Краснодар</td>\n",
       "      <td>Рафаил</td>\n",
       "      <td>Верещагин</td>\n",
       "      <td>2018-05-25</td>\n",
       "      <td>ultra</td>\n",
       "      <td>1950.0</td>\n",
       "    </tr>\n",
       "    <tr>\n",
       "      <th>5</th>\n",
       "      <td>1000</td>\n",
       "      <td>10</td>\n",
       "      <td>350.0</td>\n",
       "      <td>57.0</td>\n",
       "      <td>73.0</td>\n",
       "      <td>15</td>\n",
       "      <td>52</td>\n",
       "      <td>NaT</td>\n",
       "      <td>Краснодар</td>\n",
       "      <td>Рафаил</td>\n",
       "      <td>Верещагин</td>\n",
       "      <td>2018-05-25</td>\n",
       "      <td>ultra</td>\n",
       "      <td>1950.0</td>\n",
       "    </tr>\n",
       "    <tr>\n",
       "      <th>6</th>\n",
       "      <td>1000</td>\n",
       "      <td>11</td>\n",
       "      <td>338.0</td>\n",
       "      <td>43.0</td>\n",
       "      <td>58.0</td>\n",
       "      <td>15</td>\n",
       "      <td>52</td>\n",
       "      <td>NaT</td>\n",
       "      <td>Краснодар</td>\n",
       "      <td>Рафаил</td>\n",
       "      <td>Верещагин</td>\n",
       "      <td>2018-05-25</td>\n",
       "      <td>ultra</td>\n",
       "      <td>1950.0</td>\n",
       "    </tr>\n",
       "    <tr>\n",
       "      <th>7</th>\n",
       "      <td>1000</td>\n",
       "      <td>12</td>\n",
       "      <td>333.0</td>\n",
       "      <td>46.0</td>\n",
       "      <td>70.0</td>\n",
       "      <td>10</td>\n",
       "      <td>52</td>\n",
       "      <td>NaT</td>\n",
       "      <td>Краснодар</td>\n",
       "      <td>Рафаил</td>\n",
       "      <td>Верещагин</td>\n",
       "      <td>2018-05-25</td>\n",
       "      <td>ultra</td>\n",
       "      <td>1950.0</td>\n",
       "    </tr>\n",
       "    <tr>\n",
       "      <th>8</th>\n",
       "      <td>1001</td>\n",
       "      <td>11</td>\n",
       "      <td>430.0</td>\n",
       "      <td>59.0</td>\n",
       "      <td>0.0</td>\n",
       "      <td>18</td>\n",
       "      <td>41</td>\n",
       "      <td>NaT</td>\n",
       "      <td>Москва</td>\n",
       "      <td>Иван</td>\n",
       "      <td>Ежов</td>\n",
       "      <td>2018-11-01</td>\n",
       "      <td>smart</td>\n",
       "      <td>1150.0</td>\n",
       "    </tr>\n",
       "    <tr>\n",
       "      <th>9</th>\n",
       "      <td>1001</td>\n",
       "      <td>12</td>\n",
       "      <td>414.0</td>\n",
       "      <td>63.0</td>\n",
       "      <td>0.0</td>\n",
       "      <td>14</td>\n",
       "      <td>41</td>\n",
       "      <td>NaT</td>\n",
       "      <td>Москва</td>\n",
       "      <td>Иван</td>\n",
       "      <td>Ежов</td>\n",
       "      <td>2018-11-01</td>\n",
       "      <td>smart</td>\n",
       "      <td>550.0</td>\n",
       "    </tr>\n",
       "  </tbody>\n",
       "</table>\n",
       "</div>"
      ],
      "text/plain": [
       "   user_id  month  calls_duration  calls_total  messages_total  gb_used  age  \\\n",
       "0     1000      5           159.0         22.0            22.0        3   52   \n",
       "1     1000      6           172.0         43.0            60.0       23   52   \n",
       "2     1000      7           340.0         47.0            75.0       14   52   \n",
       "3     1000      8           408.0         52.0            81.0       14   52   \n",
       "4     1000      9           466.0         58.0            57.0       15   52   \n",
       "5     1000     10           350.0         57.0            73.0       15   52   \n",
       "6     1000     11           338.0         43.0            58.0       15   52   \n",
       "7     1000     12           333.0         46.0            70.0       10   52   \n",
       "8     1001     11           430.0         59.0             0.0       18   41   \n",
       "9     1001     12           414.0         63.0             0.0       14   41   \n",
       "\n",
       "  churn_date       city first_name  last_name   reg_date tariff  profit  \n",
       "0        NaT  Краснодар     Рафаил  Верещагин 2018-05-25  ultra  1950.0  \n",
       "1        NaT  Краснодар     Рафаил  Верещагин 2018-05-25  ultra  1950.0  \n",
       "2        NaT  Краснодар     Рафаил  Верещагин 2018-05-25  ultra  1950.0  \n",
       "3        NaT  Краснодар     Рафаил  Верещагин 2018-05-25  ultra  1950.0  \n",
       "4        NaT  Краснодар     Рафаил  Верещагин 2018-05-25  ultra  1950.0  \n",
       "5        NaT  Краснодар     Рафаил  Верещагин 2018-05-25  ultra  1950.0  \n",
       "6        NaT  Краснодар     Рафаил  Верещагин 2018-05-25  ultra  1950.0  \n",
       "7        NaT  Краснодар     Рафаил  Верещагин 2018-05-25  ultra  1950.0  \n",
       "8        NaT     Москва       Иван       Ежов 2018-11-01  smart  1150.0  \n",
       "9        NaT     Москва       Иван       Ежов 2018-11-01  smart   550.0  "
      ]
     },
     "execution_count": 21,
     "metadata": {},
     "output_type": "execute_result"
    }
   ],
   "source": [
    "#установим названия тарифов в качестве индексов\n",
    "tariffs.set_index('tariff_name', inplace=True)\n",
    "\n",
    "def month_profit(row): \n",
    "\n",
    "    tariff = row['tariff']\n",
    "    tariff_row = tariffs.loc[tariff] \n",
    "\n",
    "#если лимит по тарифу не превышен, т.е. разница будет отрицательной, то переменная примет значение 0\n",
    "    duration_above_limit = max(row['calls_duration'] - tariff_row['minutes_included'], 0)\n",
    "    messages_above_limit = max(row['messages_total'] - tariff_row['messages_included'], 0)\n",
    "    traffic_above_limit = max(row['gb_used'] - (tariff_row['mb_per_month_included'] / 1024), 0)\n",
    "\n",
    "    return ((duration_above_limit * tariff_row['rub_per_minute']) + (messages_above_limit * tariff_row['rub_per_message']) +\n",
    "            (traffic_above_limit * tariff_row['rub_per_gb'])) + tariff_row['rub_monthly_fee']\n",
    "\n",
    "#создаем столбец со значениями-результатами работы функции\n",
    "data['profit'] = data.apply(month_profit, axis=1)\n",
    "data.head(10)"
   ]
  },
  {
   "cell_type": "markdown",
   "id": "ec6d5b3e",
   "metadata": {},
   "source": [
    "## Анализ данных"
   ]
  },
  {
   "cell_type": "markdown",
   "id": "18ac0a82",
   "metadata": {},
   "source": [
    "Создадим два среза в зависимости от тарифа."
   ]
  },
  {
   "cell_type": "code",
   "execution_count": 22,
   "id": "89782457",
   "metadata": {},
   "outputs": [],
   "source": [
    "smart_data = data.query('tariff == \"smart\"').reset_index(drop=True)\n",
    "ultra_data = data.query('tariff == \"ultra\"').reset_index(drop=True)"
   ]
  },
  {
   "cell_type": "markdown",
   "id": "6149359c",
   "metadata": {},
   "source": [
    "Создадим сводную таблицу для тарифа smart, в которой будет среднее всех проговоренных минут, отправленных сообщений и потраченного интернет-трафика пользователями тарифа по месяцам. Затем найдем среднее, стандартное отклонение и дисперсию исследуемых значений."
   ]
  },
  {
   "cell_type": "code",
   "execution_count": 23,
   "id": "4d9801c9",
   "metadata": {},
   "outputs": [
    {
     "data": {
      "text/html": [
       "<div>\n",
       "<style scoped>\n",
       "    .dataframe tbody tr th:only-of-type {\n",
       "        vertical-align: middle;\n",
       "    }\n",
       "\n",
       "    .dataframe tbody tr th {\n",
       "        vertical-align: top;\n",
       "    }\n",
       "\n",
       "    .dataframe thead th {\n",
       "        text-align: right;\n",
       "    }\n",
       "</style>\n",
       "<table border=\"1\" class=\"dataframe\">\n",
       "  <thead>\n",
       "    <tr style=\"text-align: right;\">\n",
       "      <th></th>\n",
       "      <th></th>\n",
       "      <th>calls_duration</th>\n",
       "      <th>gb_used</th>\n",
       "      <th>messages_total</th>\n",
       "      <th>profit</th>\n",
       "      <th>user_id</th>\n",
       "    </tr>\n",
       "    <tr>\n",
       "      <th>month</th>\n",
       "      <th>tariff</th>\n",
       "      <th></th>\n",
       "      <th></th>\n",
       "      <th></th>\n",
       "      <th></th>\n",
       "      <th></th>\n",
       "    </tr>\n",
       "  </thead>\n",
       "  <tbody>\n",
       "    <tr>\n",
       "      <th>1</th>\n",
       "      <th>smart</th>\n",
       "      <td>203.852941</td>\n",
       "      <td>8.735294</td>\n",
       "      <td>18.235294</td>\n",
       "      <td>721.323529</td>\n",
       "      <td>34</td>\n",
       "    </tr>\n",
       "    <tr>\n",
       "      <th>2</th>\n",
       "      <th>smart</th>\n",
       "      <td>298.689655</td>\n",
       "      <td>11.844828</td>\n",
       "      <td>24.086207</td>\n",
       "      <td>827.603448</td>\n",
       "      <td>58</td>\n",
       "    </tr>\n",
       "    <tr>\n",
       "      <th>3</th>\n",
       "      <th>smart</th>\n",
       "      <td>390.051948</td>\n",
       "      <td>15.233766</td>\n",
       "      <td>31.857143</td>\n",
       "      <td>1164.623377</td>\n",
       "      <td>77</td>\n",
       "    </tr>\n",
       "    <tr>\n",
       "      <th>4</th>\n",
       "      <th>smart</th>\n",
       "      <td>367.133929</td>\n",
       "      <td>13.625000</td>\n",
       "      <td>30.741071</td>\n",
       "      <td>963.089286</td>\n",
       "      <td>112</td>\n",
       "    </tr>\n",
       "    <tr>\n",
       "      <th>5</th>\n",
       "      <th>smart</th>\n",
       "      <td>387.361702</td>\n",
       "      <td>15.907801</td>\n",
       "      <td>33.773050</td>\n",
       "      <td>1197.510638</td>\n",
       "      <td>141</td>\n",
       "    </tr>\n",
       "    <tr>\n",
       "      <th>6</th>\n",
       "      <th>smart</th>\n",
       "      <td>395.640244</td>\n",
       "      <td>15.951220</td>\n",
       "      <td>33.402439</td>\n",
       "      <td>1204.018293</td>\n",
       "      <td>164</td>\n",
       "    </tr>\n",
       "    <tr>\n",
       "      <th>7</th>\n",
       "      <th>smart</th>\n",
       "      <td>408.353234</td>\n",
       "      <td>15.875622</td>\n",
       "      <td>33.751244</td>\n",
       "      <td>1223.950249</td>\n",
       "      <td>201</td>\n",
       "    </tr>\n",
       "    <tr>\n",
       "      <th>8</th>\n",
       "      <th>smart</th>\n",
       "      <td>421.468085</td>\n",
       "      <td>16.736170</td>\n",
       "      <td>33.638298</td>\n",
       "      <td>1320.595745</td>\n",
       "      <td>235</td>\n",
       "    </tr>\n",
       "    <tr>\n",
       "      <th>9</th>\n",
       "      <th>smart</th>\n",
       "      <td>428.611538</td>\n",
       "      <td>16.392308</td>\n",
       "      <td>33.638462</td>\n",
       "      <td>1249.946154</td>\n",
       "      <td>260</td>\n",
       "    </tr>\n",
       "    <tr>\n",
       "      <th>10</th>\n",
       "      <th>smart</th>\n",
       "      <td>426.136054</td>\n",
       "      <td>16.880952</td>\n",
       "      <td>33.765306</td>\n",
       "      <td>1364.853741</td>\n",
       "      <td>294</td>\n",
       "    </tr>\n",
       "    <tr>\n",
       "      <th>11</th>\n",
       "      <th>smart</th>\n",
       "      <td>435.265823</td>\n",
       "      <td>17.000000</td>\n",
       "      <td>34.075949</td>\n",
       "      <td>1343.047468</td>\n",
       "      <td>316</td>\n",
       "    </tr>\n",
       "    <tr>\n",
       "      <th>12</th>\n",
       "      <th>smart</th>\n",
       "      <td>478.560831</td>\n",
       "      <td>18.201780</td>\n",
       "      <td>35.994065</td>\n",
       "      <td>1578.531157</td>\n",
       "      <td>337</td>\n",
       "    </tr>\n",
       "  </tbody>\n",
       "</table>\n",
       "</div>"
      ],
      "text/plain": [
       "              calls_duration    gb_used  messages_total       profit  user_id\n",
       "month tariff                                                                 \n",
       "1     smart       203.852941   8.735294       18.235294   721.323529       34\n",
       "2     smart       298.689655  11.844828       24.086207   827.603448       58\n",
       "3     smart       390.051948  15.233766       31.857143  1164.623377       77\n",
       "4     smart       367.133929  13.625000       30.741071   963.089286      112\n",
       "5     smart       387.361702  15.907801       33.773050  1197.510638      141\n",
       "6     smart       395.640244  15.951220       33.402439  1204.018293      164\n",
       "7     smart       408.353234  15.875622       33.751244  1223.950249      201\n",
       "8     smart       421.468085  16.736170       33.638298  1320.595745      235\n",
       "9     smart       428.611538  16.392308       33.638462  1249.946154      260\n",
       "10    smart       426.136054  16.880952       33.765306  1364.853741      294\n",
       "11    smart       435.265823  17.000000       34.075949  1343.047468      316\n",
       "12    smart       478.560831  18.201780       35.994065  1578.531157      337"
      ]
     },
     "metadata": {},
     "output_type": "display_data"
    },
    {
     "name": "stdout",
     "output_type": "stream",
     "text": [
      "\n",
      "Минут разговора в среднем в месяц: 386.76049870568664\n",
      "Стандартное отклонение минут разговора: 72.26200398840187\n",
      "Дисперсия минут разговора: 5221.797220419808\n",
      "\n",
      "Количество сообщений в среднем в месяц: 31.413210661085547\n",
      "Стандартное отклонение количества сообщений: 5.103413278609601\n",
      "Дисперсия количества сообщений: 26.044827092288795\n",
      "\n",
      "Гигабайт интернета в среднем в месяц: 15.19872845502155\n",
      "Стандартное отклонение гигабайт интернета: 2.6269725315358126\n",
      "Дисперсия гигабайт интернета: 6.900984681443676\n"
     ]
    }
   ],
   "source": [
    "smart_data_pivot = smart_data.pivot_table(index = ['month', 'tariff'], values = \n",
    "                ['calls_duration', 'messages_total', 'gb_used', 'user_id', 'profit'], aggfunc = {'calls_duration' : 'mean',\n",
    "                'messages_total' : 'mean', 'gb_used' : 'mean', 'profit' : 'mean', 'user_id' : 'count'})\n",
    "display(smart_data_pivot)\n",
    "print('')\n",
    "print('Минут разговора в среднем в месяц:', smart_data_pivot['calls_duration'].describe()['mean'])\n",
    "print('Стандартное отклонение минут разговора:', smart_data_pivot['calls_duration'].describe()['std'])\n",
    "print('Дисперсия минут разговора:', smart_data_pivot['calls_duration'].describe()['std'] ** 2)\n",
    "print('')\n",
    "print('Количество сообщений в среднем в месяц:', smart_data_pivot['messages_total'].describe()['mean'])\n",
    "print('Стандартное отклонение количества сообщений:', smart_data_pivot['messages_total'].describe()['std'])\n",
    "print('Дисперсия количества сообщений:', smart_data_pivot['messages_total'].describe()['std'] ** 2)\n",
    "print('')\n",
    "print('Гигабайт интернета в среднем в месяц:', smart_data_pivot['gb_used'].describe()['mean'])\n",
    "print('Стандартное отклонение гигабайт интернета:', smart_data_pivot['gb_used'].describe()['std'])\n",
    "print('Дисперсия гигабайт интернета:', smart_data_pivot['gb_used'].describe()['std'] ** 2)"
   ]
  },
  {
   "cell_type": "markdown",
   "id": "729f9ae5",
   "metadata": {},
   "source": [
    "Проделаем все то же самое для тарифа ultra. Создадим сводную таблицу, в которой будет среднее всех проговоренных минут, отправленных сообщений и потраченного интернет-трафика пользователями тарифа по месяцам. Затем найдем среднее, стандартное отклонение и дисперсию исследуемых значений."
   ]
  },
  {
   "cell_type": "code",
   "execution_count": 24,
   "id": "8afea52d",
   "metadata": {},
   "outputs": [
    {
     "data": {
      "text/html": [
       "<div>\n",
       "<style scoped>\n",
       "    .dataframe tbody tr th:only-of-type {\n",
       "        vertical-align: middle;\n",
       "    }\n",
       "\n",
       "    .dataframe tbody tr th {\n",
       "        vertical-align: top;\n",
       "    }\n",
       "\n",
       "    .dataframe thead th {\n",
       "        text-align: right;\n",
       "    }\n",
       "</style>\n",
       "<table border=\"1\" class=\"dataframe\">\n",
       "  <thead>\n",
       "    <tr style=\"text-align: right;\">\n",
       "      <th></th>\n",
       "      <th></th>\n",
       "      <th>calls_duration</th>\n",
       "      <th>gb_used</th>\n",
       "      <th>messages_total</th>\n",
       "      <th>profit</th>\n",
       "      <th>user_id</th>\n",
       "    </tr>\n",
       "    <tr>\n",
       "      <th>month</th>\n",
       "      <th>tariff</th>\n",
       "      <th></th>\n",
       "      <th></th>\n",
       "      <th></th>\n",
       "      <th></th>\n",
       "      <th></th>\n",
       "    </tr>\n",
       "  </thead>\n",
       "  <tbody>\n",
       "    <tr>\n",
       "      <th>1</th>\n",
       "      <th>ultra</th>\n",
       "      <td>428.111111</td>\n",
       "      <td>13.222222</td>\n",
       "      <td>33.777778</td>\n",
       "      <td>1950.000000</td>\n",
       "      <td>9</td>\n",
       "    </tr>\n",
       "    <tr>\n",
       "      <th>2</th>\n",
       "      <th>ultra</th>\n",
       "      <td>297.125000</td>\n",
       "      <td>12.000000</td>\n",
       "      <td>21.958333</td>\n",
       "      <td>1975.000000</td>\n",
       "      <td>24</td>\n",
       "    </tr>\n",
       "    <tr>\n",
       "      <th>3</th>\n",
       "      <th>ultra</th>\n",
       "      <td>489.648649</td>\n",
       "      <td>17.648649</td>\n",
       "      <td>32.297297</td>\n",
       "      <td>2014.864865</td>\n",
       "      <td>37</td>\n",
       "    </tr>\n",
       "    <tr>\n",
       "      <th>4</th>\n",
       "      <th>ultra</th>\n",
       "      <td>458.018182</td>\n",
       "      <td>16.963636</td>\n",
       "      <td>31.563636</td>\n",
       "      <td>2001.818182</td>\n",
       "      <td>55</td>\n",
       "    </tr>\n",
       "    <tr>\n",
       "      <th>5</th>\n",
       "      <th>ultra</th>\n",
       "      <td>510.328358</td>\n",
       "      <td>19.373134</td>\n",
       "      <td>37.850746</td>\n",
       "      <td>2059.701493</td>\n",
       "      <td>67</td>\n",
       "    </tr>\n",
       "    <tr>\n",
       "      <th>6</th>\n",
       "      <th>ultra</th>\n",
       "      <td>479.702381</td>\n",
       "      <td>18.940476</td>\n",
       "      <td>41.726190</td>\n",
       "      <td>2039.285714</td>\n",
       "      <td>84</td>\n",
       "    </tr>\n",
       "    <tr>\n",
       "      <th>7</th>\n",
       "      <th>ultra</th>\n",
       "      <td>545.791209</td>\n",
       "      <td>20.505495</td>\n",
       "      <td>49.846154</td>\n",
       "      <td>2118.131868</td>\n",
       "      <td>91</td>\n",
       "    </tr>\n",
       "    <tr>\n",
       "      <th>8</th>\n",
       "      <th>ultra</th>\n",
       "      <td>510.775701</td>\n",
       "      <td>19.598131</td>\n",
       "      <td>48.439252</td>\n",
       "      <td>2083.177570</td>\n",
       "      <td>107</td>\n",
       "    </tr>\n",
       "    <tr>\n",
       "      <th>9</th>\n",
       "      <th>ultra</th>\n",
       "      <td>539.443478</td>\n",
       "      <td>19.243478</td>\n",
       "      <td>52.286957</td>\n",
       "      <td>2024.347826</td>\n",
       "      <td>115</td>\n",
       "    </tr>\n",
       "    <tr>\n",
       "      <th>10</th>\n",
       "      <th>ultra</th>\n",
       "      <td>558.081301</td>\n",
       "      <td>20.065041</td>\n",
       "      <td>58.430894</td>\n",
       "      <td>2065.853659</td>\n",
       "      <td>123</td>\n",
       "    </tr>\n",
       "    <tr>\n",
       "      <th>11</th>\n",
       "      <th>ultra</th>\n",
       "      <td>541.380597</td>\n",
       "      <td>19.805970</td>\n",
       "      <td>55.791045</td>\n",
       "      <td>2092.164179</td>\n",
       "      <td>134</td>\n",
       "    </tr>\n",
       "    <tr>\n",
       "      <th>12</th>\n",
       "      <th>ultra</th>\n",
       "      <td>592.805755</td>\n",
       "      <td>21.741007</td>\n",
       "      <td>60.611511</td>\n",
       "      <td>2138.848921</td>\n",
       "      <td>139</td>\n",
       "    </tr>\n",
       "  </tbody>\n",
       "</table>\n",
       "</div>"
      ],
      "text/plain": [
       "              calls_duration    gb_used  messages_total       profit  user_id\n",
       "month tariff                                                                 \n",
       "1     ultra       428.111111  13.222222       33.777778  1950.000000        9\n",
       "2     ultra       297.125000  12.000000       21.958333  1975.000000       24\n",
       "3     ultra       489.648649  17.648649       32.297297  2014.864865       37\n",
       "4     ultra       458.018182  16.963636       31.563636  2001.818182       55\n",
       "5     ultra       510.328358  19.373134       37.850746  2059.701493       67\n",
       "6     ultra       479.702381  18.940476       41.726190  2039.285714       84\n",
       "7     ultra       545.791209  20.505495       49.846154  2118.131868       91\n",
       "8     ultra       510.775701  19.598131       48.439252  2083.177570      107\n",
       "9     ultra       539.443478  19.243478       52.286957  2024.347826      115\n",
       "10    ultra       558.081301  20.065041       58.430894  2065.853659      123\n",
       "11    ultra       541.380597  19.805970       55.791045  2092.164179      134\n",
       "12    ultra       592.805755  21.741007       60.611511  2138.848921      139"
      ]
     },
     "metadata": {},
     "output_type": "display_data"
    },
    {
     "name": "stdout",
     "output_type": "stream",
     "text": [
      "\n",
      "Минут разговора в среднем в месяц на всех пользователей: 495.9343101624627\n",
      "Стандартное отклонение минут разговора: 77.45007182218454\n",
      "Дисперсия минут разговора: 5998.513625261544\n",
      "\n",
      "Количество сообщений в среднем в месяц на всех пользователей: 43.71498284147191\n",
      "Стандартное отклонение количества сообщений: 12.320470269273553\n",
      "Дисперсия количества сообщений: 151.79398765605353\n",
      "\n",
      "Гигабайт интернета в среднем в месяц на всех пользователей: 18.25893661289434\n",
      "Стандартное отклонение гигабайт интернета: 2.921532788081398\n",
      "Дисперсия гигабайт интернета: 8.535353831834666\n"
     ]
    }
   ],
   "source": [
    "ultra_data_pivot = ultra_data.pivot_table(index = ['month', 'tariff'], values = \n",
    "                ['calls_duration', 'messages_total', 'gb_used', 'user_id', 'profit'], aggfunc = {'calls_duration' : 'mean',\n",
    "                'messages_total' : 'mean', 'gb_used' : 'mean', 'profit' : 'mean', 'user_id' : 'count'})\n",
    "display(ultra_data_pivot)\n",
    "print('')\n",
    "print('Минут разговора в среднем в месяц на всех пользователей:', ultra_data_pivot['calls_duration'].describe()['mean'])\n",
    "print('Стандартное отклонение минут разговора:', ultra_data_pivot['calls_duration'].describe()['std'])\n",
    "print('Дисперсия минут разговора:', ultra_data_pivot['calls_duration'].describe()['std'] ** 2)\n",
    "print('')\n",
    "print('Количество сообщений в среднем в месяц на всех пользователей:', ultra_data_pivot['messages_total'].describe()['mean'])\n",
    "print('Стандартное отклонение количества сообщений:', ultra_data_pivot['messages_total'].describe()['std'])\n",
    "print('Дисперсия количества сообщений:', ultra_data_pivot['messages_total'].describe()['std'] ** 2)\n",
    "print('')\n",
    "print('Гигабайт интернета в среднем в месяц на всех пользователей:', ultra_data_pivot['gb_used'].describe()['mean'])\n",
    "print('Стандартное отклонение гигабайт интернета:', ultra_data_pivot['gb_used'].describe()['std'])\n",
    "print('Дисперсия гигабайт интернета:', ultra_data_pivot['gb_used'].describe()['std'] ** 2)"
   ]
  },
  {
   "cell_type": "markdown",
   "id": "621d319d",
   "metadata": {},
   "source": [
    "Построим график, показывающий распределение продолжительности звонков по месяцам и по тарифам."
   ]
  },
  {
   "cell_type": "code",
   "execution_count": 25,
   "id": "963e6d54",
   "metadata": {},
   "outputs": [
    {
     "data": {
      "image/png": "[encoded data removed]",
      "text/plain": [
       "<Figure size 432x288 with 1 Axes>"
      ]
     },
     "metadata": {
      "needs_background": "light"
     },
     "output_type": "display_data"
    }
   ],
   "source": [
    "n=12\n",
    "r = np.arange(n)\n",
    "width = 0.3\n",
    "\n",
    "\n",
    "xvals = smart_data_pivot['calls_duration']\n",
    "bar1 = plt.bar(r, xvals, width, color = 'r')\n",
    "\n",
    "yvals = ultra_data_pivot['calls_duration']\n",
    "bar2 = plt.bar(r + width, yvals, width, color='g')\n",
    "\n",
    "plt.xlabel('Месяц')\n",
    "plt.ylabel('Минуты разговоров')\n",
    "plt.title('Среднее количество минут разговоров в месяц')\n",
    "\n",
    "plt.legend( (bar1, bar2), ('smart', 'ultra') )\n",
    "plt.xticks(r + width/2,['1', '2', '3', '4', '5', '6', '7', '8', '9', '10', '11', '12'])\n",
    "plt.show();"
   ]
  },
  {
   "cell_type": "markdown",
   "id": "8276ea90",
   "metadata": {},
   "source": [
    "Как мы видим из графика, средняя продолжительность разговоров растет от месяца к месяцу по обоим тарифам. В какой-то степени это связано с ростом числа пользователей в целом. Количество минут, потраченных на разговоры, пользователями тарифа ultra в среднем больше, чем у пользователей тарифа smart, потому что по нему установлен более высокий лимит. Для пользователей обоих тарифов в среднем не характерно превышение лимитов, установленных на продолжительность звонков. \n",
    "\n",
    "Теперь построим график, показывающий распределение количества отправленных сообщений (смс) по месяцам и по тарифам."
   ]
  },
  {
   "cell_type": "code",
   "execution_count": 26,
   "id": "42987774",
   "metadata": {},
   "outputs": [
    {
     "data": {
      "image/png": "[encoded data removed]",
      "text/plain": [
       "<Figure size 432x288 with 1 Axes>"
      ]
     },
     "metadata": {
      "needs_background": "light"
     },
     "output_type": "display_data"
    }
   ],
   "source": [
    "n=12\n",
    "r = np.arange(n)\n",
    "width = 0.3\n",
    "\n",
    "\n",
    "xvals = smart_data_pivot['messages_total']\n",
    "bar1 = plt.bar(r, xvals, width, color = 'r')\n",
    "\n",
    "yvals = ultra_data_pivot['messages_total']\n",
    "bar2 = plt.bar(r + width, yvals, width, color='g')\n",
    "\n",
    "plt.xlabel('Месяц')\n",
    "plt.ylabel('Количество смс')\n",
    "plt.title('Среднее количество смс в месяц')\n",
    "\n",
    "plt.legend( (bar1, bar2), ('smart', 'ultra') )\n",
    "plt.xticks(r + width/2,['1', '2', '3', '4', '5', '6', '7', '8', '9', '10', '11', '12'])\n",
    "plt.show();"
   ]
  },
  {
   "cell_type": "markdown",
   "id": "d5e64457",
   "metadata": {},
   "source": [
    "Распределение почти аналогично предыдущему. В течение года наблюдается рост отправленных сообщений в месяц (в среднем). Пользователи тарифа ultra отправляют больше сообщений, но в среднем ни в одном, ни в другом тарифе не прослеживается превышение установленных лимитов.\n",
    "\n",
    "Также построим график распределения среднего использованного объема интернет-трафика по месяцам и тарифам."
   ]
  },
  {
   "cell_type": "code",
   "execution_count": 27,
   "id": "a8f7af66",
   "metadata": {
    "scrolled": true
   },
   "outputs": [
    {
     "data": {
      "image/png": "[encoded data removed]",
      "text/plain": [
       "<Figure size 432x288 with 1 Axes>"
      ]
     },
     "metadata": {
      "needs_background": "light"
     },
     "output_type": "display_data"
    }
   ],
   "source": [
    "n=12\n",
    "r = np.arange(n)\n",
    "width = 0.3\n",
    "\n",
    "\n",
    "xvals = smart_data_pivot['gb_used']\n",
    "bar1 = plt.bar(r, xvals, width, color = 'r')\n",
    "\n",
    "yvals = ultra_data_pivot['gb_used']\n",
    "bar2 = plt.bar(r + width, yvals, width, color='g')\n",
    "\n",
    "plt.xlabel('Месяц')\n",
    "plt.ylabel('Гигабайты')\n",
    "plt.title('Количество использованных гигабайт в месяц')\n",
    "\n",
    "plt.legend( (bar1, bar2), ('smart', 'ultra') )\n",
    "plt.xticks(r + width/2,['1', '2', '3', '4', '5', '6', '7', '8', '9', '10', '11', '12'])\n",
    "plt.show();\n",
    "  "
   ]
  },
  {
   "cell_type": "markdown",
   "id": "49851804",
   "metadata": {},
   "source": [
    "Практически в каждом последующем месяце объем использованного трафика больше, чем в предыдущем. Это справедливо как для пользователей тарифа smart, так и для пользователей тарифа ultra. Пользователи тарифа smart в девяти месяцах из двенадцати в среднем использовали немного больше интернет-трафика, чем включено в их тариф. Пользователи тарифа ultra в среднем не превышали лимит."
   ]
  },
  {
   "cell_type": "markdown",
   "id": "7f0a5c1f",
   "metadata": {},
   "source": [
    "Наконец, построим график распределения средней выручки по месяцам."
   ]
  },
  {
   "cell_type": "code",
   "execution_count": 28,
   "id": "e00d1952",
   "metadata": {},
   "outputs": [
    {
     "data": {
      "image/png": "[encoded data removed]",
      "text/plain": [
       "<Figure size 432x288 with 1 Axes>"
      ]
     },
     "metadata": {
      "needs_background": "light"
     },
     "output_type": "display_data"
    }
   ],
   "source": [
    "n=12\n",
    "r = np.arange(n)\n",
    "width = 0.3\n",
    "\n",
    "\n",
    "xvals = smart_data_pivot['profit']\n",
    "bar1 = plt.bar(r, xvals, width, color = 'r')\n",
    "\n",
    "yvals = ultra_data_pivot['profit']\n",
    "bar2 = plt.bar(r + width, yvals, width, color='g')\n",
    "\n",
    "plt.xlabel('Месяц')\n",
    "plt.ylabel('Выручка')\n",
    "plt.title('Средняя выручка в месяц')\n",
    "\n",
    "plt.legend( (bar1, bar2), ('smart', 'ultra') )\n",
    "plt.xticks(r + width/2,['1', '2', '3', '4', '5', '6', '7', '8', '9', '10', '11', '12'])\n",
    "plt.show();"
   ]
  },
  {
   "cell_type": "markdown",
   "id": "795838ca",
   "metadata": {},
   "source": [
    "Средняя выручка от тарифа ultra в каждом месяце значительно превосходит среднюю выручку от тарифа smart. Если смотреть на динамику средней выручки по месяцам - для тарифа ultra она +/- одинакова, по тарифу smart же наблюдается некоторый рост к концу года."
   ]
  },
  {
   "cell_type": "markdown",
   "id": "cd18f553",
   "metadata": {},
   "source": [
    "## Проверка гипотез"
   ]
  },
  {
   "cell_type": "markdown",
   "id": "3f13d84c",
   "metadata": {},
   "source": [
    "### Гипотеза о средней выручке пользователей тарифов «Ультра» и «Смарт»"
   ]
  },
  {
   "cell_type": "markdown",
   "id": "02e72527",
   "metadata": {},
   "source": [
    "Посчитаем количество пользователей каждого тарифа."
   ]
  },
  {
   "cell_type": "code",
   "execution_count": 29,
   "id": "44fd9dcd",
   "metadata": {},
   "outputs": [
    {
     "data": {
      "text/plain": [
       "smart    351\n",
       "ultra    149\n",
       "Name: tariff, dtype: int64"
      ]
     },
     "execution_count": 29,
     "metadata": {},
     "output_type": "execute_result"
    }
   ],
   "source": [
    "users['tariff'].value_counts()"
   ]
  },
  {
   "cell_type": "markdown",
   "id": "4b14f042",
   "metadata": {},
   "source": [
    "Сформулируем нулевую гипотезу (H₀) — средняя выручка пользователей тарифов \"Ультра\" и \"Смарт\" равна.\n",
    "\n",
    "Альтернативная гипотеза (H₁) — средняя выручка пользователей тарифов \"Ультра\" и \"Смарт\" различается.\n",
    "\n",
    "Для проверки гипотез сравниваем среднее двух генеральных совокупностей методом `scipy.stats.ttest_ind (array1, array2, equal_var)`. Критический уровень статистической значимости зададим 5%."
   ]
  },
  {
   "cell_type": "code",
   "execution_count": 30,
   "id": "2445df61",
   "metadata": {},
   "outputs": [
    {
     "name": "stdout",
     "output_type": "stream",
     "text": [
      "p-значение: 4.2606313931076085e-250\n",
      "Отвергаем нулевую гипотезу\n"
     ]
    }
   ],
   "source": [
    "alpha = 0.05\n",
    "\n",
    "results = st.ttest_ind(smart_data['profit'], ultra_data['profit'], equal_var=False) #equal_var устанавливаем False,  \n",
    "                                                                                    #потому что размеры выборок различаются\n",
    "print('p-значение:', results.pvalue)\n",
    "\n",
    "if results.pvalue < alpha:\n",
    "    print('Отвергаем нулевую гипотезу')\n",
    "else:\n",
    "    print('Не получилось отвергнуть нулевую гипотезу')"
   ]
  },
  {
   "cell_type": "markdown",
   "id": "d09ba2c7",
   "metadata": {},
   "source": [
    "P-value сильно меньше порогового значения alpha, поэтому гипотеза H₀ отвергается. Значит, средняя выручка пользователей тарифов \"Ультра\" и \"Смарт\" различается."
   ]
  },
  {
   "cell_type": "code",
   "execution_count": 31,
   "id": "459d949c",
   "metadata": {},
   "outputs": [
    {
     "data": {
      "text/plain": [
       "tariff\n",
       "smart    1289.973531\n",
       "ultra    2070.152284\n",
       "Name: profit, dtype: float64"
      ]
     },
     "metadata": {},
     "output_type": "display_data"
    }
   ],
   "source": [
    "display(data.groupby(['tariff'])['profit'].mean())"
   ]
  },
  {
   "cell_type": "markdown",
   "id": "ccced425",
   "metadata": {},
   "source": [
    "### Гипотеза о средней выручке пользователей из Москвы "
   ]
  },
  {
   "cell_type": "markdown",
   "id": "9128f930",
   "metadata": {},
   "source": [
    "Сформулируем нулевую гипотезу (H₀) — средняя выручка пользователей из Москвы такая же как средняя выручка пользователей из регионов.\n",
    "\n",
    "Альтернативная гипотеза (H₁) — средняя выручка пользователей из Москвы отличается от средней выручки пользователей из регионов.\n",
    "\n",
    "Для проверки гипотез сравниваем среднее двух генеральных совокупностей методом `scipy.stats.ttest_ind (array1, array2, equal_var)`. Критический уровень статистической значимости зададим 5%."
   ]
  },
  {
   "cell_type": "code",
   "execution_count": 32,
   "id": "00ce97eb",
   "metadata": {},
   "outputs": [
    {
     "name": "stdout",
     "output_type": "stream",
     "text": [
      "p-значение: 0.5257376663729298\n",
      "Не получилось отвергнуть нулевую гипотезу\n"
     ]
    }
   ],
   "source": [
    "#создаем две таблицы: с пользователями из Москвы и из регионов\n",
    "moscow = data[data['city'] == 'Москва']\n",
    "region = data[data['city'] != 'Москва']\n",
    "\n",
    "alpha = 0.05\n",
    "\n",
    "results = st.ttest_ind(moscow['profit'], region['profit'], equal_var=False) #equal_var устанавливаем False,  \n",
    "                                                                            #потому что размеры выборок различаются\n",
    "print('p-значение:', results.pvalue)\n",
    "\n",
    "if results.pvalue < alpha:\n",
    "    print('Отвергаем нулевую гипотезу')\n",
    "else:\n",
    "    print('Не получилось отвергнуть нулевую гипотезу')"
   ]
  },
  {
   "cell_type": "markdown",
   "id": "a1939d8f",
   "metadata": {},
   "source": [
    "Полученное значение p-value говорит о том, что вероятность получить такое или большее различие случайно почти 52%. Это явно слишком большая вероятность, чтобы делать вывод о значимом различии между средними выручками."
   ]
  },
  {
   "cell_type": "code",
   "execution_count": 33,
   "id": "c6111e1d",
   "metadata": {},
   "outputs": [
    {
     "name": "stdout",
     "output_type": "stream",
     "text": [
      "Средняя выручка по Москве: 1546.7135842880523\n",
      "Средняя выручка по регионам: 1524.9362274298885\n"
     ]
    }
   ],
   "source": [
    "print(\"Средняя выручка по Москве:\", moscow['profit'].mean())\n",
    "print(\"Средняя выручка по регионам:\", region['profit'].mean())"
   ]
  },
  {
   "cell_type": "markdown",
   "id": "926aba9a",
   "metadata": {},
   "source": [
    "## Вывод"
   ]
  },
  {
   "cell_type": "markdown",
   "id": "96180424",
   "metadata": {},
   "source": [
    "Мы проверили две гипотезы:\n",
    "\n",
    "1) средняя выручка пользователей тарифов «Ультра» и «Смарт» различается;\n",
    "2) средняя выручка пользователей из Москвы отличается от выручки пользователей из других регионов.\n",
    "\n",
    "Мы установили, что данные не противоречат первой гипотезе, средняя прибыль от пользователей разных тарифов различается. По результатам статистического анализа для оператора средний доход от тарифа «Ультра» составляет 2070 рублей, а от тарифа «Смарт» 1290 рублей. Это можно объяснить тем, что стоимость тарифа «Ультра» почти в три с половиной раза превышает стоимость тарифа «Смарт». Таким образом, для «Мегалайн» выгоднее тариф «Ультра», он приносит больше денег.\n",
    "\n",
    "Что касается второй гипотезы, мы ее отвергли. Нет явной разницы между средними выручками пользователей из Москвы и из регионов.\n",
    "\n",
    "**Дополнительные выводы**\n",
    "\n",
    "Пользователей тарифа «Ультра» в два раза меньше, чем пользователей второго тарифа, что опять же можно объяснить его высокой стоимостью. Пользователи тарифа «Ультра» в среднем не расходуют весь предоставленный пакет минут, сообщений и гигабайт. А пользователям тарифа «Смарт» в среднем не хватает объема интернет-трафика."
   ]
  }
 ],
 "metadata": {
  "kernelspec": {
   "display_name": "Python 3 (ipykernel)",
   "language": "python",
   "name": "python3"
  },
  "language_info": {
   "codemirror_mode": {
    "name": "ipython",
    "version": 3
   },
   "file_extension": ".py",
   "mimetype": "text/x-python",
   "name": "python",
   "nbconvert_exporter": "python",
   "pygments_lexer": "ipython3",
   "version": "3.9.12"
  },
  "toc": {
   "base_numbering": 1,
   "nav_menu": {},
   "number_sections": true,
   "sideBar": true,
   "skip_h1_title": true,
   "title_cell": "Table of Contents",
   "title_sidebar": "Contents",
   "toc_cell": false,
   "toc_position": {},
   "toc_section_display": true,
   "toc_window_display": false
  }
 },
 "nbformat": 4,
 "nbformat_minor": 5
}
