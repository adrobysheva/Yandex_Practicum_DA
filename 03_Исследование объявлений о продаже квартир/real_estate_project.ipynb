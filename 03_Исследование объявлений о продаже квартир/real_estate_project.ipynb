{
 "cells": [
  {
   "cell_type": "markdown",
   "id": "19fb9f61",
   "metadata": {},
   "source": [
    "# Исследование объявлений о продаже квартир"
   ]
  },
  {
   "cell_type": "markdown",
   "id": "d6b1cad0",
   "metadata": {},
   "source": [
    "**Цель исследования** - установить, какие параметры определяют рыночную стоимость объектов недвижимости. \n",
    "\n",
    "Необходимо ответить на ряд вопросов:\n",
    "- Сколько в среднем занимает продажа квартиры?\n",
    "- В каких населенных пунктах самая высокая и низкая стоимость жилья?\n",
    "- Какие факторы больше всего влияют на стоимость квартиры? \n",
    "- Какие факторы влияют на стоимость квартиры в Санкт-Петербурге? Насколько сильно они отличаются от общих выводов по всей базе?\n",
    "\n",
    "**Ход исследования**\n",
    "\n",
    "Исходные данные - данные сервиса \"Яндекс Недвижимость\" — архив объявлений о продаже квартир в Санкт-Петербурге и соседних населённых пунктах за несколько лет. О качестве данных ничего не известно. Поэтому перед проверкой гипотез понадобится обзор данных.\n",
    "\n",
    "Необходимо проверить данные на ошибки и оценить их влияние на исследование. Затем, на этапе предобработки нужно исправить самые критичные ошибки данных, а также добавить недостающие показатели.\n",
    "\n",
    "Таким образом, исследование пройдёт в четыре этапа:\n",
    "\n",
    "- Обзор данных.\n",
    "- Предобработка данных.\n",
    "- Расчет необходимых показателей.\n",
    "- Определение зависимостей и ответ на вопросы."
   ]
  },
  {
   "cell_type": "markdown",
   "id": "47f48fe6",
   "metadata": {},
   "source": [
    "## Обзор данных"
   ]
  },
  {
   "cell_type": "markdown",
   "id": "9443b057",
   "metadata": {},
   "source": [
    "Импортируем библиотеки `pandas` и `matplotlib`."
   ]
  },
  {
   "cell_type": "code",
   "execution_count": 1,
   "id": "b67e1a79",
   "metadata": {},
   "outputs": [],
   "source": [
    "import pandas as pd\n",
    "import matplotlib.pyplot as plt"
   ]
  },
  {
   "cell_type": "markdown",
   "id": "b6e6badc",
   "metadata": {},
   "source": [
    "Читаем файл `real_estate_data.csv` и сохраняем его в переменной `data`:"
   ]
  },
  {
   "cell_type": "code",
   "execution_count": 2,
   "id": "f65569fa",
   "metadata": {},
   "outputs": [],
   "source": [
    "try:\n",
    "    data = pd.read_csv(r'C:\\Users\\м\\Documents\\Data\\real_estate_data.csv', sep='\\t', decimal=',')\n",
    "except:\n",
    "    data = pd.read_csv('/datasets/real_estate_data.csv', sep='\\t', decimal=',')"
   ]
  },
  {
   "cell_type": "markdown",
   "id": "6544e500",
   "metadata": {},
   "source": [
    "Выводим первые десять строк таблицы `data` на экран:"
   ]
  },
  {
   "cell_type": "code",
   "execution_count": 3,
   "id": "7b7a84e7",
   "metadata": {},
   "outputs": [
    {
     "data": {
      "text/html": [
       "<div>\n",
       "<style scoped>\n",
       "    .dataframe tbody tr th:only-of-type {\n",
       "        vertical-align: middle;\n",
       "    }\n",
       "\n",
       "    .dataframe tbody tr th {\n",
       "        vertical-align: top;\n",
       "    }\n",
       "\n",
       "    .dataframe thead th {\n",
       "        text-align: right;\n",
       "    }\n",
       "</style>\n",
       "<table border=\"1\" class=\"dataframe\">\n",
       "  <thead>\n",
       "    <tr style=\"text-align: right;\">\n",
       "      <th></th>\n",
       "      <th>total_images</th>\n",
       "      <th>last_price</th>\n",
       "      <th>total_area</th>\n",
       "      <th>first_day_exposition</th>\n",
       "      <th>rooms</th>\n",
       "      <th>ceiling_height</th>\n",
       "      <th>floors_total</th>\n",
       "      <th>living_area</th>\n",
       "      <th>floor</th>\n",
       "      <th>is_apartment</th>\n",
       "      <th>...</th>\n",
       "      <th>kitchen_area</th>\n",
       "      <th>balcony</th>\n",
       "      <th>locality_name</th>\n",
       "      <th>airports_nearest</th>\n",
       "      <th>cityCenters_nearest</th>\n",
       "      <th>parks_around3000</th>\n",
       "      <th>parks_nearest</th>\n",
       "      <th>ponds_around3000</th>\n",
       "      <th>ponds_nearest</th>\n",
       "      <th>days_exposition</th>\n",
       "    </tr>\n",
       "  </thead>\n",
       "  <tbody>\n",
       "    <tr>\n",
       "      <th>0</th>\n",
       "      <td>20</td>\n",
       "      <td>13000000.0</td>\n",
       "      <td>108.0</td>\n",
       "      <td>2019-03-07T00:00:00</td>\n",
       "      <td>3</td>\n",
       "      <td>2.7</td>\n",
       "      <td>16.0</td>\n",
       "      <td>51.0</td>\n",
       "      <td>8</td>\n",
       "      <td>NaN</td>\n",
       "      <td>...</td>\n",
       "      <td>25.0</td>\n",
       "      <td>NaN</td>\n",
       "      <td>Санкт-Петербург</td>\n",
       "      <td>18863.0</td>\n",
       "      <td>16028.0</td>\n",
       "      <td>1.0</td>\n",
       "      <td>482.0</td>\n",
       "      <td>2.0</td>\n",
       "      <td>755.0</td>\n",
       "      <td>NaN</td>\n",
       "    </tr>\n",
       "    <tr>\n",
       "      <th>1</th>\n",
       "      <td>7</td>\n",
       "      <td>3350000.0</td>\n",
       "      <td>40.4</td>\n",
       "      <td>2018-12-04T00:00:00</td>\n",
       "      <td>1</td>\n",
       "      <td>NaN</td>\n",
       "      <td>11.0</td>\n",
       "      <td>18.6</td>\n",
       "      <td>1</td>\n",
       "      <td>NaN</td>\n",
       "      <td>...</td>\n",
       "      <td>11.0</td>\n",
       "      <td>2.0</td>\n",
       "      <td>посёлок Шушары</td>\n",
       "      <td>12817.0</td>\n",
       "      <td>18603.0</td>\n",
       "      <td>0.0</td>\n",
       "      <td>NaN</td>\n",
       "      <td>0.0</td>\n",
       "      <td>NaN</td>\n",
       "      <td>81.0</td>\n",
       "    </tr>\n",
       "    <tr>\n",
       "      <th>2</th>\n",
       "      <td>10</td>\n",
       "      <td>5196000.0</td>\n",
       "      <td>56.0</td>\n",
       "      <td>2015-08-20T00:00:00</td>\n",
       "      <td>2</td>\n",
       "      <td>NaN</td>\n",
       "      <td>5.0</td>\n",
       "      <td>34.3</td>\n",
       "      <td>4</td>\n",
       "      <td>NaN</td>\n",
       "      <td>...</td>\n",
       "      <td>8.3</td>\n",
       "      <td>0.0</td>\n",
       "      <td>Санкт-Петербург</td>\n",
       "      <td>21741.0</td>\n",
       "      <td>13933.0</td>\n",
       "      <td>1.0</td>\n",
       "      <td>90.0</td>\n",
       "      <td>2.0</td>\n",
       "      <td>574.0</td>\n",
       "      <td>558.0</td>\n",
       "    </tr>\n",
       "    <tr>\n",
       "      <th>3</th>\n",
       "      <td>0</td>\n",
       "      <td>64900000.0</td>\n",
       "      <td>159.0</td>\n",
       "      <td>2015-07-24T00:00:00</td>\n",
       "      <td>3</td>\n",
       "      <td>NaN</td>\n",
       "      <td>14.0</td>\n",
       "      <td>NaN</td>\n",
       "      <td>9</td>\n",
       "      <td>NaN</td>\n",
       "      <td>...</td>\n",
       "      <td>NaN</td>\n",
       "      <td>0.0</td>\n",
       "      <td>Санкт-Петербург</td>\n",
       "      <td>28098.0</td>\n",
       "      <td>6800.0</td>\n",
       "      <td>2.0</td>\n",
       "      <td>84.0</td>\n",
       "      <td>3.0</td>\n",
       "      <td>234.0</td>\n",
       "      <td>424.0</td>\n",
       "    </tr>\n",
       "    <tr>\n",
       "      <th>4</th>\n",
       "      <td>2</td>\n",
       "      <td>10000000.0</td>\n",
       "      <td>100.0</td>\n",
       "      <td>2018-06-19T00:00:00</td>\n",
       "      <td>2</td>\n",
       "      <td>3.03</td>\n",
       "      <td>14.0</td>\n",
       "      <td>32.0</td>\n",
       "      <td>13</td>\n",
       "      <td>NaN</td>\n",
       "      <td>...</td>\n",
       "      <td>41.0</td>\n",
       "      <td>NaN</td>\n",
       "      <td>Санкт-Петербург</td>\n",
       "      <td>31856.0</td>\n",
       "      <td>8098.0</td>\n",
       "      <td>2.0</td>\n",
       "      <td>112.0</td>\n",
       "      <td>1.0</td>\n",
       "      <td>48.0</td>\n",
       "      <td>121.0</td>\n",
       "    </tr>\n",
       "    <tr>\n",
       "      <th>5</th>\n",
       "      <td>10</td>\n",
       "      <td>2890000.0</td>\n",
       "      <td>30.4</td>\n",
       "      <td>2018-09-10T00:00:00</td>\n",
       "      <td>1</td>\n",
       "      <td>NaN</td>\n",
       "      <td>12.0</td>\n",
       "      <td>14.4</td>\n",
       "      <td>5</td>\n",
       "      <td>NaN</td>\n",
       "      <td>...</td>\n",
       "      <td>9.1</td>\n",
       "      <td>NaN</td>\n",
       "      <td>городской посёлок Янино-1</td>\n",
       "      <td>NaN</td>\n",
       "      <td>NaN</td>\n",
       "      <td>NaN</td>\n",
       "      <td>NaN</td>\n",
       "      <td>NaN</td>\n",
       "      <td>NaN</td>\n",
       "      <td>55.0</td>\n",
       "    </tr>\n",
       "    <tr>\n",
       "      <th>6</th>\n",
       "      <td>6</td>\n",
       "      <td>3700000.0</td>\n",
       "      <td>37.3</td>\n",
       "      <td>2017-11-02T00:00:00</td>\n",
       "      <td>1</td>\n",
       "      <td>NaN</td>\n",
       "      <td>26.0</td>\n",
       "      <td>10.6</td>\n",
       "      <td>6</td>\n",
       "      <td>NaN</td>\n",
       "      <td>...</td>\n",
       "      <td>14.4</td>\n",
       "      <td>1.0</td>\n",
       "      <td>посёлок Парголово</td>\n",
       "      <td>52996.0</td>\n",
       "      <td>19143.0</td>\n",
       "      <td>0.0</td>\n",
       "      <td>NaN</td>\n",
       "      <td>0.0</td>\n",
       "      <td>NaN</td>\n",
       "      <td>155.0</td>\n",
       "    </tr>\n",
       "    <tr>\n",
       "      <th>7</th>\n",
       "      <td>5</td>\n",
       "      <td>7915000.0</td>\n",
       "      <td>71.6</td>\n",
       "      <td>2019-04-18T00:00:00</td>\n",
       "      <td>2</td>\n",
       "      <td>NaN</td>\n",
       "      <td>24.0</td>\n",
       "      <td>NaN</td>\n",
       "      <td>22</td>\n",
       "      <td>NaN</td>\n",
       "      <td>...</td>\n",
       "      <td>18.9</td>\n",
       "      <td>2.0</td>\n",
       "      <td>Санкт-Петербург</td>\n",
       "      <td>23982.0</td>\n",
       "      <td>11634.0</td>\n",
       "      <td>0.0</td>\n",
       "      <td>NaN</td>\n",
       "      <td>0.0</td>\n",
       "      <td>NaN</td>\n",
       "      <td>NaN</td>\n",
       "    </tr>\n",
       "    <tr>\n",
       "      <th>8</th>\n",
       "      <td>20</td>\n",
       "      <td>2900000.0</td>\n",
       "      <td>33.16</td>\n",
       "      <td>2018-05-23T00:00:00</td>\n",
       "      <td>1</td>\n",
       "      <td>NaN</td>\n",
       "      <td>27.0</td>\n",
       "      <td>15.43</td>\n",
       "      <td>26</td>\n",
       "      <td>NaN</td>\n",
       "      <td>...</td>\n",
       "      <td>8.81</td>\n",
       "      <td>NaN</td>\n",
       "      <td>посёлок Мурино</td>\n",
       "      <td>NaN</td>\n",
       "      <td>NaN</td>\n",
       "      <td>NaN</td>\n",
       "      <td>NaN</td>\n",
       "      <td>NaN</td>\n",
       "      <td>NaN</td>\n",
       "      <td>189.00000000000003</td>\n",
       "    </tr>\n",
       "    <tr>\n",
       "      <th>9</th>\n",
       "      <td>18</td>\n",
       "      <td>5400000.0</td>\n",
       "      <td>61.0</td>\n",
       "      <td>2017-02-26T00:00:00</td>\n",
       "      <td>3</td>\n",
       "      <td>2.5</td>\n",
       "      <td>9.0</td>\n",
       "      <td>43.6</td>\n",
       "      <td>7</td>\n",
       "      <td>NaN</td>\n",
       "      <td>...</td>\n",
       "      <td>6.5</td>\n",
       "      <td>2.0</td>\n",
       "      <td>Санкт-Петербург</td>\n",
       "      <td>50898.0</td>\n",
       "      <td>15008.0</td>\n",
       "      <td>0.0</td>\n",
       "      <td>NaN</td>\n",
       "      <td>0.0</td>\n",
       "      <td>NaN</td>\n",
       "      <td>289.0</td>\n",
       "    </tr>\n",
       "  </tbody>\n",
       "</table>\n",
       "<p>10 rows × 22 columns</p>\n",
       "</div>"
      ],
      "text/plain": [
       "   total_images  last_price total_area first_day_exposition  rooms  \\\n",
       "0            20  13000000.0      108.0  2019-03-07T00:00:00      3   \n",
       "1             7   3350000.0       40.4  2018-12-04T00:00:00      1   \n",
       "2            10   5196000.0       56.0  2015-08-20T00:00:00      2   \n",
       "3             0  64900000.0      159.0  2015-07-24T00:00:00      3   \n",
       "4             2  10000000.0      100.0  2018-06-19T00:00:00      2   \n",
       "5            10   2890000.0       30.4  2018-09-10T00:00:00      1   \n",
       "6             6   3700000.0       37.3  2017-11-02T00:00:00      1   \n",
       "7             5   7915000.0       71.6  2019-04-18T00:00:00      2   \n",
       "8            20   2900000.0      33.16  2018-05-23T00:00:00      1   \n",
       "9            18   5400000.0       61.0  2017-02-26T00:00:00      3   \n",
       "\n",
       "  ceiling_height floors_total living_area  floor is_apartment  ...  \\\n",
       "0            2.7         16.0        51.0      8          NaN  ...   \n",
       "1            NaN         11.0        18.6      1          NaN  ...   \n",
       "2            NaN          5.0        34.3      4          NaN  ...   \n",
       "3            NaN         14.0         NaN      9          NaN  ...   \n",
       "4           3.03         14.0        32.0     13          NaN  ...   \n",
       "5            NaN         12.0        14.4      5          NaN  ...   \n",
       "6            NaN         26.0        10.6      6          NaN  ...   \n",
       "7            NaN         24.0         NaN     22          NaN  ...   \n",
       "8            NaN         27.0       15.43     26          NaN  ...   \n",
       "9            2.5          9.0        43.6      7          NaN  ...   \n",
       "\n",
       "   kitchen_area  balcony              locality_name airports_nearest  \\\n",
       "0          25.0      NaN            Санкт-Петербург          18863.0   \n",
       "1          11.0      2.0             посёлок Шушары          12817.0   \n",
       "2           8.3      0.0            Санкт-Петербург          21741.0   \n",
       "3           NaN      0.0            Санкт-Петербург          28098.0   \n",
       "4          41.0      NaN            Санкт-Петербург          31856.0   \n",
       "5           9.1      NaN  городской посёлок Янино-1              NaN   \n",
       "6          14.4      1.0          посёлок Парголово          52996.0   \n",
       "7          18.9      2.0            Санкт-Петербург          23982.0   \n",
       "8          8.81      NaN             посёлок Мурино              NaN   \n",
       "9           6.5      2.0            Санкт-Петербург          50898.0   \n",
       "\n",
       "  cityCenters_nearest parks_around3000 parks_nearest ponds_around3000  \\\n",
       "0             16028.0              1.0         482.0              2.0   \n",
       "1             18603.0              0.0           NaN              0.0   \n",
       "2             13933.0              1.0          90.0              2.0   \n",
       "3              6800.0              2.0          84.0              3.0   \n",
       "4              8098.0              2.0         112.0              1.0   \n",
       "5                 NaN              NaN           NaN              NaN   \n",
       "6             19143.0              0.0           NaN              0.0   \n",
       "7             11634.0              0.0           NaN              0.0   \n",
       "8                 NaN              NaN           NaN              NaN   \n",
       "9             15008.0              0.0           NaN              0.0   \n",
       "\n",
       "  ponds_nearest     days_exposition  \n",
       "0         755.0                 NaN  \n",
       "1           NaN                81.0  \n",
       "2         574.0               558.0  \n",
       "3         234.0               424.0  \n",
       "4          48.0               121.0  \n",
       "5           NaN                55.0  \n",
       "6           NaN               155.0  \n",
       "7           NaN                 NaN  \n",
       "8           NaN  189.00000000000003  \n",
       "9           NaN               289.0  \n",
       "\n",
       "[10 rows x 22 columns]"
      ]
     },
     "execution_count": 3,
     "metadata": {},
     "output_type": "execute_result"
    }
   ],
   "source": [
    "data.head(10)"
   ]
  },
  {
   "cell_type": "markdown",
   "id": "53bfdfcd",
   "metadata": {},
   "source": [
    "Получаем общую информацию о таблице:"
   ]
  },
  {
   "cell_type": "code",
   "execution_count": 4,
   "id": "b96dbe83",
   "metadata": {},
   "outputs": [
    {
     "name": "stdout",
     "output_type": "stream",
     "text": [
      "<class 'pandas.core.frame.DataFrame'>\n",
      "RangeIndex: 23699 entries, 0 to 23698\n",
      "Data columns (total 22 columns):\n",
      " #   Column                Non-Null Count  Dtype \n",
      "---  ------                --------------  ----- \n",
      " 0   total_images          23699 non-null  int64 \n",
      " 1   last_price            23699 non-null  object\n",
      " 2   total_area            23699 non-null  object\n",
      " 3   first_day_exposition  23699 non-null  object\n",
      " 4   rooms                 23699 non-null  int64 \n",
      " 5   ceiling_height        14504 non-null  object\n",
      " 6   floors_total          23613 non-null  object\n",
      " 7   living_area           21796 non-null  object\n",
      " 8   floor                 23699 non-null  int64 \n",
      " 9   is_apartment          2775 non-null   object\n",
      " 10  studio                23699 non-null  bool  \n",
      " 11  open_plan             23699 non-null  bool  \n",
      " 12  kitchen_area          21421 non-null  object\n",
      " 13  balcony               12180 non-null  object\n",
      " 14  locality_name         23650 non-null  object\n",
      " 15  airports_nearest      18157 non-null  object\n",
      " 16  cityCenters_nearest   18180 non-null  object\n",
      " 17  parks_around3000      18181 non-null  object\n",
      " 18  parks_nearest         8079 non-null   object\n",
      " 19  ponds_around3000      18181 non-null  object\n",
      " 20  ponds_nearest         9110 non-null   object\n",
      " 21  days_exposition       20518 non-null  object\n",
      "dtypes: bool(2), int64(3), object(17)\n",
      "memory usage: 3.7+ MB\n"
     ]
    }
   ],
   "source": [
    "data.info()"
   ]
  },
  {
   "cell_type": "markdown",
   "id": "c81de44c",
   "metadata": {},
   "source": [
    "В таблице 22 столбца. Согласно документации к данным:\n",
    "\n",
    "- `airports_nearest` — расстояние до ближайшего аэропорта в метрах (м)\n",
    "- `balcony` — число балконов\n",
    "- `ceiling_height` — высота потолков (м)\n",
    "- `cityCenters_nearest` — расстояние до центра города (м)\n",
    "- `days_exposition` — сколько дней было размещено объявление (от публикации до снятия)\n",
    "- `first_day_exposition` — дата публикации\n",
    "- `floor` — этаж\n",
    "- `floors_total` — всего этажей в доме\n",
    "- `is_apartment` — апартаменты (булев тип)\n",
    "- `kitchen_area` — площадь кухни в квадратных метрах (м²)\n",
    "- `last_price` — цена на момент снятия с публикации\n",
    "- `living_area` — жилая площадь в квадратных метрах (м²)\n",
    "- `locality_name` — название населённого пункта\n",
    "- `open_plan` — свободная планировка (булев тип)\n",
    "- `parks_around3000` — число парков в радиусе 3 км\n",
    "- `parks_nearest` — расстояние до ближайшего парка (м)\n",
    "- `ponds_around3000` — число водоёмов в радиусе 3 км\n",
    "- `ponds_nearest` — расстояние до ближайшего водоёма (м)\n",
    "- `rooms` — число комнат\n",
    "- `studio` — квартира-студия (булев тип)\n",
    "- `total_area` — площадь квартиры в квадратных метрах (м²)\n",
    "- `total_images` — число фотографий квартиры в объявлении\n",
    "\n",
    "Количество значений в столбцах различается. Значит, в данных есть пропущенные значения. Также похоже, что предполагаемый тип данных не во всех столбцах совпадает с реальным."
   ]
  },
  {
   "cell_type": "markdown",
   "id": "65407321",
   "metadata": {},
   "source": [
    "Нужно устранить проблемы в данных."
   ]
  },
  {
   "cell_type": "markdown",
   "id": "e16f9974",
   "metadata": {},
   "source": [
    "## Предобработка данных"
   ]
  },
  {
   "cell_type": "markdown",
   "id": "5075c68d",
   "metadata": {},
   "source": [
    "### Работа с типами данных и пропусками"
   ]
  },
  {
   "cell_type": "markdown",
   "id": "96dd7677",
   "metadata": {},
   "source": [
    "Посчитаем, сколько в таблице пропущенных значений:"
   ]
  },
  {
   "cell_type": "code",
   "execution_count": 5,
   "id": "f53f8edc",
   "metadata": {},
   "outputs": [
    {
     "data": {
      "text/plain": [
       "total_images                0\n",
       "last_price                  0\n",
       "total_area                  0\n",
       "first_day_exposition        0\n",
       "rooms                       0\n",
       "ceiling_height           9195\n",
       "floors_total               86\n",
       "living_area              1903\n",
       "floor                       0\n",
       "is_apartment            20924\n",
       "studio                      0\n",
       "open_plan                   0\n",
       "kitchen_area             2278\n",
       "balcony                 11519\n",
       "locality_name              49\n",
       "airports_nearest         5542\n",
       "cityCenters_nearest      5519\n",
       "parks_around3000         5518\n",
       "parks_nearest           15620\n",
       "ponds_around3000         5518\n",
       "ponds_nearest           14589\n",
       "days_exposition          3181\n",
       "dtype: int64"
      ]
     },
     "execution_count": 5,
     "metadata": {},
     "output_type": "execute_result"
    }
   ],
   "source": [
    "data.isna().sum()"
   ]
  },
  {
   "cell_type": "markdown",
   "id": "acee5ddf",
   "metadata": {},
   "source": [
    "Избавимся от пропущенных значений в некоторых столбцах. Например, для данных в столбце `balcony` логично предположить, что, если человек не указал число балконов — скорее всего, их нет. Заменим такие пропуски на 0."
   ]
  },
  {
   "cell_type": "code",
   "execution_count": 6,
   "id": "732c93cf",
   "metadata": {},
   "outputs": [],
   "source": [
    "data['balcony'] = data['balcony'].fillna(value=0)"
   ]
  },
  {
   "cell_type": "markdown",
   "id": "8edaea18",
   "metadata": {},
   "source": [
    "Такой же вывод можно сделать относительно данных в столбце `is_apartment` - если не указано, что это апартаменты, скорее всего, это не они. Согласно документации к данным в этом столбце должны быть значения булева типа, но из информации о таблице мы видим, что данные записаны в виде строк. Поменяем тип данных: "
   ]
  },
  {
   "cell_type": "code",
   "execution_count": 7,
   "id": "7eeeddc4",
   "metadata": {},
   "outputs": [],
   "source": [
    "data['is_apartment'] = data['is_apartment'].astype('bool')"
   ]
  },
  {
   "cell_type": "markdown",
   "id": "df9ddebf",
   "metadata": {},
   "source": [
    "Теперь заполним пропущенные значения в столбце `is_apartment`:"
   ]
  },
  {
   "cell_type": "code",
   "execution_count": 8,
   "id": "784d9e67",
   "metadata": {},
   "outputs": [],
   "source": [
    "data['is_apartment'] = data['is_apartment'].fillna('False')"
   ]
  },
  {
   "cell_type": "markdown",
   "id": "0ba39091",
   "metadata": {},
   "source": [
    "Прежде чем продолжать работу по устранению пропусков в данных, проверим, все ли остальные данные представлены правильными типами. Хотя на первый взгляд кажется, что данные представлены в виде чисел, вызов `info` демонстрирует, что в большинстве столбцов данные содержатся в строковом формате. Чтобы иметь возможность производить арифметические операции с данными, переведем их в нужные типы - `int` или `float`."
   ]
  },
  {
   "cell_type": "code",
   "execution_count": 9,
   "id": "092d45d5",
   "metadata": {},
   "outputs": [],
   "source": [
    "data[['last_price', 'total_area', 'ceiling_height', 'floors_total', 'living_area', 'kitchen_area', 'balcony']] = data[\n",
    "    ['last_price', 'total_area', 'ceiling_height', 'floors_total', 'living_area', 'kitchen_area', 'balcony']].apply(\n",
    "    pd.to_numeric)  #применяем метод to_numeric к перечисленным столбцам  "
   ]
  },
  {
   "cell_type": "markdown",
   "id": "f705c21b",
   "metadata": {},
   "source": [
    "Также применяем метод `to_numeric` к срезу столбцов: с `airports_nearest` по `days_exposition`:"
   ]
  },
  {
   "cell_type": "code",
   "execution_count": 10,
   "id": "5b953c08",
   "metadata": {},
   "outputs": [],
   "source": [
    "data.loc[:, 'airports_nearest':'days_exposition'] = data.loc[:, 'airports_nearest':'days_exposition'].apply(pd.to_numeric)   "
   ]
  },
  {
   "cell_type": "markdown",
   "id": "2ebe37b5",
   "metadata": {},
   "source": [
    "У нас остались неизмененными всего несколько столбцов. Количество фотографий, комнат и этаж представлены в виде `int`, все правильно; название населенного пункта - `object`, тоже все хорошо. А вот значения в столбце `first_day_exposition` нужно перевести в формат даты:"
   ]
  },
  {
   "cell_type": "code",
   "execution_count": 11,
   "id": "d8efed2e",
   "metadata": {},
   "outputs": [],
   "source": [
    "data['first_day_exposition'] = pd.to_datetime(data['first_day_exposition'], format='%Y-%m-%dT%H:%M:%S')"
   ]
  },
  {
   "cell_type": "markdown",
   "id": "b43cc109",
   "metadata": {},
   "source": [
    "Проверим, какие типы данных в датафрейме получились: "
   ]
  },
  {
   "cell_type": "code",
   "execution_count": 12,
   "id": "0258e238",
   "metadata": {
    "scrolled": false
   },
   "outputs": [
    {
     "data": {
      "text/plain": [
       "total_images                     int64\n",
       "last_price                     float64\n",
       "total_area                     float64\n",
       "first_day_exposition    datetime64[ns]\n",
       "rooms                            int64\n",
       "ceiling_height                 float64\n",
       "floors_total                   float64\n",
       "living_area                    float64\n",
       "floor                            int64\n",
       "is_apartment                      bool\n",
       "studio                            bool\n",
       "open_plan                         bool\n",
       "kitchen_area                   float64\n",
       "balcony                        float64\n",
       "locality_name                   object\n",
       "airports_nearest               float64\n",
       "cityCenters_nearest            float64\n",
       "parks_around3000               float64\n",
       "parks_nearest                  float64\n",
       "ponds_around3000               float64\n",
       "ponds_nearest                  float64\n",
       "days_exposition                float64\n",
       "dtype: object"
      ]
     },
     "execution_count": 12,
     "metadata": {},
     "output_type": "execute_result"
    }
   ],
   "source": [
    "data.dtypes"
   ]
  },
  {
   "cell_type": "markdown",
   "id": "e180647e",
   "metadata": {},
   "source": [
    "Вернемся к устранению пропусков в данных.\n",
    "Попробуем избавиться от ряда пропущенных значений в столбце `kitchen_area` с помощью фильтра. Для квартир со свободной планировкой или студий, отметим, что площадь кухни равна 0. "
   ]
  },
  {
   "cell_type": "code",
   "execution_count": 13,
   "id": "ad29b1e6",
   "metadata": {},
   "outputs": [
    {
     "data": {
      "text/plain": [
       "2062"
      ]
     },
     "execution_count": 13,
     "metadata": {},
     "output_type": "execute_result"
    }
   ],
   "source": [
    "data['kitchen_area'] = data['kitchen_area'].where(~((data['studio'] == True) | (data['open_plan'] == True)),0)\n",
    "data['kitchen_area'].isna().sum()       #проверим, сколько пропусков в столбце осталось  "
   ]
  },
  {
   "cell_type": "markdown",
   "id": "b1d3a742",
   "metadata": {},
   "source": [
    "Теперь заполним пропуски в столбце `living_area` по медиане значений этого столбца, предварительно сгруппированных по количеству комнат:"
   ]
  },
  {
   "cell_type": "code",
   "execution_count": 14,
   "id": "ece16ff6",
   "metadata": {},
   "outputs": [
    {
     "data": {
      "text/plain": [
       "0"
      ]
     },
     "execution_count": 14,
     "metadata": {},
     "output_type": "execute_result"
    }
   ],
   "source": [
    "data['living_area'] = data['living_area'].fillna(data.groupby('rooms')['living_area'].transform('median')) \n",
    "data['living_area'].isna().sum()       #проверим, остались ли пропущенные значения в столбце"
   ]
  },
  {
   "cell_type": "markdown",
   "id": "e4ae28f4",
   "metadata": {},
   "source": [
    "Достаточно много пропусков в столбце с высотой потолков ~30% от общего числа строк. Посмотрим на основные статистические данные:"
   ]
  },
  {
   "cell_type": "code",
   "execution_count": 15,
   "id": "f1a4695a",
   "metadata": {},
   "outputs": [
    {
     "data": {
      "text/plain": [
       "count    14504.000000\n",
       "mean         2.771499\n",
       "std          1.261056\n",
       "min          1.000000\n",
       "25%          2.520000\n",
       "50%          2.650000\n",
       "75%          2.800000\n",
       "max        100.000000\n",
       "Name: ceiling_height, dtype: float64"
      ]
     },
     "execution_count": 15,
     "metadata": {},
     "output_type": "execute_result"
    }
   ],
   "source": [
    "data['ceiling_height'].describe()"
   ]
  },
  {
   "cell_type": "markdown",
   "id": "de3791aa",
   "metadata": {},
   "source": [
    "Судя по данным, максимальное значение высоты потолка - 100 метров. Сложно представить, что потолки такой высоты действительно существуют. Предположим, что максимально возможная высота - 4 метра. Взглянем, много ли значений превышает эту отметку. "
   ]
  },
  {
   "cell_type": "code",
   "execution_count": 16,
   "id": "0f47804f",
   "metadata": {
    "scrolled": false
   },
   "outputs": [
    {
     "data": {
      "text/plain": [
       "75"
      ]
     },
     "execution_count": 16,
     "metadata": {},
     "output_type": "execute_result"
    }
   ],
   "source": [
    "data[data['ceiling_height'] > 4]['ceiling_height'].count()"
   ]
  },
  {
   "cell_type": "markdown",
   "id": "124b1b14",
   "metadata": {},
   "source": [
    "Таких значений оказалось 75, совсем немного относительно общего количества строк датафрейма. Можем их отбросить:"
   ]
  },
  {
   "cell_type": "code",
   "execution_count": 17,
   "id": "ee70fc67",
   "metadata": {},
   "outputs": [],
   "source": [
    "data = data.drop(data[data['ceiling_height'] > 4].index)      #перезаписываем датафрейм без выбивающихся значений "
   ]
  },
  {
   "cell_type": "markdown",
   "id": "29202581",
   "metadata": {},
   "source": [
    "Теперь пропущенные значения заменяем медианой по столбцу:"
   ]
  },
  {
   "cell_type": "code",
   "execution_count": 18,
   "id": "f68d882e",
   "metadata": {
    "scrolled": true
   },
   "outputs": [
    {
     "data": {
      "text/plain": [
       "0"
      ]
     },
     "execution_count": 18,
     "metadata": {},
     "output_type": "execute_result"
    }
   ],
   "source": [
    "data['ceiling_height'] = data['ceiling_height'].fillna(data['ceiling_height'].median())\n",
    "data['ceiling_height'].isna().sum()     #проверяем наличие пропусков"
   ]
  },
  {
   "cell_type": "markdown",
   "id": "e1b891e7",
   "metadata": {},
   "source": [
    "Заменим пропуски в столбце `days_exposition` на 0. Если в дальнейшем будем работать с этим столбцом, это поможет нам проследить закономерности."
   ]
  },
  {
   "cell_type": "code",
   "execution_count": 19,
   "id": "c20bd211",
   "metadata": {},
   "outputs": [],
   "source": [
    "data['days_exposition'] = data['days_exposition'].fillna(value=0)"
   ]
  },
  {
   "cell_type": "markdown",
   "id": "ea735da3",
   "metadata": {},
   "source": [
    "Мы обработали часть пропусков в тех столбцах, данные в которые заносились вручную. Скорее всего, такие пропуски возникли либо по невнимательности пользователей, либо из-за отсутствия у них самих необходимой полной информации.\n",
    "Однако в некоторых столбцах мы вынуждены оставить пустые значения - никак логически не получится заменить пропущенные значения в столбцах с площадью кухни, общим количеством этажей в доме и уж тем более с названием населенного пункта. "
   ]
  },
  {
   "cell_type": "markdown",
   "id": "fb66d0aa",
   "metadata": {},
   "source": [
    "Что касается столбцов с данными, полученными автоматически на основе картографических данных, можно предположить, что здесь пропуски возникли из-за отсутствия значений, соответствующих условиям (как с количеством парков, прудов и расстояниями до них), и из-за технических ошибок в расчетах (расстояние до аэропорта, центра города).   "
   ]
  },
  {
   "cell_type": "markdown",
   "id": "485f04bf",
   "metadata": {},
   "source": [
    "## Подсчет и добавление новых значений в таблицу"
   ]
  },
  {
   "cell_type": "markdown",
   "id": "fe3981f2",
   "metadata": {},
   "source": [
    "Рассчитаем цену квадратного метра для квартиры в каждом объявлении и создадим новый столбец с этими данными:"
   ]
  },
  {
   "cell_type": "code",
   "execution_count": 20,
   "id": "fd5ebc5f",
   "metadata": {},
   "outputs": [
    {
     "data": {
      "text/html": [
       "<div>\n",
       "<style scoped>\n",
       "    .dataframe tbody tr th:only-of-type {\n",
       "        vertical-align: middle;\n",
       "    }\n",
       "\n",
       "    .dataframe tbody tr th {\n",
       "        vertical-align: top;\n",
       "    }\n",
       "\n",
       "    .dataframe thead th {\n",
       "        text-align: right;\n",
       "    }\n",
       "</style>\n",
       "<table border=\"1\" class=\"dataframe\">\n",
       "  <thead>\n",
       "    <tr style=\"text-align: right;\">\n",
       "      <th></th>\n",
       "      <th>total_images</th>\n",
       "      <th>last_price</th>\n",
       "      <th>total_area</th>\n",
       "      <th>first_day_exposition</th>\n",
       "      <th>rooms</th>\n",
       "      <th>ceiling_height</th>\n",
       "      <th>floors_total</th>\n",
       "      <th>living_area</th>\n",
       "      <th>floor</th>\n",
       "      <th>is_apartment</th>\n",
       "      <th>...</th>\n",
       "      <th>balcony</th>\n",
       "      <th>locality_name</th>\n",
       "      <th>airports_nearest</th>\n",
       "      <th>cityCenters_nearest</th>\n",
       "      <th>parks_around3000</th>\n",
       "      <th>parks_nearest</th>\n",
       "      <th>ponds_around3000</th>\n",
       "      <th>ponds_nearest</th>\n",
       "      <th>days_exposition</th>\n",
       "      <th>price_per_meter</th>\n",
       "    </tr>\n",
       "  </thead>\n",
       "  <tbody>\n",
       "    <tr>\n",
       "      <th>0</th>\n",
       "      <td>20</td>\n",
       "      <td>13000000.0</td>\n",
       "      <td>108.0</td>\n",
       "      <td>2019-03-07</td>\n",
       "      <td>3</td>\n",
       "      <td>2.70</td>\n",
       "      <td>16.0</td>\n",
       "      <td>51.0</td>\n",
       "      <td>8</td>\n",
       "      <td>True</td>\n",
       "      <td>...</td>\n",
       "      <td>0.0</td>\n",
       "      <td>Санкт-Петербург</td>\n",
       "      <td>18863.0</td>\n",
       "      <td>16028.0</td>\n",
       "      <td>1.0</td>\n",
       "      <td>482.0</td>\n",
       "      <td>2.0</td>\n",
       "      <td>755.0</td>\n",
       "      <td>0.0</td>\n",
       "      <td>120370.370370</td>\n",
       "    </tr>\n",
       "    <tr>\n",
       "      <th>1</th>\n",
       "      <td>7</td>\n",
       "      <td>3350000.0</td>\n",
       "      <td>40.4</td>\n",
       "      <td>2018-12-04</td>\n",
       "      <td>1</td>\n",
       "      <td>2.65</td>\n",
       "      <td>11.0</td>\n",
       "      <td>18.6</td>\n",
       "      <td>1</td>\n",
       "      <td>True</td>\n",
       "      <td>...</td>\n",
       "      <td>2.0</td>\n",
       "      <td>посёлок Шушары</td>\n",
       "      <td>12817.0</td>\n",
       "      <td>18603.0</td>\n",
       "      <td>0.0</td>\n",
       "      <td>NaN</td>\n",
       "      <td>0.0</td>\n",
       "      <td>NaN</td>\n",
       "      <td>81.0</td>\n",
       "      <td>82920.792079</td>\n",
       "    </tr>\n",
       "    <tr>\n",
       "      <th>2</th>\n",
       "      <td>10</td>\n",
       "      <td>5196000.0</td>\n",
       "      <td>56.0</td>\n",
       "      <td>2015-08-20</td>\n",
       "      <td>2</td>\n",
       "      <td>2.65</td>\n",
       "      <td>5.0</td>\n",
       "      <td>34.3</td>\n",
       "      <td>4</td>\n",
       "      <td>True</td>\n",
       "      <td>...</td>\n",
       "      <td>0.0</td>\n",
       "      <td>Санкт-Петербург</td>\n",
       "      <td>21741.0</td>\n",
       "      <td>13933.0</td>\n",
       "      <td>1.0</td>\n",
       "      <td>90.0</td>\n",
       "      <td>2.0</td>\n",
       "      <td>574.0</td>\n",
       "      <td>558.0</td>\n",
       "      <td>92785.714286</td>\n",
       "    </tr>\n",
       "    <tr>\n",
       "      <th>3</th>\n",
       "      <td>0</td>\n",
       "      <td>64900000.0</td>\n",
       "      <td>159.0</td>\n",
       "      <td>2015-07-24</td>\n",
       "      <td>3</td>\n",
       "      <td>2.65</td>\n",
       "      <td>14.0</td>\n",
       "      <td>45.0</td>\n",
       "      <td>9</td>\n",
       "      <td>True</td>\n",
       "      <td>...</td>\n",
       "      <td>0.0</td>\n",
       "      <td>Санкт-Петербург</td>\n",
       "      <td>28098.0</td>\n",
       "      <td>6800.0</td>\n",
       "      <td>2.0</td>\n",
       "      <td>84.0</td>\n",
       "      <td>3.0</td>\n",
       "      <td>234.0</td>\n",
       "      <td>424.0</td>\n",
       "      <td>408176.100629</td>\n",
       "    </tr>\n",
       "    <tr>\n",
       "      <th>4</th>\n",
       "      <td>2</td>\n",
       "      <td>10000000.0</td>\n",
       "      <td>100.0</td>\n",
       "      <td>2018-06-19</td>\n",
       "      <td>2</td>\n",
       "      <td>3.03</td>\n",
       "      <td>14.0</td>\n",
       "      <td>32.0</td>\n",
       "      <td>13</td>\n",
       "      <td>True</td>\n",
       "      <td>...</td>\n",
       "      <td>0.0</td>\n",
       "      <td>Санкт-Петербург</td>\n",
       "      <td>31856.0</td>\n",
       "      <td>8098.0</td>\n",
       "      <td>2.0</td>\n",
       "      <td>112.0</td>\n",
       "      <td>1.0</td>\n",
       "      <td>48.0</td>\n",
       "      <td>121.0</td>\n",
       "      <td>100000.000000</td>\n",
       "    </tr>\n",
       "  </tbody>\n",
       "</table>\n",
       "<p>5 rows × 23 columns</p>\n",
       "</div>"
      ],
      "text/plain": [
       "   total_images  last_price  total_area first_day_exposition  rooms  \\\n",
       "0            20  13000000.0       108.0           2019-03-07      3   \n",
       "1             7   3350000.0        40.4           2018-12-04      1   \n",
       "2            10   5196000.0        56.0           2015-08-20      2   \n",
       "3             0  64900000.0       159.0           2015-07-24      3   \n",
       "4             2  10000000.0       100.0           2018-06-19      2   \n",
       "\n",
       "   ceiling_height  floors_total  living_area  floor  is_apartment  ...  \\\n",
       "0            2.70          16.0         51.0      8          True  ...   \n",
       "1            2.65          11.0         18.6      1          True  ...   \n",
       "2            2.65           5.0         34.3      4          True  ...   \n",
       "3            2.65          14.0         45.0      9          True  ...   \n",
       "4            3.03          14.0         32.0     13          True  ...   \n",
       "\n",
       "   balcony    locality_name  airports_nearest  cityCenters_nearest  \\\n",
       "0      0.0  Санкт-Петербург           18863.0              16028.0   \n",
       "1      2.0   посёлок Шушары           12817.0              18603.0   \n",
       "2      0.0  Санкт-Петербург           21741.0              13933.0   \n",
       "3      0.0  Санкт-Петербург           28098.0               6800.0   \n",
       "4      0.0  Санкт-Петербург           31856.0               8098.0   \n",
       "\n",
       "  parks_around3000  parks_nearest  ponds_around3000  ponds_nearest  \\\n",
       "0              1.0          482.0               2.0          755.0   \n",
       "1              0.0            NaN               0.0            NaN   \n",
       "2              1.0           90.0               2.0          574.0   \n",
       "3              2.0           84.0               3.0          234.0   \n",
       "4              2.0          112.0               1.0           48.0   \n",
       "\n",
       "   days_exposition  price_per_meter  \n",
       "0              0.0    120370.370370  \n",
       "1             81.0     82920.792079  \n",
       "2            558.0     92785.714286  \n",
       "3            424.0    408176.100629  \n",
       "4            121.0    100000.000000  \n",
       "\n",
       "[5 rows x 23 columns]"
      ]
     },
     "execution_count": 20,
     "metadata": {},
     "output_type": "execute_result"
    }
   ],
   "source": [
    "data['price_per_meter'] = data['last_price'] / data['total_area']\n",
    "data.head()   #проверяем внесенные изменения"
   ]
  },
  {
   "cell_type": "markdown",
   "id": "6375cad3",
   "metadata": {},
   "source": [
    "В отдельные столбцы таблицы добавим день недели, месяц и год размещения объявления:"
   ]
  },
  {
   "cell_type": "code",
   "execution_count": 21,
   "id": "0986ae52",
   "metadata": {
    "scrolled": true
   },
   "outputs": [
    {
     "data": {
      "text/html": [
       "<div>\n",
       "<style scoped>\n",
       "    .dataframe tbody tr th:only-of-type {\n",
       "        vertical-align: middle;\n",
       "    }\n",
       "\n",
       "    .dataframe tbody tr th {\n",
       "        vertical-align: top;\n",
       "    }\n",
       "\n",
       "    .dataframe thead th {\n",
       "        text-align: right;\n",
       "    }\n",
       "</style>\n",
       "<table border=\"1\" class=\"dataframe\">\n",
       "  <thead>\n",
       "    <tr style=\"text-align: right;\">\n",
       "      <th></th>\n",
       "      <th>total_images</th>\n",
       "      <th>last_price</th>\n",
       "      <th>total_area</th>\n",
       "      <th>first_day_exposition</th>\n",
       "      <th>rooms</th>\n",
       "      <th>ceiling_height</th>\n",
       "      <th>floors_total</th>\n",
       "      <th>living_area</th>\n",
       "      <th>floor</th>\n",
       "      <th>is_apartment</th>\n",
       "      <th>...</th>\n",
       "      <th>cityCenters_nearest</th>\n",
       "      <th>parks_around3000</th>\n",
       "      <th>parks_nearest</th>\n",
       "      <th>ponds_around3000</th>\n",
       "      <th>ponds_nearest</th>\n",
       "      <th>days_exposition</th>\n",
       "      <th>price_per_meter</th>\n",
       "      <th>weekday</th>\n",
       "      <th>month</th>\n",
       "      <th>year</th>\n",
       "    </tr>\n",
       "  </thead>\n",
       "  <tbody>\n",
       "    <tr>\n",
       "      <th>0</th>\n",
       "      <td>20</td>\n",
       "      <td>13000000.0</td>\n",
       "      <td>108.0</td>\n",
       "      <td>2019-03-07</td>\n",
       "      <td>3</td>\n",
       "      <td>2.70</td>\n",
       "      <td>16.0</td>\n",
       "      <td>51.0</td>\n",
       "      <td>8</td>\n",
       "      <td>True</td>\n",
       "      <td>...</td>\n",
       "      <td>16028.0</td>\n",
       "      <td>1.0</td>\n",
       "      <td>482.0</td>\n",
       "      <td>2.0</td>\n",
       "      <td>755.0</td>\n",
       "      <td>0.0</td>\n",
       "      <td>120370.370370</td>\n",
       "      <td>3</td>\n",
       "      <td>3</td>\n",
       "      <td>2019</td>\n",
       "    </tr>\n",
       "    <tr>\n",
       "      <th>1</th>\n",
       "      <td>7</td>\n",
       "      <td>3350000.0</td>\n",
       "      <td>40.4</td>\n",
       "      <td>2018-12-04</td>\n",
       "      <td>1</td>\n",
       "      <td>2.65</td>\n",
       "      <td>11.0</td>\n",
       "      <td>18.6</td>\n",
       "      <td>1</td>\n",
       "      <td>True</td>\n",
       "      <td>...</td>\n",
       "      <td>18603.0</td>\n",
       "      <td>0.0</td>\n",
       "      <td>NaN</td>\n",
       "      <td>0.0</td>\n",
       "      <td>NaN</td>\n",
       "      <td>81.0</td>\n",
       "      <td>82920.792079</td>\n",
       "      <td>1</td>\n",
       "      <td>12</td>\n",
       "      <td>2018</td>\n",
       "    </tr>\n",
       "    <tr>\n",
       "      <th>2</th>\n",
       "      <td>10</td>\n",
       "      <td>5196000.0</td>\n",
       "      <td>56.0</td>\n",
       "      <td>2015-08-20</td>\n",
       "      <td>2</td>\n",
       "      <td>2.65</td>\n",
       "      <td>5.0</td>\n",
       "      <td>34.3</td>\n",
       "      <td>4</td>\n",
       "      <td>True</td>\n",
       "      <td>...</td>\n",
       "      <td>13933.0</td>\n",
       "      <td>1.0</td>\n",
       "      <td>90.0</td>\n",
       "      <td>2.0</td>\n",
       "      <td>574.0</td>\n",
       "      <td>558.0</td>\n",
       "      <td>92785.714286</td>\n",
       "      <td>3</td>\n",
       "      <td>8</td>\n",
       "      <td>2015</td>\n",
       "    </tr>\n",
       "    <tr>\n",
       "      <th>3</th>\n",
       "      <td>0</td>\n",
       "      <td>64900000.0</td>\n",
       "      <td>159.0</td>\n",
       "      <td>2015-07-24</td>\n",
       "      <td>3</td>\n",
       "      <td>2.65</td>\n",
       "      <td>14.0</td>\n",
       "      <td>45.0</td>\n",
       "      <td>9</td>\n",
       "      <td>True</td>\n",
       "      <td>...</td>\n",
       "      <td>6800.0</td>\n",
       "      <td>2.0</td>\n",
       "      <td>84.0</td>\n",
       "      <td>3.0</td>\n",
       "      <td>234.0</td>\n",
       "      <td>424.0</td>\n",
       "      <td>408176.100629</td>\n",
       "      <td>4</td>\n",
       "      <td>7</td>\n",
       "      <td>2015</td>\n",
       "    </tr>\n",
       "    <tr>\n",
       "      <th>4</th>\n",
       "      <td>2</td>\n",
       "      <td>10000000.0</td>\n",
       "      <td>100.0</td>\n",
       "      <td>2018-06-19</td>\n",
       "      <td>2</td>\n",
       "      <td>3.03</td>\n",
       "      <td>14.0</td>\n",
       "      <td>32.0</td>\n",
       "      <td>13</td>\n",
       "      <td>True</td>\n",
       "      <td>...</td>\n",
       "      <td>8098.0</td>\n",
       "      <td>2.0</td>\n",
       "      <td>112.0</td>\n",
       "      <td>1.0</td>\n",
       "      <td>48.0</td>\n",
       "      <td>121.0</td>\n",
       "      <td>100000.000000</td>\n",
       "      <td>1</td>\n",
       "      <td>6</td>\n",
       "      <td>2018</td>\n",
       "    </tr>\n",
       "  </tbody>\n",
       "</table>\n",
       "<p>5 rows × 26 columns</p>\n",
       "</div>"
      ],
      "text/plain": [
       "   total_images  last_price  total_area first_day_exposition  rooms  \\\n",
       "0            20  13000000.0       108.0           2019-03-07      3   \n",
       "1             7   3350000.0        40.4           2018-12-04      1   \n",
       "2            10   5196000.0        56.0           2015-08-20      2   \n",
       "3             0  64900000.0       159.0           2015-07-24      3   \n",
       "4             2  10000000.0       100.0           2018-06-19      2   \n",
       "\n",
       "   ceiling_height  floors_total  living_area  floor  is_apartment  ...  \\\n",
       "0            2.70          16.0         51.0      8          True  ...   \n",
       "1            2.65          11.0         18.6      1          True  ...   \n",
       "2            2.65           5.0         34.3      4          True  ...   \n",
       "3            2.65          14.0         45.0      9          True  ...   \n",
       "4            3.03          14.0         32.0     13          True  ...   \n",
       "\n",
       "   cityCenters_nearest  parks_around3000  parks_nearest  ponds_around3000  \\\n",
       "0              16028.0               1.0          482.0               2.0   \n",
       "1              18603.0               0.0            NaN               0.0   \n",
       "2              13933.0               1.0           90.0               2.0   \n",
       "3               6800.0               2.0           84.0               3.0   \n",
       "4               8098.0               2.0          112.0               1.0   \n",
       "\n",
       "  ponds_nearest  days_exposition  price_per_meter  weekday  month  year  \n",
       "0         755.0              0.0    120370.370370        3      3  2019  \n",
       "1           NaN             81.0     82920.792079        1     12  2018  \n",
       "2         574.0            558.0     92785.714286        3      8  2015  \n",
       "3         234.0            424.0    408176.100629        4      7  2015  \n",
       "4          48.0            121.0    100000.000000        1      6  2018  \n",
       "\n",
       "[5 rows x 26 columns]"
      ]
     },
     "execution_count": 21,
     "metadata": {},
     "output_type": "execute_result"
    }
   ],
   "source": [
    "data['weekday'] = data['first_day_exposition'].dt.weekday       #находим день недели\n",
    "data['month'] = data['first_day_exposition'].dt.month           #находим месяц \n",
    "data['year'] = data['first_day_exposition'].dt.year             #находим год\n",
    "data.head()"
   ]
  },
  {
   "cell_type": "markdown",
   "id": "90500faa",
   "metadata": {},
   "source": [
    "Напишем функцию, которая будет разделять объявления в зависимости от этажа квартиры по трем типам: первый, последний, другой:"
   ]
  },
  {
   "cell_type": "code",
   "execution_count": 22,
   "id": "f74a5cea",
   "metadata": {},
   "outputs": [],
   "source": [
    "def floor_category(row):\n",
    "    if row['floor'] == row['floors_total']:              #сравниваем этаж квартиры с количеством этажей в доме\n",
    "        return 'Последний'\n",
    "    if row['floor'] == 1:\n",
    "        return 'Первый'\n",
    "    return 'Другой'"
   ]
  },
  {
   "cell_type": "markdown",
   "id": "e8a3a5d4",
   "metadata": {},
   "source": [
    "Создадим в датафрейме отдельный столбец с типом этажа:"
   ]
  },
  {
   "cell_type": "code",
   "execution_count": 23,
   "id": "ef221f5c",
   "metadata": {
    "scrolled": true
   },
   "outputs": [
    {
     "data": {
      "text/html": [
       "<div>\n",
       "<style scoped>\n",
       "    .dataframe tbody tr th:only-of-type {\n",
       "        vertical-align: middle;\n",
       "    }\n",
       "\n",
       "    .dataframe tbody tr th {\n",
       "        vertical-align: top;\n",
       "    }\n",
       "\n",
       "    .dataframe thead th {\n",
       "        text-align: right;\n",
       "    }\n",
       "</style>\n",
       "<table border=\"1\" class=\"dataframe\">\n",
       "  <thead>\n",
       "    <tr style=\"text-align: right;\">\n",
       "      <th></th>\n",
       "      <th>total_images</th>\n",
       "      <th>last_price</th>\n",
       "      <th>total_area</th>\n",
       "      <th>first_day_exposition</th>\n",
       "      <th>rooms</th>\n",
       "      <th>ceiling_height</th>\n",
       "      <th>floors_total</th>\n",
       "      <th>living_area</th>\n",
       "      <th>floor</th>\n",
       "      <th>is_apartment</th>\n",
       "      <th>...</th>\n",
       "      <th>parks_around3000</th>\n",
       "      <th>parks_nearest</th>\n",
       "      <th>ponds_around3000</th>\n",
       "      <th>ponds_nearest</th>\n",
       "      <th>days_exposition</th>\n",
       "      <th>price_per_meter</th>\n",
       "      <th>weekday</th>\n",
       "      <th>month</th>\n",
       "      <th>year</th>\n",
       "      <th>floor_type</th>\n",
       "    </tr>\n",
       "  </thead>\n",
       "  <tbody>\n",
       "    <tr>\n",
       "      <th>0</th>\n",
       "      <td>20</td>\n",
       "      <td>13000000.0</td>\n",
       "      <td>108.00</td>\n",
       "      <td>2019-03-07</td>\n",
       "      <td>3</td>\n",
       "      <td>2.70</td>\n",
       "      <td>16.0</td>\n",
       "      <td>51.00</td>\n",
       "      <td>8</td>\n",
       "      <td>True</td>\n",
       "      <td>...</td>\n",
       "      <td>1.0</td>\n",
       "      <td>482.0</td>\n",
       "      <td>2.0</td>\n",
       "      <td>755.0</td>\n",
       "      <td>0.0</td>\n",
       "      <td>120370.370370</td>\n",
       "      <td>3</td>\n",
       "      <td>3</td>\n",
       "      <td>2019</td>\n",
       "      <td>Другой</td>\n",
       "    </tr>\n",
       "    <tr>\n",
       "      <th>1</th>\n",
       "      <td>7</td>\n",
       "      <td>3350000.0</td>\n",
       "      <td>40.40</td>\n",
       "      <td>2018-12-04</td>\n",
       "      <td>1</td>\n",
       "      <td>2.65</td>\n",
       "      <td>11.0</td>\n",
       "      <td>18.60</td>\n",
       "      <td>1</td>\n",
       "      <td>True</td>\n",
       "      <td>...</td>\n",
       "      <td>0.0</td>\n",
       "      <td>NaN</td>\n",
       "      <td>0.0</td>\n",
       "      <td>NaN</td>\n",
       "      <td>81.0</td>\n",
       "      <td>82920.792079</td>\n",
       "      <td>1</td>\n",
       "      <td>12</td>\n",
       "      <td>2018</td>\n",
       "      <td>Первый</td>\n",
       "    </tr>\n",
       "    <tr>\n",
       "      <th>2</th>\n",
       "      <td>10</td>\n",
       "      <td>5196000.0</td>\n",
       "      <td>56.00</td>\n",
       "      <td>2015-08-20</td>\n",
       "      <td>2</td>\n",
       "      <td>2.65</td>\n",
       "      <td>5.0</td>\n",
       "      <td>34.30</td>\n",
       "      <td>4</td>\n",
       "      <td>True</td>\n",
       "      <td>...</td>\n",
       "      <td>1.0</td>\n",
       "      <td>90.0</td>\n",
       "      <td>2.0</td>\n",
       "      <td>574.0</td>\n",
       "      <td>558.0</td>\n",
       "      <td>92785.714286</td>\n",
       "      <td>3</td>\n",
       "      <td>8</td>\n",
       "      <td>2015</td>\n",
       "      <td>Другой</td>\n",
       "    </tr>\n",
       "    <tr>\n",
       "      <th>3</th>\n",
       "      <td>0</td>\n",
       "      <td>64900000.0</td>\n",
       "      <td>159.00</td>\n",
       "      <td>2015-07-24</td>\n",
       "      <td>3</td>\n",
       "      <td>2.65</td>\n",
       "      <td>14.0</td>\n",
       "      <td>45.00</td>\n",
       "      <td>9</td>\n",
       "      <td>True</td>\n",
       "      <td>...</td>\n",
       "      <td>2.0</td>\n",
       "      <td>84.0</td>\n",
       "      <td>3.0</td>\n",
       "      <td>234.0</td>\n",
       "      <td>424.0</td>\n",
       "      <td>408176.100629</td>\n",
       "      <td>4</td>\n",
       "      <td>7</td>\n",
       "      <td>2015</td>\n",
       "      <td>Другой</td>\n",
       "    </tr>\n",
       "    <tr>\n",
       "      <th>4</th>\n",
       "      <td>2</td>\n",
       "      <td>10000000.0</td>\n",
       "      <td>100.00</td>\n",
       "      <td>2018-06-19</td>\n",
       "      <td>2</td>\n",
       "      <td>3.03</td>\n",
       "      <td>14.0</td>\n",
       "      <td>32.00</td>\n",
       "      <td>13</td>\n",
       "      <td>True</td>\n",
       "      <td>...</td>\n",
       "      <td>2.0</td>\n",
       "      <td>112.0</td>\n",
       "      <td>1.0</td>\n",
       "      <td>48.0</td>\n",
       "      <td>121.0</td>\n",
       "      <td>100000.000000</td>\n",
       "      <td>1</td>\n",
       "      <td>6</td>\n",
       "      <td>2018</td>\n",
       "      <td>Другой</td>\n",
       "    </tr>\n",
       "    <tr>\n",
       "      <th>5</th>\n",
       "      <td>10</td>\n",
       "      <td>2890000.0</td>\n",
       "      <td>30.40</td>\n",
       "      <td>2018-09-10</td>\n",
       "      <td>1</td>\n",
       "      <td>2.65</td>\n",
       "      <td>12.0</td>\n",
       "      <td>14.40</td>\n",
       "      <td>5</td>\n",
       "      <td>True</td>\n",
       "      <td>...</td>\n",
       "      <td>NaN</td>\n",
       "      <td>NaN</td>\n",
       "      <td>NaN</td>\n",
       "      <td>NaN</td>\n",
       "      <td>55.0</td>\n",
       "      <td>95065.789474</td>\n",
       "      <td>0</td>\n",
       "      <td>9</td>\n",
       "      <td>2018</td>\n",
       "      <td>Другой</td>\n",
       "    </tr>\n",
       "    <tr>\n",
       "      <th>6</th>\n",
       "      <td>6</td>\n",
       "      <td>3700000.0</td>\n",
       "      <td>37.30</td>\n",
       "      <td>2017-11-02</td>\n",
       "      <td>1</td>\n",
       "      <td>2.65</td>\n",
       "      <td>26.0</td>\n",
       "      <td>10.60</td>\n",
       "      <td>6</td>\n",
       "      <td>True</td>\n",
       "      <td>...</td>\n",
       "      <td>0.0</td>\n",
       "      <td>NaN</td>\n",
       "      <td>0.0</td>\n",
       "      <td>NaN</td>\n",
       "      <td>155.0</td>\n",
       "      <td>99195.710456</td>\n",
       "      <td>3</td>\n",
       "      <td>11</td>\n",
       "      <td>2017</td>\n",
       "      <td>Другой</td>\n",
       "    </tr>\n",
       "    <tr>\n",
       "      <th>7</th>\n",
       "      <td>5</td>\n",
       "      <td>7915000.0</td>\n",
       "      <td>71.60</td>\n",
       "      <td>2019-04-18</td>\n",
       "      <td>2</td>\n",
       "      <td>2.65</td>\n",
       "      <td>24.0</td>\n",
       "      <td>30.50</td>\n",
       "      <td>22</td>\n",
       "      <td>True</td>\n",
       "      <td>...</td>\n",
       "      <td>0.0</td>\n",
       "      <td>NaN</td>\n",
       "      <td>0.0</td>\n",
       "      <td>NaN</td>\n",
       "      <td>0.0</td>\n",
       "      <td>110544.692737</td>\n",
       "      <td>3</td>\n",
       "      <td>4</td>\n",
       "      <td>2019</td>\n",
       "      <td>Другой</td>\n",
       "    </tr>\n",
       "    <tr>\n",
       "      <th>8</th>\n",
       "      <td>20</td>\n",
       "      <td>2900000.0</td>\n",
       "      <td>33.16</td>\n",
       "      <td>2018-05-23</td>\n",
       "      <td>1</td>\n",
       "      <td>2.65</td>\n",
       "      <td>27.0</td>\n",
       "      <td>15.43</td>\n",
       "      <td>26</td>\n",
       "      <td>True</td>\n",
       "      <td>...</td>\n",
       "      <td>NaN</td>\n",
       "      <td>NaN</td>\n",
       "      <td>NaN</td>\n",
       "      <td>NaN</td>\n",
       "      <td>189.0</td>\n",
       "      <td>87454.764777</td>\n",
       "      <td>2</td>\n",
       "      <td>5</td>\n",
       "      <td>2018</td>\n",
       "      <td>Другой</td>\n",
       "    </tr>\n",
       "    <tr>\n",
       "      <th>9</th>\n",
       "      <td>18</td>\n",
       "      <td>5400000.0</td>\n",
       "      <td>61.00</td>\n",
       "      <td>2017-02-26</td>\n",
       "      <td>3</td>\n",
       "      <td>2.50</td>\n",
       "      <td>9.0</td>\n",
       "      <td>43.60</td>\n",
       "      <td>7</td>\n",
       "      <td>True</td>\n",
       "      <td>...</td>\n",
       "      <td>0.0</td>\n",
       "      <td>NaN</td>\n",
       "      <td>0.0</td>\n",
       "      <td>NaN</td>\n",
       "      <td>289.0</td>\n",
       "      <td>88524.590164</td>\n",
       "      <td>6</td>\n",
       "      <td>2</td>\n",
       "      <td>2017</td>\n",
       "      <td>Другой</td>\n",
       "    </tr>\n",
       "  </tbody>\n",
       "</table>\n",
       "<p>10 rows × 27 columns</p>\n",
       "</div>"
      ],
      "text/plain": [
       "   total_images  last_price  total_area first_day_exposition  rooms  \\\n",
       "0            20  13000000.0      108.00           2019-03-07      3   \n",
       "1             7   3350000.0       40.40           2018-12-04      1   \n",
       "2            10   5196000.0       56.00           2015-08-20      2   \n",
       "3             0  64900000.0      159.00           2015-07-24      3   \n",
       "4             2  10000000.0      100.00           2018-06-19      2   \n",
       "5            10   2890000.0       30.40           2018-09-10      1   \n",
       "6             6   3700000.0       37.30           2017-11-02      1   \n",
       "7             5   7915000.0       71.60           2019-04-18      2   \n",
       "8            20   2900000.0       33.16           2018-05-23      1   \n",
       "9            18   5400000.0       61.00           2017-02-26      3   \n",
       "\n",
       "   ceiling_height  floors_total  living_area  floor  is_apartment  ...  \\\n",
       "0            2.70          16.0        51.00      8          True  ...   \n",
       "1            2.65          11.0        18.60      1          True  ...   \n",
       "2            2.65           5.0        34.30      4          True  ...   \n",
       "3            2.65          14.0        45.00      9          True  ...   \n",
       "4            3.03          14.0        32.00     13          True  ...   \n",
       "5            2.65          12.0        14.40      5          True  ...   \n",
       "6            2.65          26.0        10.60      6          True  ...   \n",
       "7            2.65          24.0        30.50     22          True  ...   \n",
       "8            2.65          27.0        15.43     26          True  ...   \n",
       "9            2.50           9.0        43.60      7          True  ...   \n",
       "\n",
       "   parks_around3000  parks_nearest  ponds_around3000  ponds_nearest  \\\n",
       "0               1.0          482.0               2.0          755.0   \n",
       "1               0.0            NaN               0.0            NaN   \n",
       "2               1.0           90.0               2.0          574.0   \n",
       "3               2.0           84.0               3.0          234.0   \n",
       "4               2.0          112.0               1.0           48.0   \n",
       "5               NaN            NaN               NaN            NaN   \n",
       "6               0.0            NaN               0.0            NaN   \n",
       "7               0.0            NaN               0.0            NaN   \n",
       "8               NaN            NaN               NaN            NaN   \n",
       "9               0.0            NaN               0.0            NaN   \n",
       "\n",
       "  days_exposition  price_per_meter  weekday  month  year  floor_type  \n",
       "0             0.0    120370.370370        3      3  2019      Другой  \n",
       "1            81.0     82920.792079        1     12  2018      Первый  \n",
       "2           558.0     92785.714286        3      8  2015      Другой  \n",
       "3           424.0    408176.100629        4      7  2015      Другой  \n",
       "4           121.0    100000.000000        1      6  2018      Другой  \n",
       "5            55.0     95065.789474        0      9  2018      Другой  \n",
       "6           155.0     99195.710456        3     11  2017      Другой  \n",
       "7             0.0    110544.692737        3      4  2019      Другой  \n",
       "8           189.0     87454.764777        2      5  2018      Другой  \n",
       "9           289.0     88524.590164        6      2  2017      Другой  \n",
       "\n",
       "[10 rows x 27 columns]"
      ]
     },
     "execution_count": 23,
     "metadata": {},
     "output_type": "execute_result"
    }
   ],
   "source": [
    "data['floor_type'] = data.apply(floor_category, axis=1)     #применяем созданную ранее функцию к таблице\n",
    "data.head(10)                                               #выводим часть датафрейма на экран"
   ]
  },
  {
   "cell_type": "markdown",
   "id": "746b4873",
   "metadata": {},
   "source": [
    "Теперь рассчитаем соотношение жилой и общей площади и добавим результат в новый столбец:"
   ]
  },
  {
   "cell_type": "code",
   "execution_count": 24,
   "id": "97ca0629",
   "metadata": {
    "scrolled": true
   },
   "outputs": [
    {
     "data": {
      "text/html": [
       "<div>\n",
       "<style scoped>\n",
       "    .dataframe tbody tr th:only-of-type {\n",
       "        vertical-align: middle;\n",
       "    }\n",
       "\n",
       "    .dataframe tbody tr th {\n",
       "        vertical-align: top;\n",
       "    }\n",
       "\n",
       "    .dataframe thead th {\n",
       "        text-align: right;\n",
       "    }\n",
       "</style>\n",
       "<table border=\"1\" class=\"dataframe\">\n",
       "  <thead>\n",
       "    <tr style=\"text-align: right;\">\n",
       "      <th></th>\n",
       "      <th>total_images</th>\n",
       "      <th>last_price</th>\n",
       "      <th>total_area</th>\n",
       "      <th>first_day_exposition</th>\n",
       "      <th>rooms</th>\n",
       "      <th>ceiling_height</th>\n",
       "      <th>floors_total</th>\n",
       "      <th>living_area</th>\n",
       "      <th>floor</th>\n",
       "      <th>is_apartment</th>\n",
       "      <th>...</th>\n",
       "      <th>parks_nearest</th>\n",
       "      <th>ponds_around3000</th>\n",
       "      <th>ponds_nearest</th>\n",
       "      <th>days_exposition</th>\n",
       "      <th>price_per_meter</th>\n",
       "      <th>weekday</th>\n",
       "      <th>month</th>\n",
       "      <th>year</th>\n",
       "      <th>floor_type</th>\n",
       "      <th>living_to_total</th>\n",
       "    </tr>\n",
       "  </thead>\n",
       "  <tbody>\n",
       "    <tr>\n",
       "      <th>0</th>\n",
       "      <td>20</td>\n",
       "      <td>13000000.0</td>\n",
       "      <td>108.0</td>\n",
       "      <td>2019-03-07</td>\n",
       "      <td>3</td>\n",
       "      <td>2.70</td>\n",
       "      <td>16.0</td>\n",
       "      <td>51.0</td>\n",
       "      <td>8</td>\n",
       "      <td>True</td>\n",
       "      <td>...</td>\n",
       "      <td>482.0</td>\n",
       "      <td>2.0</td>\n",
       "      <td>755.0</td>\n",
       "      <td>0.0</td>\n",
       "      <td>120370.370370</td>\n",
       "      <td>3</td>\n",
       "      <td>3</td>\n",
       "      <td>2019</td>\n",
       "      <td>Другой</td>\n",
       "      <td>0.472222</td>\n",
       "    </tr>\n",
       "    <tr>\n",
       "      <th>1</th>\n",
       "      <td>7</td>\n",
       "      <td>3350000.0</td>\n",
       "      <td>40.4</td>\n",
       "      <td>2018-12-04</td>\n",
       "      <td>1</td>\n",
       "      <td>2.65</td>\n",
       "      <td>11.0</td>\n",
       "      <td>18.6</td>\n",
       "      <td>1</td>\n",
       "      <td>True</td>\n",
       "      <td>...</td>\n",
       "      <td>NaN</td>\n",
       "      <td>0.0</td>\n",
       "      <td>NaN</td>\n",
       "      <td>81.0</td>\n",
       "      <td>82920.792079</td>\n",
       "      <td>1</td>\n",
       "      <td>12</td>\n",
       "      <td>2018</td>\n",
       "      <td>Первый</td>\n",
       "      <td>0.460396</td>\n",
       "    </tr>\n",
       "    <tr>\n",
       "      <th>2</th>\n",
       "      <td>10</td>\n",
       "      <td>5196000.0</td>\n",
       "      <td>56.0</td>\n",
       "      <td>2015-08-20</td>\n",
       "      <td>2</td>\n",
       "      <td>2.65</td>\n",
       "      <td>5.0</td>\n",
       "      <td>34.3</td>\n",
       "      <td>4</td>\n",
       "      <td>True</td>\n",
       "      <td>...</td>\n",
       "      <td>90.0</td>\n",
       "      <td>2.0</td>\n",
       "      <td>574.0</td>\n",
       "      <td>558.0</td>\n",
       "      <td>92785.714286</td>\n",
       "      <td>3</td>\n",
       "      <td>8</td>\n",
       "      <td>2015</td>\n",
       "      <td>Другой</td>\n",
       "      <td>0.612500</td>\n",
       "    </tr>\n",
       "    <tr>\n",
       "      <th>3</th>\n",
       "      <td>0</td>\n",
       "      <td>64900000.0</td>\n",
       "      <td>159.0</td>\n",
       "      <td>2015-07-24</td>\n",
       "      <td>3</td>\n",
       "      <td>2.65</td>\n",
       "      <td>14.0</td>\n",
       "      <td>45.0</td>\n",
       "      <td>9</td>\n",
       "      <td>True</td>\n",
       "      <td>...</td>\n",
       "      <td>84.0</td>\n",
       "      <td>3.0</td>\n",
       "      <td>234.0</td>\n",
       "      <td>424.0</td>\n",
       "      <td>408176.100629</td>\n",
       "      <td>4</td>\n",
       "      <td>7</td>\n",
       "      <td>2015</td>\n",
       "      <td>Другой</td>\n",
       "      <td>0.283019</td>\n",
       "    </tr>\n",
       "    <tr>\n",
       "      <th>4</th>\n",
       "      <td>2</td>\n",
       "      <td>10000000.0</td>\n",
       "      <td>100.0</td>\n",
       "      <td>2018-06-19</td>\n",
       "      <td>2</td>\n",
       "      <td>3.03</td>\n",
       "      <td>14.0</td>\n",
       "      <td>32.0</td>\n",
       "      <td>13</td>\n",
       "      <td>True</td>\n",
       "      <td>...</td>\n",
       "      <td>112.0</td>\n",
       "      <td>1.0</td>\n",
       "      <td>48.0</td>\n",
       "      <td>121.0</td>\n",
       "      <td>100000.000000</td>\n",
       "      <td>1</td>\n",
       "      <td>6</td>\n",
       "      <td>2018</td>\n",
       "      <td>Другой</td>\n",
       "      <td>0.320000</td>\n",
       "    </tr>\n",
       "  </tbody>\n",
       "</table>\n",
       "<p>5 rows × 28 columns</p>\n",
       "</div>"
      ],
      "text/plain": [
       "   total_images  last_price  total_area first_day_exposition  rooms  \\\n",
       "0            20  13000000.0       108.0           2019-03-07      3   \n",
       "1             7   3350000.0        40.4           2018-12-04      1   \n",
       "2            10   5196000.0        56.0           2015-08-20      2   \n",
       "3             0  64900000.0       159.0           2015-07-24      3   \n",
       "4             2  10000000.0       100.0           2018-06-19      2   \n",
       "\n",
       "   ceiling_height  floors_total  living_area  floor  is_apartment  ...  \\\n",
       "0            2.70          16.0         51.0      8          True  ...   \n",
       "1            2.65          11.0         18.6      1          True  ...   \n",
       "2            2.65           5.0         34.3      4          True  ...   \n",
       "3            2.65          14.0         45.0      9          True  ...   \n",
       "4            3.03          14.0         32.0     13          True  ...   \n",
       "\n",
       "   parks_nearest  ponds_around3000  ponds_nearest  days_exposition  \\\n",
       "0          482.0               2.0          755.0              0.0   \n",
       "1            NaN               0.0            NaN             81.0   \n",
       "2           90.0               2.0          574.0            558.0   \n",
       "3           84.0               3.0          234.0            424.0   \n",
       "4          112.0               1.0           48.0            121.0   \n",
       "\n",
       "  price_per_meter  weekday  month  year  floor_type  living_to_total  \n",
       "0   120370.370370        3      3  2019      Другой         0.472222  \n",
       "1    82920.792079        1     12  2018      Первый         0.460396  \n",
       "2    92785.714286        3      8  2015      Другой         0.612500  \n",
       "3   408176.100629        4      7  2015      Другой         0.283019  \n",
       "4   100000.000000        1      6  2018      Другой         0.320000  \n",
       "\n",
       "[5 rows x 28 columns]"
      ]
     },
     "execution_count": 24,
     "metadata": {},
     "output_type": "execute_result"
    }
   ],
   "source": [
    "data['living_to_total'] = data['living_area'] / data['total_area']\n",
    "data.head()"
   ]
  },
  {
   "cell_type": "markdown",
   "id": "3d0529fa",
   "metadata": {},
   "source": [
    "То же самое проделаем с площадью кухни, найдем ее отношение к общей площади: "
   ]
  },
  {
   "cell_type": "code",
   "execution_count": 25,
   "id": "1e5ea423",
   "metadata": {
    "scrolled": true
   },
   "outputs": [
    {
     "data": {
      "text/html": [
       "<div>\n",
       "<style scoped>\n",
       "    .dataframe tbody tr th:only-of-type {\n",
       "        vertical-align: middle;\n",
       "    }\n",
       "\n",
       "    .dataframe tbody tr th {\n",
       "        vertical-align: top;\n",
       "    }\n",
       "\n",
       "    .dataframe thead th {\n",
       "        text-align: right;\n",
       "    }\n",
       "</style>\n",
       "<table border=\"1\" class=\"dataframe\">\n",
       "  <thead>\n",
       "    <tr style=\"text-align: right;\">\n",
       "      <th></th>\n",
       "      <th>total_images</th>\n",
       "      <th>last_price</th>\n",
       "      <th>total_area</th>\n",
       "      <th>first_day_exposition</th>\n",
       "      <th>rooms</th>\n",
       "      <th>ceiling_height</th>\n",
       "      <th>floors_total</th>\n",
       "      <th>living_area</th>\n",
       "      <th>floor</th>\n",
       "      <th>is_apartment</th>\n",
       "      <th>...</th>\n",
       "      <th>ponds_around3000</th>\n",
       "      <th>ponds_nearest</th>\n",
       "      <th>days_exposition</th>\n",
       "      <th>price_per_meter</th>\n",
       "      <th>weekday</th>\n",
       "      <th>month</th>\n",
       "      <th>year</th>\n",
       "      <th>floor_type</th>\n",
       "      <th>living_to_total</th>\n",
       "      <th>kitchen_to_total</th>\n",
       "    </tr>\n",
       "  </thead>\n",
       "  <tbody>\n",
       "    <tr>\n",
       "      <th>0</th>\n",
       "      <td>20</td>\n",
       "      <td>13000000.0</td>\n",
       "      <td>108.0</td>\n",
       "      <td>2019-03-07</td>\n",
       "      <td>3</td>\n",
       "      <td>2.70</td>\n",
       "      <td>16.0</td>\n",
       "      <td>51.0</td>\n",
       "      <td>8</td>\n",
       "      <td>True</td>\n",
       "      <td>...</td>\n",
       "      <td>2.0</td>\n",
       "      <td>755.0</td>\n",
       "      <td>0.0</td>\n",
       "      <td>120370.370370</td>\n",
       "      <td>3</td>\n",
       "      <td>3</td>\n",
       "      <td>2019</td>\n",
       "      <td>Другой</td>\n",
       "      <td>0.472222</td>\n",
       "      <td>0.231481</td>\n",
       "    </tr>\n",
       "    <tr>\n",
       "      <th>1</th>\n",
       "      <td>7</td>\n",
       "      <td>3350000.0</td>\n",
       "      <td>40.4</td>\n",
       "      <td>2018-12-04</td>\n",
       "      <td>1</td>\n",
       "      <td>2.65</td>\n",
       "      <td>11.0</td>\n",
       "      <td>18.6</td>\n",
       "      <td>1</td>\n",
       "      <td>True</td>\n",
       "      <td>...</td>\n",
       "      <td>0.0</td>\n",
       "      <td>NaN</td>\n",
       "      <td>81.0</td>\n",
       "      <td>82920.792079</td>\n",
       "      <td>1</td>\n",
       "      <td>12</td>\n",
       "      <td>2018</td>\n",
       "      <td>Первый</td>\n",
       "      <td>0.460396</td>\n",
       "      <td>0.272277</td>\n",
       "    </tr>\n",
       "    <tr>\n",
       "      <th>2</th>\n",
       "      <td>10</td>\n",
       "      <td>5196000.0</td>\n",
       "      <td>56.0</td>\n",
       "      <td>2015-08-20</td>\n",
       "      <td>2</td>\n",
       "      <td>2.65</td>\n",
       "      <td>5.0</td>\n",
       "      <td>34.3</td>\n",
       "      <td>4</td>\n",
       "      <td>True</td>\n",
       "      <td>...</td>\n",
       "      <td>2.0</td>\n",
       "      <td>574.0</td>\n",
       "      <td>558.0</td>\n",
       "      <td>92785.714286</td>\n",
       "      <td>3</td>\n",
       "      <td>8</td>\n",
       "      <td>2015</td>\n",
       "      <td>Другой</td>\n",
       "      <td>0.612500</td>\n",
       "      <td>0.148214</td>\n",
       "    </tr>\n",
       "    <tr>\n",
       "      <th>3</th>\n",
       "      <td>0</td>\n",
       "      <td>64900000.0</td>\n",
       "      <td>159.0</td>\n",
       "      <td>2015-07-24</td>\n",
       "      <td>3</td>\n",
       "      <td>2.65</td>\n",
       "      <td>14.0</td>\n",
       "      <td>45.0</td>\n",
       "      <td>9</td>\n",
       "      <td>True</td>\n",
       "      <td>...</td>\n",
       "      <td>3.0</td>\n",
       "      <td>234.0</td>\n",
       "      <td>424.0</td>\n",
       "      <td>408176.100629</td>\n",
       "      <td>4</td>\n",
       "      <td>7</td>\n",
       "      <td>2015</td>\n",
       "      <td>Другой</td>\n",
       "      <td>0.283019</td>\n",
       "      <td>NaN</td>\n",
       "    </tr>\n",
       "    <tr>\n",
       "      <th>4</th>\n",
       "      <td>2</td>\n",
       "      <td>10000000.0</td>\n",
       "      <td>100.0</td>\n",
       "      <td>2018-06-19</td>\n",
       "      <td>2</td>\n",
       "      <td>3.03</td>\n",
       "      <td>14.0</td>\n",
       "      <td>32.0</td>\n",
       "      <td>13</td>\n",
       "      <td>True</td>\n",
       "      <td>...</td>\n",
       "      <td>1.0</td>\n",
       "      <td>48.0</td>\n",
       "      <td>121.0</td>\n",
       "      <td>100000.000000</td>\n",
       "      <td>1</td>\n",
       "      <td>6</td>\n",
       "      <td>2018</td>\n",
       "      <td>Другой</td>\n",
       "      <td>0.320000</td>\n",
       "      <td>0.410000</td>\n",
       "    </tr>\n",
       "  </tbody>\n",
       "</table>\n",
       "<p>5 rows × 29 columns</p>\n",
       "</div>"
      ],
      "text/plain": [
       "   total_images  last_price  total_area first_day_exposition  rooms  \\\n",
       "0            20  13000000.0       108.0           2019-03-07      3   \n",
       "1             7   3350000.0        40.4           2018-12-04      1   \n",
       "2            10   5196000.0        56.0           2015-08-20      2   \n",
       "3             0  64900000.0       159.0           2015-07-24      3   \n",
       "4             2  10000000.0       100.0           2018-06-19      2   \n",
       "\n",
       "   ceiling_height  floors_total  living_area  floor  is_apartment  ...  \\\n",
       "0            2.70          16.0         51.0      8          True  ...   \n",
       "1            2.65          11.0         18.6      1          True  ...   \n",
       "2            2.65           5.0         34.3      4          True  ...   \n",
       "3            2.65          14.0         45.0      9          True  ...   \n",
       "4            3.03          14.0         32.0     13          True  ...   \n",
       "\n",
       "   ponds_around3000  ponds_nearest  days_exposition  price_per_meter weekday  \\\n",
       "0               2.0          755.0              0.0    120370.370370       3   \n",
       "1               0.0            NaN             81.0     82920.792079       1   \n",
       "2               2.0          574.0            558.0     92785.714286       3   \n",
       "3               3.0          234.0            424.0    408176.100629       4   \n",
       "4               1.0           48.0            121.0    100000.000000       1   \n",
       "\n",
       "   month  year  floor_type  living_to_total  kitchen_to_total  \n",
       "0      3  2019      Другой         0.472222          0.231481  \n",
       "1     12  2018      Первый         0.460396          0.272277  \n",
       "2      8  2015      Другой         0.612500          0.148214  \n",
       "3      7  2015      Другой         0.283019               NaN  \n",
       "4      6  2018      Другой         0.320000          0.410000  \n",
       "\n",
       "[5 rows x 29 columns]"
      ]
     },
     "execution_count": 25,
     "metadata": {},
     "output_type": "execute_result"
    }
   ],
   "source": [
    "data['kitchen_to_total'] = data['kitchen_area'] / data['total_area']\n",
    "data.head()"
   ]
  },
  {
   "cell_type": "markdown",
   "id": "b60f84b4",
   "metadata": {},
   "source": [
    "## Исследовательский анализ данных"
   ]
  },
  {
   "cell_type": "markdown",
   "id": "ba1ea9e6",
   "metadata": {},
   "source": [
    "### Изучение параметров"
   ]
  },
  {
   "cell_type": "markdown",
   "id": "de7410cb",
   "metadata": {},
   "source": [
    "Изучим площадь квартир с помощью гистограммы:"
   ]
  },
  {
   "cell_type": "code",
   "execution_count": 26,
   "id": "53278715",
   "metadata": {},
   "outputs": [
    {
     "data": {
      "image/png": "[encoded data removed]",
      "text/plain": [
       "<Figure size 432x288 with 1 Axes>"
      ]
     },
     "metadata": {
      "needs_background": "light"
     },
     "output_type": "display_data"
    },
    {
     "data": {
      "text/plain": [
       "count    23624.000000\n",
       "mean        60.180036\n",
       "std         35.040518\n",
       "min         12.000000\n",
       "25%         40.000000\n",
       "50%         52.000000\n",
       "75%         69.700000\n",
       "max        900.000000\n",
       "Name: total_area, dtype: float64"
      ]
     },
     "execution_count": 26,
     "metadata": {},
     "output_type": "execute_result"
    }
   ],
   "source": [
    "plt.hist(data['total_area'], bins=50, range=(10,400))\n",
    "plt.grid(True)\n",
    "plt.title('Площадь квартир')\n",
    "plt.xlabel('Квадратные метры')\n",
    "plt.ylabel('Количество квартир')\n",
    "plt.show()\n",
    "\n",
    "data['total_area'].describe()"
   ]
  },
  {
   "cell_type": "code",
   "execution_count": 27,
   "id": "3bf7f839",
   "metadata": {},
   "outputs": [
    {
     "data": {
      "image/png": "[encoded data removed]",
      "text/plain": [
       "<Figure size 432x288 with 1 Axes>"
      ]
     },
     "metadata": {
      "needs_background": "light"
     },
     "output_type": "display_data"
    }
   ],
   "source": [
    "plt.boxplot(data['total_area'])              #также строим диаграмму размаха\n",
    "plt.ylim(0,500);"
   ]
  },
  {
   "cell_type": "markdown",
   "id": "cd08dc56",
   "metadata": {},
   "source": [
    "Площадь большинства квартир из объявлений находится в промежутке от 40 до 70 квадратных метров. Медиана - 52 м2, среднее значение несколько больше (60 м2), потому что в данных присутствуют незначительные выбросы - квартиры с площадью 250, 350 и даже 900 квадратных метров. Судя по диаграмме размаха, можно отбросить все значения, что больше 120."
   ]
  },
  {
   "cell_type": "markdown",
   "id": "1342dfea",
   "metadata": {},
   "source": [
    "Изучим цену:"
   ]
  },
  {
   "cell_type": "code",
   "execution_count": 28,
   "id": "cc748c28",
   "metadata": {},
   "outputs": [
    {
     "data": {
      "image/png": "[encoded data removed]",
      "text/plain": [
       "<Figure size 432x288 with 1 Axes>"
      ]
     },
     "metadata": {
      "needs_background": "light"
     },
     "output_type": "display_data"
    },
    {
     "data": {
      "text/plain": [
       "count    2.362400e+04\n",
       "mean     6.494000e+06\n",
       "std      1.071646e+07\n",
       "min      1.219000e+04\n",
       "25%      3.400000e+06\n",
       "50%      4.640000e+06\n",
       "75%      6.755720e+06\n",
       "max      7.630000e+08\n",
       "Name: last_price, dtype: float64"
      ]
     },
     "execution_count": 28,
     "metadata": {},
     "output_type": "execute_result"
    }
   ],
   "source": [
    "plt.hist(data['last_price'], bins=50, range=(0,30000000))\n",
    "plt.grid(True)\n",
    "plt.title('Стоимость квартир')\n",
    "plt.xlabel('Стоимость')\n",
    "plt.ylabel('Количество квартир')\n",
    "plt.show()\n",
    "\n",
    "data['last_price'].describe()"
   ]
  },
  {
   "cell_type": "code",
   "execution_count": 29,
   "id": "de8d0e2e",
   "metadata": {},
   "outputs": [
    {
     "data": {
      "image/png": "[encoded data removed]",
      "text/plain": [
       "<Figure size 432x288 with 1 Axes>"
      ]
     },
     "metadata": {
      "needs_background": "light"
     },
     "output_type": "display_data"
    }
   ],
   "source": [
    "plt.boxplot(data['last_price'])             \n",
    "plt.ylim(10000,30000000);"
   ]
  },
  {
   "cell_type": "markdown",
   "id": "ef4d2503",
   "metadata": {},
   "source": [
    "Цены на квартиры распределены главным образом в промежутке от 3,4 до 6,8 миллионов. Медианное значение - 4,6 млн. Есть выбросы в данных - как слишком маленькие значения (от 12 тыс), так и невероятно большие (до 763 млн). Чуть позже удалим значения, находящиеся за пределами усов (больше 12 млн). "
   ]
  },
  {
   "cell_type": "markdown",
   "id": "a029aa16",
   "metadata": {},
   "source": [
    "Теперь изучим количество квартир по числу комнат:"
   ]
  },
  {
   "cell_type": "code",
   "execution_count": 30,
   "id": "7dc99729",
   "metadata": {
    "scrolled": false
   },
   "outputs": [
    {
     "data": {
      "image/png": "[encoded data removed]",
      "text/plain": [
       "<Figure size 432x288 with 1 Axes>"
      ]
     },
     "metadata": {
      "needs_background": "light"
     },
     "output_type": "display_data"
    },
    {
     "data": {
      "text/plain": [
       "count    23624.000000\n",
       "mean         2.068659\n",
       "std          1.075892\n",
       "min          0.000000\n",
       "25%          1.000000\n",
       "50%          2.000000\n",
       "75%          3.000000\n",
       "max         19.000000\n",
       "Name: rooms, dtype: float64"
      ]
     },
     "execution_count": 30,
     "metadata": {},
     "output_type": "execute_result"
    }
   ],
   "source": [
    "plt.hist(data['rooms'], bins=10, range=(0,10))\n",
    "plt.grid(True)\n",
    "plt.title('Комнаты')\n",
    "plt.xlabel('Число комнат')\n",
    "plt.ylabel('Количество квартир')\n",
    "plt.show()\n",
    "\n",
    "data['rooms'].describe()"
   ]
  },
  {
   "cell_type": "code",
   "execution_count": 31,
   "id": "011fe554",
   "metadata": {},
   "outputs": [
    {
     "data": {
      "image/png": "[encoded data removed]",
      "text/plain": [
       "<Figure size 432x288 with 1 Axes>"
      ]
     },
     "metadata": {
      "needs_background": "light"
     },
     "output_type": "display_data"
    }
   ],
   "source": [
    "plt.boxplot(data['rooms'])             \n",
    "plt.ylim(0,10);"
   ]
  },
  {
   "cell_type": "markdown",
   "id": "0927aae5",
   "metadata": {},
   "source": [
    "Данные показывают нормальное распределение. Больше всего квартир с 1-3 комнатами. Но и здесь есть выбивающиеся значения с 6 комнатами и больше. Их мы и будем убирать."
   ]
  },
  {
   "cell_type": "markdown",
   "id": "915b18cf",
   "metadata": {},
   "source": [
    "И изучим высоту потолков:"
   ]
  },
  {
   "cell_type": "code",
   "execution_count": 32,
   "id": "bee9414d",
   "metadata": {},
   "outputs": [
    {
     "data": {
      "image/png": "[encoded data removed]",
      "text/plain": [
       "<Figure size 432x288 with 1 Axes>"
      ]
     },
     "metadata": {
      "needs_background": "light"
     },
     "output_type": "display_data"
    },
    {
     "data": {
      "text/plain": [
       "count    23624.000000\n",
       "mean         2.693188\n",
       "std          0.205278\n",
       "min          1.000000\n",
       "25%          2.600000\n",
       "50%          2.650000\n",
       "75%          2.700000\n",
       "max          4.000000\n",
       "Name: ceiling_height, dtype: float64"
      ]
     },
     "execution_count": 32,
     "metadata": {},
     "output_type": "execute_result"
    }
   ],
   "source": [
    "plt.hist(data['ceiling_height'], bins=10, range=(2,5))\n",
    "plt.grid(True)\n",
    "plt.title('Потолки')\n",
    "plt.xlabel('Высота потолка')\n",
    "plt.ylabel('Количество квартир')\n",
    "plt.show()\n",
    "\n",
    "data['ceiling_height'].describe()"
   ]
  },
  {
   "cell_type": "markdown",
   "id": "0b71ca3b",
   "metadata": {},
   "source": [
    "В большинстве вариантов высота потолков составляет 2,6-2,7 метров. От выбросов мы избавились раньше."
   ]
  },
  {
   "cell_type": "markdown",
   "id": "db9d7a8a",
   "metadata": {},
   "source": [
    "В целом во всех данных встречаются аномально низкие и высокие значения. Их доля от общего числа незначительна, но для чистоты исследования в следующих пунктах мы избавимся от выбивающихся значений."
   ]
  },
  {
   "cell_type": "markdown",
   "id": "5bce01a2",
   "metadata": {},
   "source": [
    "### Изучение времени продажи квартиры"
   ]
  },
  {
   "cell_type": "markdown",
   "id": "f2249624",
   "metadata": {},
   "source": [
    "Построим диаграмму на основе столбца `days_exposition`"
   ]
  },
  {
   "cell_type": "code",
   "execution_count": 33,
   "id": "2de7f755",
   "metadata": {
    "scrolled": false
   },
   "outputs": [
    {
     "data": {
      "image/png": "[encoded data removed]",
      "text/plain": [
       "<Figure size 432x288 with 1 Axes>"
      ]
     },
     "metadata": {
      "needs_background": "light"
     },
     "output_type": "display_data"
    },
    {
     "data": {
      "text/plain": [
       "count    20457.000000\n",
       "mean       180.631715\n",
       "std        219.454221\n",
       "min          1.000000\n",
       "25%         45.000000\n",
       "50%         95.000000\n",
       "75%        231.000000\n",
       "max       1580.000000\n",
       "Name: days_exposition, dtype: float64"
      ]
     },
     "execution_count": 33,
     "metadata": {},
     "output_type": "execute_result"
    }
   ],
   "source": [
    "plt.hist(data.query('days_exposition != 0')['days_exposition'], bins=80, range=(0,300))\n",
    "plt.grid(True)\n",
    "plt.title('Время продажи')\n",
    "plt.xlabel('Количество дней')\n",
    "plt.ylabel('Количество квартир')\n",
    "plt.show()\n",
    "\n",
    "data.query('days_exposition != 0')['days_exposition'].describe()"
   ]
  },
  {
   "cell_type": "markdown",
   "id": "e2c79c53",
   "metadata": {},
   "source": [
    "Медиана времени продажи - 95 дней, среднее значение - 181 день. Межквартильный размах - от 45 до 231 дней, столько обычно занимет продажа. Все, что меньше или больше этого диапазона, можно считать слишком быстрой и слишкой медленной продажей соответственно. \n",
    "\n",
    "Среднее значение больше медианы почти в два раза, кроме того, очень велико стандартное отклонение. Построим диаграмму размаха, чтобы посмотреть подробнее."
   ]
  },
  {
   "cell_type": "code",
   "execution_count": 34,
   "id": "5944c83d",
   "metadata": {},
   "outputs": [
    {
     "data": {
      "image/png": "[encoded data removed]",
      "text/plain": [
       "<Figure size 432x288 with 1 Axes>"
      ]
     },
     "metadata": {
      "needs_background": "light"
     },
     "output_type": "display_data"
    }
   ],
   "source": [
    "plt.boxplot(data[data['days_exposition'] != 0]['days_exposition'])\n",
    "plt.ylim(1,1000);"
   ]
  },
  {
   "cell_type": "markdown",
   "id": "ac305725",
   "metadata": {},
   "source": [
    "Согласно диаграмме размаха все значения больше ~500 дней являются выбросами. 500 дней - это почти полтора года, вряд ли кто-то продает квартиру столько времени и дольше. К тому же, таких значений меньше 10% от общего числа, можем смело избавиться от них. \n",
    "\n",
    "Также на гистограмме мы видим несколько аномальных пиков. С помощью `value_counts` посмотрим, на каких значениях возникают пики.  "
   ]
  },
  {
   "cell_type": "code",
   "execution_count": 35,
   "id": "a4f03c7a",
   "metadata": {},
   "outputs": [
    {
     "data": {
      "text/plain": [
       "45.0      880\n",
       "60.0      537\n",
       "7.0       233\n",
       "30.0      207\n",
       "90.0      204\n",
       "         ... \n",
       "969.0       1\n",
       "1147.0      1\n",
       "1148.0      1\n",
       "1345.0      1\n",
       "1174.0      1\n",
       "Name: days_exposition, Length: 1140, dtype: int64"
      ]
     },
     "execution_count": 35,
     "metadata": {},
     "output_type": "execute_result"
    }
   ],
   "source": [
    "data[data['days_exposition'] != 0]['days_exposition'].value_counts()"
   ]
  },
  {
   "cell_type": "markdown",
   "id": "6d56465d",
   "metadata": {},
   "source": [
    "Итак, пики наблюдаются на значениях 7, 30, 45, 60 и 90 дней. Можно предположить, что это сроки, после которых на сервисе происходит автоматическое снятие объявления (если оно не продлевается вручную). Всего в сумме таких значений не очень много, поэтому мы их тоже не будем включать в итоговую выборку.    "
   ]
  },
  {
   "cell_type": "markdown",
   "id": "63dfdb53",
   "metadata": {},
   "source": [
    "### Работа с редкими и выбивающимися значениями"
   ]
  },
  {
   "cell_type": "markdown",
   "id": "f9f4a970",
   "metadata": {},
   "source": [
    "Формируем срез без выбивающихся значений столбца `days_exposition`."
   ]
  },
  {
   "cell_type": "code",
   "execution_count": 36,
   "id": "125c3c32",
   "metadata": {},
   "outputs": [],
   "source": [
    "good_data = data.query('days_exposition < 500 and days_exposition != 0 and days_exposition != 7 and days_exposition != 30 \\\n",
    "and days_exposition != 45.00000000000001 and days_exposition != 60 and days_exposition != 90.00000000000001')"
   ]
  },
  {
   "cell_type": "code",
   "execution_count": 37,
   "id": "c91f2b92",
   "metadata": {},
   "outputs": [
    {
     "data": {
      "image/png": "[encoded data removed]",
      "text/plain": [
       "<Figure size 432x288 with 1 Axes>"
      ]
     },
     "metadata": {
      "needs_background": "light"
     },
     "output_type": "display_data"
    },
    {
     "data": {
      "text/plain": [
       "count    16651.000000\n",
       "mean       136.745901\n",
       "std        122.373395\n",
       "min          1.000000\n",
       "25%         40.000000\n",
       "50%         98.000000\n",
       "75%        198.000000\n",
       "max        499.000000\n",
       "Name: days_exposition, dtype: float64"
      ]
     },
     "execution_count": 37,
     "metadata": {},
     "output_type": "execute_result"
    }
   ],
   "source": [
    "plt.hist(good_data['days_exposition'], bins=80, range=(0,300))\n",
    "plt.grid(True)\n",
    "plt.title('Время продажи')\n",
    "plt.xlabel('Количество дней')\n",
    "plt.ylabel('Количество квартир')\n",
    "plt.show()\n",
    "\n",
    "good_data['days_exposition'].describe()"
   ]
  },
  {
   "cell_type": "markdown",
   "id": "5cea5ebd",
   "metadata": {},
   "source": [
    "Теперь данные выглядят гораздо более равномерно.\n",
    "\n",
    "Уберем также аномальные значения, которые мы обнаружили ранее:"
   ]
  },
  {
   "cell_type": "code",
   "execution_count": 38,
   "id": "1c03dc09",
   "metadata": {},
   "outputs": [],
   "source": [
    "good_data = good_data.query('total_area < 120')\n",
    "good_data = good_data.query('last_price < 12000000')\n",
    "good_data = good_data.query('rooms < 6')                #формируем новый срез на каждом условии"
   ]
  },
  {
   "cell_type": "markdown",
   "id": "b5d6cdca",
   "metadata": {},
   "source": [
    "Сравним основные показатели первоначального датасета и отфильтрованного."
   ]
  },
  {
   "cell_type": "code",
   "execution_count": 39,
   "id": "e91a9f7d",
   "metadata": {},
   "outputs": [
    {
     "data": {
      "text/html": [
       "<div>\n",
       "<style scoped>\n",
       "    .dataframe tbody tr th:only-of-type {\n",
       "        vertical-align: middle;\n",
       "    }\n",
       "\n",
       "    .dataframe tbody tr th {\n",
       "        vertical-align: top;\n",
       "    }\n",
       "\n",
       "    .dataframe thead th {\n",
       "        text-align: right;\n",
       "    }\n",
       "</style>\n",
       "<table border=\"1\" class=\"dataframe\">\n",
       "  <thead>\n",
       "    <tr style=\"text-align: right;\">\n",
       "      <th></th>\n",
       "      <th>total_images</th>\n",
       "      <th>last_price</th>\n",
       "      <th>total_area</th>\n",
       "      <th>rooms</th>\n",
       "      <th>ceiling_height</th>\n",
       "      <th>floors_total</th>\n",
       "      <th>living_area</th>\n",
       "      <th>floor</th>\n",
       "      <th>kitchen_area</th>\n",
       "      <th>balcony</th>\n",
       "      <th>...</th>\n",
       "      <th>parks_nearest</th>\n",
       "      <th>ponds_around3000</th>\n",
       "      <th>ponds_nearest</th>\n",
       "      <th>days_exposition</th>\n",
       "      <th>price_per_meter</th>\n",
       "      <th>weekday</th>\n",
       "      <th>month</th>\n",
       "      <th>year</th>\n",
       "      <th>living_to_total</th>\n",
       "      <th>kitchen_to_total</th>\n",
       "    </tr>\n",
       "  </thead>\n",
       "  <tbody>\n",
       "    <tr>\n",
       "      <th>count</th>\n",
       "      <td>23624.000000</td>\n",
       "      <td>2.362400e+04</td>\n",
       "      <td>23624.000000</td>\n",
       "      <td>23624.000000</td>\n",
       "      <td>23624.000000</td>\n",
       "      <td>23538.000000</td>\n",
       "      <td>23624.000000</td>\n",
       "      <td>23624.000000</td>\n",
       "      <td>21573.000000</td>\n",
       "      <td>23624.000000</td>\n",
       "      <td>...</td>\n",
       "      <td>8042.000000</td>\n",
       "      <td>18120.000000</td>\n",
       "      <td>9072.000000</td>\n",
       "      <td>23624.000000</td>\n",
       "      <td>2.362400e+04</td>\n",
       "      <td>23624.000000</td>\n",
       "      <td>23624.000000</td>\n",
       "      <td>23624.000000</td>\n",
       "      <td>23624.000000</td>\n",
       "      <td>21573.000000</td>\n",
       "    </tr>\n",
       "    <tr>\n",
       "      <th>mean</th>\n",
       "      <td>9.853835</td>\n",
       "      <td>6.494000e+06</td>\n",
       "      <td>60.180036</td>\n",
       "      <td>2.068659</td>\n",
       "      <td>2.693188</td>\n",
       "      <td>10.685062</td>\n",
       "      <td>34.219280</td>\n",
       "      <td>5.895234</td>\n",
       "      <td>10.449267</td>\n",
       "      <td>0.590374</td>\n",
       "      <td>...</td>\n",
       "      <td>490.904004</td>\n",
       "      <td>0.768764</td>\n",
       "      <td>518.148038</td>\n",
       "      <td>156.416483</td>\n",
       "      <td>9.925669e+04</td>\n",
       "      <td>2.569506</td>\n",
       "      <td>6.398916</td>\n",
       "      <td>2017.367465</td>\n",
       "      <td>0.563739</td>\n",
       "      <td>0.185546</td>\n",
       "    </tr>\n",
       "    <tr>\n",
       "      <th>std</th>\n",
       "      <td>5.679276</td>\n",
       "      <td>1.071646e+07</td>\n",
       "      <td>35.040518</td>\n",
       "      <td>1.075892</td>\n",
       "      <td>0.205278</td>\n",
       "      <td>6.596081</td>\n",
       "      <td>21.339876</td>\n",
       "      <td>4.886268</td>\n",
       "      <td>5.936538</td>\n",
       "      <td>0.958325</td>\n",
       "      <td>...</td>\n",
       "      <td>342.660889</td>\n",
       "      <td>0.937153</td>\n",
       "      <td>277.859443</td>\n",
       "      <td>213.287181</td>\n",
       "      <td>4.977681e+04</td>\n",
       "      <td>1.789496</td>\n",
       "      <td>3.491298</td>\n",
       "      <td>1.039479</td>\n",
       "      <td>0.110841</td>\n",
       "      <td>0.074920</td>\n",
       "    </tr>\n",
       "    <tr>\n",
       "      <th>min</th>\n",
       "      <td>0.000000</td>\n",
       "      <td>1.219000e+04</td>\n",
       "      <td>12.000000</td>\n",
       "      <td>0.000000</td>\n",
       "      <td>1.000000</td>\n",
       "      <td>1.000000</td>\n",
       "      <td>2.000000</td>\n",
       "      <td>1.000000</td>\n",
       "      <td>0.000000</td>\n",
       "      <td>0.000000</td>\n",
       "      <td>...</td>\n",
       "      <td>1.000000</td>\n",
       "      <td>0.000000</td>\n",
       "      <td>13.000000</td>\n",
       "      <td>0.000000</td>\n",
       "      <td>1.118349e+02</td>\n",
       "      <td>0.000000</td>\n",
       "      <td>1.000000</td>\n",
       "      <td>2014.000000</td>\n",
       "      <td>0.021583</td>\n",
       "      <td>0.000000</td>\n",
       "    </tr>\n",
       "    <tr>\n",
       "      <th>25%</th>\n",
       "      <td>6.000000</td>\n",
       "      <td>3.400000e+06</td>\n",
       "      <td>40.000000</td>\n",
       "      <td>1.000000</td>\n",
       "      <td>2.600000</td>\n",
       "      <td>5.000000</td>\n",
       "      <td>18.400000</td>\n",
       "      <td>2.000000</td>\n",
       "      <td>7.000000</td>\n",
       "      <td>0.000000</td>\n",
       "      <td>...</td>\n",
       "      <td>288.000000</td>\n",
       "      <td>0.000000</td>\n",
       "      <td>294.000000</td>\n",
       "      <td>22.000000</td>\n",
       "      <td>7.656653e+04</td>\n",
       "      <td>1.000000</td>\n",
       "      <td>3.000000</td>\n",
       "      <td>2017.000000</td>\n",
       "      <td>0.490251</td>\n",
       "      <td>0.132653</td>\n",
       "    </tr>\n",
       "    <tr>\n",
       "      <th>50%</th>\n",
       "      <td>9.000000</td>\n",
       "      <td>4.640000e+06</td>\n",
       "      <td>52.000000</td>\n",
       "      <td>2.000000</td>\n",
       "      <td>2.650000</td>\n",
       "      <td>9.000000</td>\n",
       "      <td>30.300000</td>\n",
       "      <td>4.000000</td>\n",
       "      <td>9.000000</td>\n",
       "      <td>0.000000</td>\n",
       "      <td>...</td>\n",
       "      <td>454.000000</td>\n",
       "      <td>1.000000</td>\n",
       "      <td>502.000000</td>\n",
       "      <td>74.000000</td>\n",
       "      <td>9.498379e+04</td>\n",
       "      <td>3.000000</td>\n",
       "      <td>6.000000</td>\n",
       "      <td>2017.000000</td>\n",
       "      <td>0.566433</td>\n",
       "      <td>0.171429</td>\n",
       "    </tr>\n",
       "    <tr>\n",
       "      <th>75%</th>\n",
       "      <td>14.000000</td>\n",
       "      <td>6.755720e+06</td>\n",
       "      <td>69.700000</td>\n",
       "      <td>3.000000</td>\n",
       "      <td>2.700000</td>\n",
       "      <td>16.000000</td>\n",
       "      <td>42.600000</td>\n",
       "      <td>8.000000</td>\n",
       "      <td>12.000000</td>\n",
       "      <td>1.000000</td>\n",
       "      <td>...</td>\n",
       "      <td>612.000000</td>\n",
       "      <td>1.000000</td>\n",
       "      <td>730.000000</td>\n",
       "      <td>198.000000</td>\n",
       "      <td>1.141418e+05</td>\n",
       "      <td>4.000000</td>\n",
       "      <td>10.000000</td>\n",
       "      <td>2018.000000</td>\n",
       "      <td>0.638265</td>\n",
       "      <td>0.230978</td>\n",
       "    </tr>\n",
       "    <tr>\n",
       "      <th>max</th>\n",
       "      <td>50.000000</td>\n",
       "      <td>7.630000e+08</td>\n",
       "      <td>900.000000</td>\n",
       "      <td>19.000000</td>\n",
       "      <td>4.000000</td>\n",
       "      <td>60.000000</td>\n",
       "      <td>409.700000</td>\n",
       "      <td>33.000000</td>\n",
       "      <td>112.000000</td>\n",
       "      <td>5.000000</td>\n",
       "      <td>...</td>\n",
       "      <td>3190.000000</td>\n",
       "      <td>3.000000</td>\n",
       "      <td>1344.000000</td>\n",
       "      <td>1580.000000</td>\n",
       "      <td>1.907500e+06</td>\n",
       "      <td>6.000000</td>\n",
       "      <td>12.000000</td>\n",
       "      <td>2019.000000</td>\n",
       "      <td>1.514286</td>\n",
       "      <td>0.787879</td>\n",
       "    </tr>\n",
       "  </tbody>\n",
       "</table>\n",
       "<p>8 rows × 23 columns</p>\n",
       "</div>"
      ],
      "text/plain": [
       "       total_images    last_price    total_area         rooms  ceiling_height  \\\n",
       "count  23624.000000  2.362400e+04  23624.000000  23624.000000    23624.000000   \n",
       "mean       9.853835  6.494000e+06     60.180036      2.068659        2.693188   \n",
       "std        5.679276  1.071646e+07     35.040518      1.075892        0.205278   \n",
       "min        0.000000  1.219000e+04     12.000000      0.000000        1.000000   \n",
       "25%        6.000000  3.400000e+06     40.000000      1.000000        2.600000   \n",
       "50%        9.000000  4.640000e+06     52.000000      2.000000        2.650000   \n",
       "75%       14.000000  6.755720e+06     69.700000      3.000000        2.700000   \n",
       "max       50.000000  7.630000e+08    900.000000     19.000000        4.000000   \n",
       "\n",
       "       floors_total   living_area         floor  kitchen_area       balcony  \\\n",
       "count  23538.000000  23624.000000  23624.000000  21573.000000  23624.000000   \n",
       "mean      10.685062     34.219280      5.895234     10.449267      0.590374   \n",
       "std        6.596081     21.339876      4.886268      5.936538      0.958325   \n",
       "min        1.000000      2.000000      1.000000      0.000000      0.000000   \n",
       "25%        5.000000     18.400000      2.000000      7.000000      0.000000   \n",
       "50%        9.000000     30.300000      4.000000      9.000000      0.000000   \n",
       "75%       16.000000     42.600000      8.000000     12.000000      1.000000   \n",
       "max       60.000000    409.700000     33.000000    112.000000      5.000000   \n",
       "\n",
       "       ...  parks_nearest  ponds_around3000  ponds_nearest  days_exposition  \\\n",
       "count  ...    8042.000000      18120.000000    9072.000000     23624.000000   \n",
       "mean   ...     490.904004          0.768764     518.148038       156.416483   \n",
       "std    ...     342.660889          0.937153     277.859443       213.287181   \n",
       "min    ...       1.000000          0.000000      13.000000         0.000000   \n",
       "25%    ...     288.000000          0.000000     294.000000        22.000000   \n",
       "50%    ...     454.000000          1.000000     502.000000        74.000000   \n",
       "75%    ...     612.000000          1.000000     730.000000       198.000000   \n",
       "max    ...    3190.000000          3.000000    1344.000000      1580.000000   \n",
       "\n",
       "       price_per_meter       weekday         month          year  \\\n",
       "count     2.362400e+04  23624.000000  23624.000000  23624.000000   \n",
       "mean      9.925669e+04      2.569506      6.398916   2017.367465   \n",
       "std       4.977681e+04      1.789496      3.491298      1.039479   \n",
       "min       1.118349e+02      0.000000      1.000000   2014.000000   \n",
       "25%       7.656653e+04      1.000000      3.000000   2017.000000   \n",
       "50%       9.498379e+04      3.000000      6.000000   2017.000000   \n",
       "75%       1.141418e+05      4.000000     10.000000   2018.000000   \n",
       "max       1.907500e+06      6.000000     12.000000   2019.000000   \n",
       "\n",
       "       living_to_total  kitchen_to_total  \n",
       "count     23624.000000      21573.000000  \n",
       "mean          0.563739          0.185546  \n",
       "std           0.110841          0.074920  \n",
       "min           0.021583          0.000000  \n",
       "25%           0.490251          0.132653  \n",
       "50%           0.566433          0.171429  \n",
       "75%           0.638265          0.230978  \n",
       "max           1.514286          0.787879  \n",
       "\n",
       "[8 rows x 23 columns]"
      ]
     },
     "execution_count": 39,
     "metadata": {},
     "output_type": "execute_result"
    }
   ],
   "source": [
    "data.describe()"
   ]
  },
  {
   "cell_type": "code",
   "execution_count": 40,
   "id": "4b86ade2",
   "metadata": {},
   "outputs": [
    {
     "data": {
      "text/html": [
       "<div>\n",
       "<style scoped>\n",
       "    .dataframe tbody tr th:only-of-type {\n",
       "        vertical-align: middle;\n",
       "    }\n",
       "\n",
       "    .dataframe tbody tr th {\n",
       "        vertical-align: top;\n",
       "    }\n",
       "\n",
       "    .dataframe thead th {\n",
       "        text-align: right;\n",
       "    }\n",
       "</style>\n",
       "<table border=\"1\" class=\"dataframe\">\n",
       "  <thead>\n",
       "    <tr style=\"text-align: right;\">\n",
       "      <th></th>\n",
       "      <th>total_images</th>\n",
       "      <th>last_price</th>\n",
       "      <th>total_area</th>\n",
       "      <th>rooms</th>\n",
       "      <th>ceiling_height</th>\n",
       "      <th>floors_total</th>\n",
       "      <th>living_area</th>\n",
       "      <th>floor</th>\n",
       "      <th>kitchen_area</th>\n",
       "      <th>balcony</th>\n",
       "      <th>...</th>\n",
       "      <th>parks_nearest</th>\n",
       "      <th>ponds_around3000</th>\n",
       "      <th>ponds_nearest</th>\n",
       "      <th>days_exposition</th>\n",
       "      <th>price_per_meter</th>\n",
       "      <th>weekday</th>\n",
       "      <th>month</th>\n",
       "      <th>year</th>\n",
       "      <th>living_to_total</th>\n",
       "      <th>kitchen_to_total</th>\n",
       "    </tr>\n",
       "  </thead>\n",
       "  <tbody>\n",
       "    <tr>\n",
       "      <th>count</th>\n",
       "      <td>15502.000000</td>\n",
       "      <td>1.550200e+04</td>\n",
       "      <td>15502.000000</td>\n",
       "      <td>15502.000000</td>\n",
       "      <td>15502.000000</td>\n",
       "      <td>15443.000000</td>\n",
       "      <td>15502.000000</td>\n",
       "      <td>15502.000000</td>\n",
       "      <td>14413.000000</td>\n",
       "      <td>15502.000000</td>\n",
       "      <td>...</td>\n",
       "      <td>4894.000000</td>\n",
       "      <td>11853.000000</td>\n",
       "      <td>5630.000000</td>\n",
       "      <td>15502.000000</td>\n",
       "      <td>15502.000000</td>\n",
       "      <td>15502.000000</td>\n",
       "      <td>15502.000000</td>\n",
       "      <td>15502.000000</td>\n",
       "      <td>15502.000000</td>\n",
       "      <td>14413.000000</td>\n",
       "    </tr>\n",
       "    <tr>\n",
       "      <th>mean</th>\n",
       "      <td>9.692298</td>\n",
       "      <td>4.755874e+06</td>\n",
       "      <td>52.063655</td>\n",
       "      <td>1.881306</td>\n",
       "      <td>2.666771</td>\n",
       "      <td>11.014505</td>\n",
       "      <td>29.690926</td>\n",
       "      <td>6.020578</td>\n",
       "      <td>9.438965</td>\n",
       "      <td>0.593278</td>\n",
       "      <td>...</td>\n",
       "      <td>485.232530</td>\n",
       "      <td>0.695098</td>\n",
       "      <td>536.383659</td>\n",
       "      <td>133.801897</td>\n",
       "      <td>92185.548822</td>\n",
       "      <td>2.585537</td>\n",
       "      <td>6.624694</td>\n",
       "      <td>2017.339376</td>\n",
       "      <td>0.562631</td>\n",
       "      <td>0.189388</td>\n",
       "    </tr>\n",
       "    <tr>\n",
       "      <th>std</th>\n",
       "      <td>5.519314</td>\n",
       "      <td>2.123122e+06</td>\n",
       "      <td>17.760163</td>\n",
       "      <td>0.880426</td>\n",
       "      <td>0.165369</td>\n",
       "      <td>6.672830</td>\n",
       "      <td>12.670861</td>\n",
       "      <td>4.953004</td>\n",
       "      <td>3.829938</td>\n",
       "      <td>0.933110</td>\n",
       "      <td>...</td>\n",
       "      <td>323.296805</td>\n",
       "      <td>0.880570</td>\n",
       "      <td>275.747333</td>\n",
       "      <td>121.055674</td>\n",
       "      <td>28213.483874</td>\n",
       "      <td>1.784067</td>\n",
       "      <td>3.469391</td>\n",
       "      <td>0.852655</td>\n",
       "      <td>0.107663</td>\n",
       "      <td>0.073029</td>\n",
       "    </tr>\n",
       "    <tr>\n",
       "      <th>min</th>\n",
       "      <td>0.000000</td>\n",
       "      <td>1.219000e+04</td>\n",
       "      <td>12.000000</td>\n",
       "      <td>0.000000</td>\n",
       "      <td>1.000000</td>\n",
       "      <td>1.000000</td>\n",
       "      <td>2.000000</td>\n",
       "      <td>1.000000</td>\n",
       "      <td>0.000000</td>\n",
       "      <td>0.000000</td>\n",
       "      <td>...</td>\n",
       "      <td>1.000000</td>\n",
       "      <td>0.000000</td>\n",
       "      <td>16.000000</td>\n",
       "      <td>1.000000</td>\n",
       "      <td>111.834862</td>\n",
       "      <td>0.000000</td>\n",
       "      <td>1.000000</td>\n",
       "      <td>2015.000000</td>\n",
       "      <td>0.038462</td>\n",
       "      <td>0.000000</td>\n",
       "    </tr>\n",
       "    <tr>\n",
       "      <th>25%</th>\n",
       "      <td>6.000000</td>\n",
       "      <td>3.300000e+06</td>\n",
       "      <td>38.200000</td>\n",
       "      <td>1.000000</td>\n",
       "      <td>2.600000</td>\n",
       "      <td>5.000000</td>\n",
       "      <td>18.000000</td>\n",
       "      <td>2.000000</td>\n",
       "      <td>7.000000</td>\n",
       "      <td>0.000000</td>\n",
       "      <td>...</td>\n",
       "      <td>288.000000</td>\n",
       "      <td>0.000000</td>\n",
       "      <td>324.000000</td>\n",
       "      <td>39.000000</td>\n",
       "      <td>75757.575758</td>\n",
       "      <td>1.000000</td>\n",
       "      <td>3.000000</td>\n",
       "      <td>2017.000000</td>\n",
       "      <td>0.489567</td>\n",
       "      <td>0.136476</td>\n",
       "    </tr>\n",
       "    <tr>\n",
       "      <th>50%</th>\n",
       "      <td>9.000000</td>\n",
       "      <td>4.300000e+06</td>\n",
       "      <td>48.000000</td>\n",
       "      <td>2.000000</td>\n",
       "      <td>2.650000</td>\n",
       "      <td>9.000000</td>\n",
       "      <td>29.000000</td>\n",
       "      <td>4.000000</td>\n",
       "      <td>9.000000</td>\n",
       "      <td>0.000000</td>\n",
       "      <td>...</td>\n",
       "      <td>455.000000</td>\n",
       "      <td>0.000000</td>\n",
       "      <td>526.000000</td>\n",
       "      <td>95.000000</td>\n",
       "      <td>92502.927400</td>\n",
       "      <td>3.000000</td>\n",
       "      <td>7.000000</td>\n",
       "      <td>2017.000000</td>\n",
       "      <td>0.564419</td>\n",
       "      <td>0.177083</td>\n",
       "    </tr>\n",
       "    <tr>\n",
       "      <th>75%</th>\n",
       "      <td>13.000000</td>\n",
       "      <td>5.800000e+06</td>\n",
       "      <td>62.300000</td>\n",
       "      <td>3.000000</td>\n",
       "      <td>2.650000</td>\n",
       "      <td>16.000000</td>\n",
       "      <td>38.000000</td>\n",
       "      <td>8.000000</td>\n",
       "      <td>11.000000</td>\n",
       "      <td>1.000000</td>\n",
       "      <td>...</td>\n",
       "      <td>612.000000</td>\n",
       "      <td>1.000000</td>\n",
       "      <td>747.750000</td>\n",
       "      <td>193.000000</td>\n",
       "      <td>108333.333333</td>\n",
       "      <td>4.000000</td>\n",
       "      <td>10.000000</td>\n",
       "      <td>2018.000000</td>\n",
       "      <td>0.635417</td>\n",
       "      <td>0.235372</td>\n",
       "    </tr>\n",
       "    <tr>\n",
       "      <th>max</th>\n",
       "      <td>50.000000</td>\n",
       "      <td>1.199900e+07</td>\n",
       "      <td>119.600000</td>\n",
       "      <td>5.000000</td>\n",
       "      <td>4.000000</td>\n",
       "      <td>60.000000</td>\n",
       "      <td>100.000000</td>\n",
       "      <td>32.000000</td>\n",
       "      <td>50.000000</td>\n",
       "      <td>5.000000</td>\n",
       "      <td>...</td>\n",
       "      <td>3190.000000</td>\n",
       "      <td>3.000000</td>\n",
       "      <td>1344.000000</td>\n",
       "      <td>499.000000</td>\n",
       "      <td>312240.000000</td>\n",
       "      <td>6.000000</td>\n",
       "      <td>12.000000</td>\n",
       "      <td>2019.000000</td>\n",
       "      <td>1.514286</td>\n",
       "      <td>0.787879</td>\n",
       "    </tr>\n",
       "  </tbody>\n",
       "</table>\n",
       "<p>8 rows × 23 columns</p>\n",
       "</div>"
      ],
      "text/plain": [
       "       total_images    last_price    total_area         rooms  ceiling_height  \\\n",
       "count  15502.000000  1.550200e+04  15502.000000  15502.000000    15502.000000   \n",
       "mean       9.692298  4.755874e+06     52.063655      1.881306        2.666771   \n",
       "std        5.519314  2.123122e+06     17.760163      0.880426        0.165369   \n",
       "min        0.000000  1.219000e+04     12.000000      0.000000        1.000000   \n",
       "25%        6.000000  3.300000e+06     38.200000      1.000000        2.600000   \n",
       "50%        9.000000  4.300000e+06     48.000000      2.000000        2.650000   \n",
       "75%       13.000000  5.800000e+06     62.300000      3.000000        2.650000   \n",
       "max       50.000000  1.199900e+07    119.600000      5.000000        4.000000   \n",
       "\n",
       "       floors_total   living_area         floor  kitchen_area       balcony  \\\n",
       "count  15443.000000  15502.000000  15502.000000  14413.000000  15502.000000   \n",
       "mean      11.014505     29.690926      6.020578      9.438965      0.593278   \n",
       "std        6.672830     12.670861      4.953004      3.829938      0.933110   \n",
       "min        1.000000      2.000000      1.000000      0.000000      0.000000   \n",
       "25%        5.000000     18.000000      2.000000      7.000000      0.000000   \n",
       "50%        9.000000     29.000000      4.000000      9.000000      0.000000   \n",
       "75%       16.000000     38.000000      8.000000     11.000000      1.000000   \n",
       "max       60.000000    100.000000     32.000000     50.000000      5.000000   \n",
       "\n",
       "       ...  parks_nearest  ponds_around3000  ponds_nearest  days_exposition  \\\n",
       "count  ...    4894.000000      11853.000000    5630.000000     15502.000000   \n",
       "mean   ...     485.232530          0.695098     536.383659       133.801897   \n",
       "std    ...     323.296805          0.880570     275.747333       121.055674   \n",
       "min    ...       1.000000          0.000000      16.000000         1.000000   \n",
       "25%    ...     288.000000          0.000000     324.000000        39.000000   \n",
       "50%    ...     455.000000          0.000000     526.000000        95.000000   \n",
       "75%    ...     612.000000          1.000000     747.750000       193.000000   \n",
       "max    ...    3190.000000          3.000000    1344.000000       499.000000   \n",
       "\n",
       "       price_per_meter       weekday         month          year  \\\n",
       "count     15502.000000  15502.000000  15502.000000  15502.000000   \n",
       "mean      92185.548822      2.585537      6.624694   2017.339376   \n",
       "std       28213.483874      1.784067      3.469391      0.852655   \n",
       "min         111.834862      0.000000      1.000000   2015.000000   \n",
       "25%       75757.575758      1.000000      3.000000   2017.000000   \n",
       "50%       92502.927400      3.000000      7.000000   2017.000000   \n",
       "75%      108333.333333      4.000000     10.000000   2018.000000   \n",
       "max      312240.000000      6.000000     12.000000   2019.000000   \n",
       "\n",
       "       living_to_total  kitchen_to_total  \n",
       "count     15502.000000      14413.000000  \n",
       "mean          0.562631          0.189388  \n",
       "std           0.107663          0.073029  \n",
       "min           0.038462          0.000000  \n",
       "25%           0.489567          0.136476  \n",
       "50%           0.564419          0.177083  \n",
       "75%           0.635417          0.235372  \n",
       "max           1.514286          0.787879  \n",
       "\n",
       "[8 rows x 23 columns]"
      ]
     },
     "execution_count": 40,
     "metadata": {},
     "output_type": "execute_result"
    }
   ],
   "source": [
    "good_data.describe()"
   ]
  },
  {
   "cell_type": "markdown",
   "id": "6810b3ba",
   "metadata": {},
   "source": [
    "Датасет стал меньше, но в нем осталось более 65% значений от первоначального набора. Критической разницы в статистических характеристиках нет, значит, мы не убрали ничего принципиально важного. Изменения, в основном, коснулись медианы и стандартного отклонения - они уменьшились.\n",
    "Теперь, когда отброшены значения, выходящие за пределы 1,5 межквартильного размаха, данные стали чище и приближеннее к реальности."
   ]
  },
  {
   "cell_type": "markdown",
   "id": "a250826c",
   "metadata": {},
   "source": [
    "### Изучение факторов, влияющих на стоимость квартиры"
   ]
  },
  {
   "cell_type": "markdown",
   "id": "af4e671a",
   "metadata": {},
   "source": [
    "Изучим зависимость цены от общей площади жилья."
   ]
  },
  {
   "cell_type": "code",
   "execution_count": 41,
   "id": "1c19ee21",
   "metadata": {},
   "outputs": [
    {
     "data": {
      "text/plain": [
       "0.7113936921513456"
      ]
     },
     "execution_count": 41,
     "metadata": {},
     "output_type": "execute_result"
    },
    {
     "data": {
      "image/png": "[encoded data removed]",
      "text/plain": [
       "<Figure size 432x288 with 1 Axes>"
      ]
     },
     "metadata": {
      "needs_background": "light"
     },
     "output_type": "display_data"
    }
   ],
   "source": [
    "(\n",
    "    good_data.pivot_table(index='total_area', values='last_price')\n",
    "    .plot(grid=True, style='o', figsize=(6,4), xlim=(0,130))\n",
    ")\n",
    "\n",
    "good_data['total_area'].corr(good_data['last_price'])    #считаем корреляцию"
   ]
  },
  {
   "cell_type": "markdown",
   "id": "082cdbe7",
   "metadata": {},
   "source": [
    "**Вывод:** зависимость цены от площади достаточно сильная. Как правило, чем больше площадь квартиры, тем выше стоимость, но так бывает не всегда.  "
   ]
  },
  {
   "cell_type": "markdown",
   "id": "f5283ff3",
   "metadata": {},
   "source": [
    "Изучим зависимость цены от общего числа комнат."
   ]
  },
  {
   "cell_type": "code",
   "execution_count": 42,
   "id": "1d583b20",
   "metadata": {},
   "outputs": [
    {
     "data": {
      "text/plain": [
       "0.45432977580836464"
      ]
     },
     "execution_count": 42,
     "metadata": {},
     "output_type": "execute_result"
    },
    {
     "data": {
      "image/png": "[encoded data removed]",
      "text/plain": [
       "<Figure size 432x288 with 1 Axes>"
      ]
     },
     "metadata": {
      "needs_background": "light"
     },
     "output_type": "display_data"
    }
   ],
   "source": [
    "(\n",
    "    good_data.pivot_table(index='rooms', values='last_price')\n",
    "    .plot(grid=True, style='o-', figsize=(6,4), xlim=(-0.5,5.5))\n",
    ")\n",
    "\n",
    "good_data['rooms'].corr(good_data['last_price'])    #считаем корреляцию"
   ]
  },
  {
   "cell_type": "markdown",
   "id": "334a03e7",
   "metadata": {},
   "source": [
    "**Вывод:** зависимость цены от количества комнат слабая. Чем больше комнат, там стоимость немного выше. Можно предположить, что зависимость не самая сильная потому, что есть как квартиры с очень большими по площади комнатами, так и с очень маленькими."
   ]
  },
  {
   "cell_type": "markdown",
   "id": "0f50fca8",
   "metadata": {},
   "source": [
    "Изучим зависимость стоимости квартиры от удаленности от центра."
   ]
  },
  {
   "cell_type": "code",
   "execution_count": 43,
   "id": "cd834f33",
   "metadata": {},
   "outputs": [
    {
     "data": {
      "text/plain": [
       "-0.3421801082260167"
      ]
     },
     "execution_count": 43,
     "metadata": {},
     "output_type": "execute_result"
    },
    {
     "data": {
      "image/png": "[encoded data removed]",
      "text/plain": [
       "<Figure size 432x288 with 1 Axes>"
      ]
     },
     "metadata": {
      "needs_background": "light"
     },
     "output_type": "display_data"
    }
   ],
   "source": [
    "(\n",
    "    good_data.pivot_table(index='cityCenters_nearest', values='last_price')\n",
    "    .plot(grid=True, style='o', figsize=(6,4), xlim=(-1000,70000))\n",
    ")\n",
    "\n",
    "good_data['cityCenters_nearest'].corr(good_data['last_price'])    #считаем корреляцию"
   ]
  },
  {
   "cell_type": "markdown",
   "id": "8be59d56",
   "metadata": {},
   "source": [
    "**Вывод:** Существует небольшая связь между стоимостью квартиры и ее удаленностью от центра города. Коэффициент корреляции принимает отрицательное значение, то есть чем меньше расстояние до центра, тем дороже квартиры. Конечно, в центре много дешевых вариантов тоже."
   ]
  },
  {
   "cell_type": "markdown",
   "id": "2d9ccbb5",
   "metadata": {},
   "source": [
    "Изучим зависимость цены от этажа, на котором расположена квартира."
   ]
  },
  {
   "cell_type": "code",
   "execution_count": 44,
   "id": "01125b9d",
   "metadata": {},
   "outputs": [
    {
     "data": {
      "text/html": [
       "<div>\n",
       "<style scoped>\n",
       "    .dataframe tbody tr th:only-of-type {\n",
       "        vertical-align: middle;\n",
       "    }\n",
       "\n",
       "    .dataframe tbody tr th {\n",
       "        vertical-align: top;\n",
       "    }\n",
       "\n",
       "    .dataframe thead th {\n",
       "        text-align: right;\n",
       "    }\n",
       "</style>\n",
       "<table border=\"1\" class=\"dataframe\">\n",
       "  <thead>\n",
       "    <tr style=\"text-align: right;\">\n",
       "      <th></th>\n",
       "      <th>last_price</th>\n",
       "    </tr>\n",
       "    <tr>\n",
       "      <th>floor_type</th>\n",
       "      <th></th>\n",
       "    </tr>\n",
       "  </thead>\n",
       "  <tbody>\n",
       "    <tr>\n",
       "      <th>Другой</th>\n",
       "      <td>4.933139e+06</td>\n",
       "    </tr>\n",
       "    <tr>\n",
       "      <th>Первый</th>\n",
       "      <td>4.010263e+06</td>\n",
       "    </tr>\n",
       "    <tr>\n",
       "      <th>Последний</th>\n",
       "      <td>4.451349e+06</td>\n",
       "    </tr>\n",
       "  </tbody>\n",
       "</table>\n",
       "</div>"
      ],
      "text/plain": [
       "              last_price\n",
       "floor_type              \n",
       "Другой      4.933139e+06\n",
       "Первый      4.010263e+06\n",
       "Последний   4.451349e+06"
      ]
     },
     "execution_count": 44,
     "metadata": {},
     "output_type": "execute_result"
    },
    {
     "data": {
      "image/png": "[encoded data removed]",
      "text/plain": [
       "<Figure size 432x288 with 1 Axes>"
      ]
     },
     "metadata": {
      "needs_background": "light"
     },
     "output_type": "display_data"
    }
   ],
   "source": [
    "(\n",
    "    good_data.pivot_table(index='floor_type', values='last_price')\n",
    "    .plot(grid=True, style='o-', figsize=(6,4), xlim=(-0.1,2.1))\n",
    ")\n",
    "\n",
    "good_data.pivot_table(index='floor_type', values='last_price')"
   ]
  },
  {
   "cell_type": "markdown",
   "id": "b4ad2ccb",
   "metadata": {},
   "source": [
    "**Вывод:** Как показывают данные, квартиры на первом этаже, в среднем, самые дешевые. Квартиры на последнем этаже подороже. Выше всего стоимость у квартир, расположенных не на первом и не на последнем этаже."
   ]
  },
  {
   "cell_type": "markdown",
   "id": "e53e845a",
   "metadata": {},
   "source": [
    "Изучим связь цены и дня недели размещения объявления."
   ]
  },
  {
   "cell_type": "code",
   "execution_count": 45,
   "id": "23a06ed0",
   "metadata": {},
   "outputs": [
    {
     "data": {
      "text/html": [
       "<div>\n",
       "<style scoped>\n",
       "    .dataframe tbody tr th:only-of-type {\n",
       "        vertical-align: middle;\n",
       "    }\n",
       "\n",
       "    .dataframe tbody tr th {\n",
       "        vertical-align: top;\n",
       "    }\n",
       "\n",
       "    .dataframe thead th {\n",
       "        text-align: right;\n",
       "    }\n",
       "</style>\n",
       "<table border=\"1\" class=\"dataframe\">\n",
       "  <thead>\n",
       "    <tr style=\"text-align: right;\">\n",
       "      <th></th>\n",
       "      <th>last_price</th>\n",
       "    </tr>\n",
       "    <tr>\n",
       "      <th>weekday</th>\n",
       "      <th></th>\n",
       "    </tr>\n",
       "  </thead>\n",
       "  <tbody>\n",
       "    <tr>\n",
       "      <th>0</th>\n",
       "      <td>4.760694e+06</td>\n",
       "    </tr>\n",
       "    <tr>\n",
       "      <th>1</th>\n",
       "      <td>4.773476e+06</td>\n",
       "    </tr>\n",
       "    <tr>\n",
       "      <th>2</th>\n",
       "      <td>4.742794e+06</td>\n",
       "    </tr>\n",
       "    <tr>\n",
       "      <th>3</th>\n",
       "      <td>4.820667e+06</td>\n",
       "    </tr>\n",
       "    <tr>\n",
       "      <th>4</th>\n",
       "      <td>4.738985e+06</td>\n",
       "    </tr>\n",
       "    <tr>\n",
       "      <th>5</th>\n",
       "      <td>4.680079e+06</td>\n",
       "    </tr>\n",
       "    <tr>\n",
       "      <th>6</th>\n",
       "      <td>4.694243e+06</td>\n",
       "    </tr>\n",
       "  </tbody>\n",
       "</table>\n",
       "</div>"
      ],
      "text/plain": [
       "           last_price\n",
       "weekday              \n",
       "0        4.760694e+06\n",
       "1        4.773476e+06\n",
       "2        4.742794e+06\n",
       "3        4.820667e+06\n",
       "4        4.738985e+06\n",
       "5        4.680079e+06\n",
       "6        4.694243e+06"
      ]
     },
     "execution_count": 45,
     "metadata": {},
     "output_type": "execute_result"
    },
    {
     "data": {
      "image/png": "[encoded data removed]",
      "text/plain": [
       "<Figure size 432x288 with 1 Axes>"
      ]
     },
     "metadata": {
      "needs_background": "light"
     },
     "output_type": "display_data"
    }
   ],
   "source": [
    "(\n",
    "    good_data.pivot_table(index='weekday', values='last_price')\n",
    "    .plot(grid=True, style='o-', figsize=(6,4), xlim=(-0.1,6.1))\n",
    ")\n",
    "\n",
    "good_data.pivot_table(index='weekday', values='last_price')"
   ]
  },
  {
   "cell_type": "markdown",
   "id": "e5e8dc78",
   "metadata": {},
   "source": [
    "**Вывод:** Дороже всего квартиры, объявления о которых были размещены в четверг, а дешевле всего - на выходных - в субботу и воскресенье."
   ]
  },
  {
   "cell_type": "markdown",
   "id": "4024c20b",
   "metadata": {},
   "source": [
    "Изучим связь цены и месяца размещения объявления."
   ]
  },
  {
   "cell_type": "code",
   "execution_count": 46,
   "id": "39e5301d",
   "metadata": {},
   "outputs": [
    {
     "data": {
      "text/html": [
       "<div>\n",
       "<style scoped>\n",
       "    .dataframe tbody tr th:only-of-type {\n",
       "        vertical-align: middle;\n",
       "    }\n",
       "\n",
       "    .dataframe tbody tr th {\n",
       "        vertical-align: top;\n",
       "    }\n",
       "\n",
       "    .dataframe thead th {\n",
       "        text-align: right;\n",
       "    }\n",
       "</style>\n",
       "<table border=\"1\" class=\"dataframe\">\n",
       "  <thead>\n",
       "    <tr style=\"text-align: right;\">\n",
       "      <th></th>\n",
       "      <th>last_price</th>\n",
       "    </tr>\n",
       "    <tr>\n",
       "      <th>month</th>\n",
       "      <th></th>\n",
       "    </tr>\n",
       "  </thead>\n",
       "  <tbody>\n",
       "    <tr>\n",
       "      <th>1</th>\n",
       "      <td>4.810553e+06</td>\n",
       "    </tr>\n",
       "    <tr>\n",
       "      <th>2</th>\n",
       "      <td>4.805323e+06</td>\n",
       "    </tr>\n",
       "    <tr>\n",
       "      <th>3</th>\n",
       "      <td>4.662995e+06</td>\n",
       "    </tr>\n",
       "    <tr>\n",
       "      <th>4</th>\n",
       "      <td>4.773464e+06</td>\n",
       "    </tr>\n",
       "    <tr>\n",
       "      <th>5</th>\n",
       "      <td>4.816161e+06</td>\n",
       "    </tr>\n",
       "    <tr>\n",
       "      <th>6</th>\n",
       "      <td>4.619764e+06</td>\n",
       "    </tr>\n",
       "    <tr>\n",
       "      <th>7</th>\n",
       "      <td>4.701256e+06</td>\n",
       "    </tr>\n",
       "    <tr>\n",
       "      <th>8</th>\n",
       "      <td>4.825820e+06</td>\n",
       "    </tr>\n",
       "    <tr>\n",
       "      <th>9</th>\n",
       "      <td>4.827270e+06</td>\n",
       "    </tr>\n",
       "    <tr>\n",
       "      <th>10</th>\n",
       "      <td>4.746285e+06</td>\n",
       "    </tr>\n",
       "    <tr>\n",
       "      <th>11</th>\n",
       "      <td>4.791857e+06</td>\n",
       "    </tr>\n",
       "    <tr>\n",
       "      <th>12</th>\n",
       "      <td>4.682196e+06</td>\n",
       "    </tr>\n",
       "  </tbody>\n",
       "</table>\n",
       "</div>"
      ],
      "text/plain": [
       "         last_price\n",
       "month              \n",
       "1      4.810553e+06\n",
       "2      4.805323e+06\n",
       "3      4.662995e+06\n",
       "4      4.773464e+06\n",
       "5      4.816161e+06\n",
       "6      4.619764e+06\n",
       "7      4.701256e+06\n",
       "8      4.825820e+06\n",
       "9      4.827270e+06\n",
       "10     4.746285e+06\n",
       "11     4.791857e+06\n",
       "12     4.682196e+06"
      ]
     },
     "execution_count": 46,
     "metadata": {},
     "output_type": "execute_result"
    },
    {
     "data": {
      "image/png": "[encoded data removed]",
      "text/plain": [
       "<Figure size 576x288 with 1 Axes>"
      ]
     },
     "metadata": {
      "needs_background": "light"
     },
     "output_type": "display_data"
    }
   ],
   "source": [
    "(\n",
    "    good_data.pivot_table(index='month', values='last_price')\n",
    "    .plot(grid=True, style='o-', figsize=(8,4), xlim=(0,12.3))\n",
    ")\n",
    "\n",
    "good_data.pivot_table(index='month', values='last_price')"
   ]
  },
  {
   "cell_type": "markdown",
   "id": "139c6377",
   "metadata": {},
   "source": [
    "**Вывод:** Дешевле всего квартиры, выставленные на продажу в июне, марте и декабре. Дороже всего - в сентябре, августе и мае."
   ]
  },
  {
   "cell_type": "markdown",
   "id": "b34ae7c2",
   "metadata": {},
   "source": [
    "Изучим связь цены и года размещения объявления."
   ]
  },
  {
   "cell_type": "code",
   "execution_count": 47,
   "id": "ea60727f",
   "metadata": {},
   "outputs": [
    {
     "data": {
      "text/html": [
       "<div>\n",
       "<style scoped>\n",
       "    .dataframe tbody tr th:only-of-type {\n",
       "        vertical-align: middle;\n",
       "    }\n",
       "\n",
       "    .dataframe tbody tr th {\n",
       "        vertical-align: top;\n",
       "    }\n",
       "\n",
       "    .dataframe thead th {\n",
       "        text-align: right;\n",
       "    }\n",
       "</style>\n",
       "<table border=\"1\" class=\"dataframe\">\n",
       "  <thead>\n",
       "    <tr style=\"text-align: right;\">\n",
       "      <th></th>\n",
       "      <th>last_price</th>\n",
       "    </tr>\n",
       "    <tr>\n",
       "      <th>year</th>\n",
       "      <th></th>\n",
       "    </tr>\n",
       "  </thead>\n",
       "  <tbody>\n",
       "    <tr>\n",
       "      <th>2015</th>\n",
       "      <td>4.880285e+06</td>\n",
       "    </tr>\n",
       "    <tr>\n",
       "      <th>2016</th>\n",
       "      <td>4.744919e+06</td>\n",
       "    </tr>\n",
       "    <tr>\n",
       "      <th>2017</th>\n",
       "      <td>4.729810e+06</td>\n",
       "    </tr>\n",
       "    <tr>\n",
       "      <th>2018</th>\n",
       "      <td>4.738373e+06</td>\n",
       "    </tr>\n",
       "    <tr>\n",
       "      <th>2019</th>\n",
       "      <td>5.027596e+06</td>\n",
       "    </tr>\n",
       "  </tbody>\n",
       "</table>\n",
       "</div>"
      ],
      "text/plain": [
       "        last_price\n",
       "year              \n",
       "2015  4.880285e+06\n",
       "2016  4.744919e+06\n",
       "2017  4.729810e+06\n",
       "2018  4.738373e+06\n",
       "2019  5.027596e+06"
      ]
     },
     "execution_count": 47,
     "metadata": {},
     "output_type": "execute_result"
    },
    {
     "data": {
      "image/png": "[encoded data removed]",
      "text/plain": [
       "<Figure size 432x288 with 1 Axes>"
      ]
     },
     "metadata": {
      "needs_background": "light"
     },
     "output_type": "display_data"
    }
   ],
   "source": [
    "(\n",
    "    good_data.pivot_table(index='year', values='last_price')\n",
    "    .plot(grid=True, style='o-', figsize=(6,4), xlim=(2014,2020))\n",
    ")\n",
    "\n",
    "good_data.pivot_table(index='year', values='last_price')"
   ]
  },
  {
   "cell_type": "markdown",
   "id": "3f13a155",
   "metadata": {},
   "source": [
    "В 2016-2018 годах наблюдалось падение цен на квартиры. А в 2019 году цены резко выросли."
   ]
  },
  {
   "cell_type": "markdown",
   "id": "956c3bb4",
   "metadata": {},
   "source": [
    "### Сравнение стоимости квадратного метра в 10 населенных пунктах"
   ]
  },
  {
   "cell_type": "markdown",
   "id": "4cc1e53a",
   "metadata": {},
   "source": [
    "Сравним стоимость квадратного метра жилья в 10 населенных пунктах с наибольшим числом объявлений."
   ]
  },
  {
   "cell_type": "code",
   "execution_count": 48,
   "id": "5c0d7f1c",
   "metadata": {},
   "outputs": [
    {
     "data": {
      "text/html": [
       "<div>\n",
       "<style scoped>\n",
       "    .dataframe tbody tr th:only-of-type {\n",
       "        vertical-align: middle;\n",
       "    }\n",
       "\n",
       "    .dataframe tbody tr th {\n",
       "        vertical-align: top;\n",
       "    }\n",
       "\n",
       "    .dataframe thead th {\n",
       "        text-align: right;\n",
       "    }\n",
       "</style>\n",
       "<table border=\"1\" class=\"dataframe\">\n",
       "  <thead>\n",
       "    <tr style=\"text-align: right;\">\n",
       "      <th></th>\n",
       "      <th>price_per_meter</th>\n",
       "    </tr>\n",
       "    <tr>\n",
       "      <th>locality_name</th>\n",
       "      <th></th>\n",
       "    </tr>\n",
       "  </thead>\n",
       "  <tbody>\n",
       "    <tr>\n",
       "      <th>Санкт-Петербург</th>\n",
       "      <td>104332.266800</td>\n",
       "    </tr>\n",
       "    <tr>\n",
       "      <th>Пушкин</th>\n",
       "      <td>99648.193552</td>\n",
       "    </tr>\n",
       "    <tr>\n",
       "      <th>деревня Кудрово</th>\n",
       "      <td>92328.024486</td>\n",
       "    </tr>\n",
       "    <tr>\n",
       "      <th>посёлок Парголово</th>\n",
       "      <td>89627.414098</td>\n",
       "    </tr>\n",
       "    <tr>\n",
       "      <th>посёлок Мурино</th>\n",
       "      <td>85896.778643</td>\n",
       "    </tr>\n",
       "    <tr>\n",
       "      <th>посёлок Шушары</th>\n",
       "      <td>78140.675499</td>\n",
       "    </tr>\n",
       "    <tr>\n",
       "      <th>Колпино</th>\n",
       "      <td>74793.322033</td>\n",
       "    </tr>\n",
       "    <tr>\n",
       "      <th>Гатчина</th>\n",
       "      <td>67649.078953</td>\n",
       "    </tr>\n",
       "    <tr>\n",
       "      <th>Всеволожск</th>\n",
       "      <td>66490.156717</td>\n",
       "    </tr>\n",
       "    <tr>\n",
       "      <th>Выборг</th>\n",
       "      <td>56953.657257</td>\n",
       "    </tr>\n",
       "  </tbody>\n",
       "</table>\n",
       "</div>"
      ],
      "text/plain": [
       "                   price_per_meter\n",
       "locality_name                     \n",
       "Санкт-Петербург      104332.266800\n",
       "Пушкин                99648.193552\n",
       "деревня Кудрово       92328.024486\n",
       "посёлок Парголово     89627.414098\n",
       "посёлок Мурино        85896.778643\n",
       "посёлок Шушары        78140.675499\n",
       "Колпино               74793.322033\n",
       "Гатчина               67649.078953\n",
       "Всеволожск            66490.156717\n",
       "Выборг                56953.657257"
      ]
     },
     "execution_count": 48,
     "metadata": {},
     "output_type": "execute_result"
    }
   ],
   "source": [
    "#создаем переменную, в которую входят топ-10 населенных пунктов по количеству объявлений \n",
    "#создаем сводную таблицу с этими населенными пунктами и средней ценой за квадратный метр в каждом из них\n",
    "#выводим таблицу на экран, отсортировав по убыванию цены\n",
    "locality_top = good_data['locality_name'].value_counts().head(10)\n",
    "price_in_locality = good_data.query('locality_name in @locality_top.index').pivot_table(index='locality_name', \n",
    "                                                                                        values='price_per_meter')\n",
    "price_in_locality.sort_values(by='price_per_meter', ascending=False)   "
   ]
  },
  {
   "cell_type": "markdown",
   "id": "1b167c36",
   "metadata": {},
   "source": [
    "**Вывод:** самая высокая средняя стоимость квадратного метра жилья, как и стоило ожидать, - в Санкт-Петербурге. Самая низкая стоимость(среди десяти самых популярных населенных пунктов) - в Выборге, что можно объяснить большой удаленностью от Санкт-Петербурга."
   ]
  },
  {
   "cell_type": "markdown",
   "id": "6ed46743",
   "metadata": {},
   "source": [
    "### Определение границ центральной зоны"
   ]
  },
  {
   "cell_type": "markdown",
   "id": "e588b65b",
   "metadata": {},
   "source": [
    "Определим, на каком расстоянии от центра города в Санкт-Петербурге, заканчивается центральная зона. "
   ]
  },
  {
   "cell_type": "code",
   "execution_count": 49,
   "id": "e2c92208",
   "metadata": {},
   "outputs": [
    {
     "data": {
      "image/png": "[encoded data removed]",
      "text/plain": [
       "<Figure size 576x288 with 1 Axes>"
      ]
     },
     "metadata": {
      "needs_background": "light"
     },
     "output_type": "display_data"
    }
   ],
   "source": [
    "#создаем новый столбец с расстоянием до центра в км\n",
    "#заполняем пустые значения маркером, чтобы перевести значения столбца в целочисленный тип \n",
    "\n",
    "good_data['cityCenters_nearest_km'] = good_data['cityCenters_nearest'] / 1000\n",
    "good_data['cityCenters_nearest_km'] = good_data['cityCenters_nearest_km'].fillna(999999)\n",
    "good_data['cityCenters_nearest_km'] = good_data['cityCenters_nearest_km'].astype('int64')\n",
    "\n",
    "#создаем график, выбрав только объявления из Санкт-Петербурга \n",
    "\n",
    "(\n",
    "    good_data.query('locality_name == \"Санкт-Петербург\" and cityCenters_nearest_km != 999999')\n",
    "    .pivot_table(index='cityCenters_nearest_km', values='last_price')\n",
    "    .plot(grid=True, style='o-', figsize=(8,4), xlim=(-1,30))\n",
    ");"
   ]
  },
  {
   "cell_type": "markdown",
   "id": "1f49a08e",
   "metadata": {},
   "source": [
    "Определим, что центральная зона ограничивается 7 км, дальше цена начинает падать. "
   ]
  },
  {
   "cell_type": "markdown",
   "id": "c20d970c",
   "metadata": {},
   "source": [
    "### Анализ сегмента квартир в центре"
   ]
  },
  {
   "cell_type": "markdown",
   "id": "596df4c1",
   "metadata": {},
   "source": [
    "Вынесем в отдельную переменную объявления, соответствующие условиям: 1)квартира находится в Санкт-Петербурге, 2)квартира находится на расстоянии не больше 7 км от центра."
   ]
  },
  {
   "cell_type": "code",
   "execution_count": 50,
   "id": "f1abadc9",
   "metadata": {},
   "outputs": [],
   "source": [
    "spb_center_data = good_data.query('locality_name == \"Санкт-Петербург\" and cityCenters_nearest_km <= 7')"
   ]
  },
  {
   "cell_type": "markdown",
   "id": "5366da1f",
   "metadata": {},
   "source": [
    "Проанализируем площадь квартир:"
   ]
  },
  {
   "cell_type": "code",
   "execution_count": 51,
   "id": "ff5a067d",
   "metadata": {},
   "outputs": [
    {
     "data": {
      "image/png": "[encoded data removed]",
      "text/plain": [
       "<Figure size 432x288 with 1 Axes>"
      ]
     },
     "metadata": {
      "needs_background": "light"
     },
     "output_type": "display_data"
    },
    {
     "data": {
      "text/plain": [
       "count    1641.000000\n",
       "mean       63.541773\n",
       "std        21.256922\n",
       "min        12.000000\n",
       "25%        46.300000\n",
       "50%        62.000000\n",
       "75%        78.000000\n",
       "max       119.600000\n",
       "Name: total_area, dtype: float64"
      ]
     },
     "execution_count": 51,
     "metadata": {},
     "output_type": "execute_result"
    }
   ],
   "source": [
    "plt.hist(spb_center_data['total_area'], bins=50, range=(10,140))\n",
    "plt.grid(True)\n",
    "plt.title('Площадь квартир')\n",
    "plt.xlabel('Квадратные метры')\n",
    "plt.ylabel('Количество квартир')\n",
    "plt.show()\n",
    "\n",
    "spb_center_data['total_area'].describe()"
   ]
  },
  {
   "cell_type": "markdown",
   "id": "c05b6b1d",
   "metadata": {},
   "source": [
    "Среднее значение площади квартир в центре Санкт-Петербурга - 63,5 м2, медиана - 62 м2. Эти значения немного выше аналогичных показателей по всей базе."
   ]
  },
  {
   "cell_type": "markdown",
   "id": "2396c2da",
   "metadata": {},
   "source": [
    "Изучим стоимость:"
   ]
  },
  {
   "cell_type": "code",
   "execution_count": 52,
   "id": "e4d0aab8",
   "metadata": {},
   "outputs": [
    {
     "data": {
      "image/png": "[encoded data removed]",
      "text/plain": [
       "<Figure size 432x288 with 1 Axes>"
      ]
     },
     "metadata": {
      "needs_background": "light"
     },
     "output_type": "display_data"
    },
    {
     "data": {
      "text/plain": [
       "count    1.641000e+03\n",
       "mean     7.131971e+06\n",
       "std      2.150204e+06\n",
       "min      1.600000e+06\n",
       "25%      5.500000e+06\n",
       "50%      6.985230e+06\n",
       "75%      8.600000e+06\n",
       "max      1.199900e+07\n",
       "Name: last_price, dtype: float64"
      ]
     },
     "execution_count": 52,
     "metadata": {},
     "output_type": "execute_result"
    }
   ],
   "source": [
    "plt.hist(spb_center_data['last_price'], bins=50, range=(1000000,12000000))\n",
    "plt.grid(True)\n",
    "plt.title('Стоимость квартир')\n",
    "plt.xlabel('Стоимость')\n",
    "plt.ylabel('Количество квартир')\n",
    "plt.show()\n",
    "\n",
    "spb_center_data['last_price'].describe()"
   ]
  },
  {
   "cell_type": "markdown",
   "id": "3b4606d4",
   "metadata": {},
   "source": [
    "Медианное значение цены - 7 млн, среднее - 7,1 млн. Это выше значений, полученных из анализа всех объявлений в базе."
   ]
  },
  {
   "cell_type": "markdown",
   "id": "e1ece135",
   "metadata": {},
   "source": [
    "Изучим число квартир по количеству комнат:"
   ]
  },
  {
   "cell_type": "code",
   "execution_count": 53,
   "id": "102b8110",
   "metadata": {},
   "outputs": [
    {
     "data": {
      "image/png": "[encoded data removed]",
      "text/plain": [
       "<Figure size 432x288 with 1 Axes>"
      ]
     },
     "metadata": {
      "needs_background": "light"
     },
     "output_type": "display_data"
    },
    {
     "data": {
      "text/plain": [
       "count    1641.000000\n",
       "mean        2.255332\n",
       "std         0.962725\n",
       "min         0.000000\n",
       "25%         2.000000\n",
       "50%         2.000000\n",
       "75%         3.000000\n",
       "max         5.000000\n",
       "Name: rooms, dtype: float64"
      ]
     },
     "execution_count": 53,
     "metadata": {},
     "output_type": "execute_result"
    }
   ],
   "source": [
    "plt.hist(spb_center_data['rooms'], bins=7, range=(0,7))\n",
    "plt.grid(True)\n",
    "plt.title('Комнаты')\n",
    "plt.xlabel('Число комнат')\n",
    "plt.ylabel('Количество квартир')\n",
    "plt.show()\n",
    "\n",
    "spb_center_data['rooms'].describe()"
   ]
  },
  {
   "cell_type": "markdown",
   "id": "37b1f7f1",
   "metadata": {},
   "source": [
    "Больше всего квартир с 1, 2 и 3 комнатами. Здесь нет никаких особенностей."
   ]
  },
  {
   "cell_type": "markdown",
   "id": "38c7d6f4",
   "metadata": {},
   "source": [
    "Изучим высоту потолков:"
   ]
  },
  {
   "cell_type": "code",
   "execution_count": 54,
   "id": "341babac",
   "metadata": {},
   "outputs": [
    {
     "data": {
      "image/png": "[encoded data removed]",
      "text/plain": [
       "<Figure size 432x288 with 1 Axes>"
      ]
     },
     "metadata": {
      "needs_background": "light"
     },
     "output_type": "display_data"
    },
    {
     "data": {
      "text/plain": [
       "count    1641.000000\n",
       "mean        2.852931\n",
       "std         0.298721\n",
       "min         2.400000\n",
       "25%         2.650000\n",
       "50%         2.700000\n",
       "75%         3.000000\n",
       "max         4.000000\n",
       "Name: ceiling_height, dtype: float64"
      ]
     },
     "execution_count": 54,
     "metadata": {},
     "output_type": "execute_result"
    }
   ],
   "source": [
    "plt.hist(spb_center_data['ceiling_height'], bins=10, range=(2,5))\n",
    "plt.grid(True)\n",
    "plt.title('Потолки')\n",
    "plt.xlabel('Высота потолка')\n",
    "plt.ylabel('Количество квартир')\n",
    "plt.show()\n",
    "\n",
    "spb_center_data['ceiling_height'].describe()"
   ]
  },
  {
   "cell_type": "markdown",
   "id": "89393070",
   "metadata": {},
   "source": [
    "В большей части квартир потолки высотой 2,6-3 метров. Примерно соответствует показателям по всей базе."
   ]
  },
  {
   "cell_type": "markdown",
   "id": "e6addebf",
   "metadata": {},
   "source": [
    "Теперь посмотрим на зависимости. Влияние числа комнат на стоимость жилья:"
   ]
  },
  {
   "cell_type": "code",
   "execution_count": 55,
   "id": "06d87d88",
   "metadata": {},
   "outputs": [
    {
     "data": {
      "text/plain": [
       "0.4471052317779012"
      ]
     },
     "execution_count": 55,
     "metadata": {},
     "output_type": "execute_result"
    },
    {
     "data": {
      "image/png": "[encoded data removed]",
      "text/plain": [
       "<Figure size 432x288 with 1 Axes>"
      ]
     },
     "metadata": {
      "needs_background": "light"
     },
     "output_type": "display_data"
    }
   ],
   "source": [
    "(\n",
    "    spb_center_data.pivot_table(index='rooms', values='last_price')\n",
    "    .plot(grid=True, style='o-', figsize=(6,4), xlim=(-0.5,5.5))\n",
    ")\n",
    "\n",
    "spb_center_data['rooms'].corr(spb_center_data['last_price'])    #считаем корреляцию"
   ]
  },
  {
   "cell_type": "markdown",
   "id": "7f2bcb9d",
   "metadata": {},
   "source": [
    "Зависимость примерно та же, что и в общей выборке - чем больше комнат, там стоимость немного выше."
   ]
  },
  {
   "cell_type": "markdown",
   "id": "6a86f15c",
   "metadata": {},
   "source": [
    "Теперь посмотрим на тип этажа:"
   ]
  },
  {
   "cell_type": "code",
   "execution_count": 56,
   "id": "50659c56",
   "metadata": {},
   "outputs": [
    {
     "data": {
      "text/html": [
       "<div>\n",
       "<style scoped>\n",
       "    .dataframe tbody tr th:only-of-type {\n",
       "        vertical-align: middle;\n",
       "    }\n",
       "\n",
       "    .dataframe tbody tr th {\n",
       "        vertical-align: top;\n",
       "    }\n",
       "\n",
       "    .dataframe thead th {\n",
       "        text-align: right;\n",
       "    }\n",
       "</style>\n",
       "<table border=\"1\" class=\"dataframe\">\n",
       "  <thead>\n",
       "    <tr style=\"text-align: right;\">\n",
       "      <th></th>\n",
       "      <th>last_price</th>\n",
       "    </tr>\n",
       "    <tr>\n",
       "      <th>floor_type</th>\n",
       "      <th></th>\n",
       "    </tr>\n",
       "  </thead>\n",
       "  <tbody>\n",
       "    <tr>\n",
       "      <th>Другой</th>\n",
       "      <td>7.353270e+06</td>\n",
       "    </tr>\n",
       "    <tr>\n",
       "      <th>Первый</th>\n",
       "      <td>5.850915e+06</td>\n",
       "    </tr>\n",
       "    <tr>\n",
       "      <th>Последний</th>\n",
       "      <td>7.264187e+06</td>\n",
       "    </tr>\n",
       "  </tbody>\n",
       "</table>\n",
       "</div>"
      ],
      "text/plain": [
       "              last_price\n",
       "floor_type              \n",
       "Другой      7.353270e+06\n",
       "Первый      5.850915e+06\n",
       "Последний   7.264187e+06"
      ]
     },
     "execution_count": 56,
     "metadata": {},
     "output_type": "execute_result"
    },
    {
     "data": {
      "image/png": "[encoded data removed]",
      "text/plain": [
       "<Figure size 432x288 with 1 Axes>"
      ]
     },
     "metadata": {
      "needs_background": "light"
     },
     "output_type": "display_data"
    }
   ],
   "source": [
    "(\n",
    "    spb_center_data.pivot_table(index='floor_type', values='last_price')\n",
    "    .plot(grid=True, style='o-', figsize=(6,4), xlim=(-0.1,2.1))\n",
    ")\n",
    "\n",
    "spb_center_data.pivot_table(index='floor_type', values='last_price')"
   ]
  },
  {
   "cell_type": "markdown",
   "id": "d50bb25d",
   "metadata": {},
   "source": [
    "Здесь тоже видим такую же картину, как в общей выборке - дешевле всего продаются квартиры на первом этаже. Однако что касается квартир на последнем этаже, тут их цена сопоставима с ценой квартир на всех других этажах (кроме первого). "
   ]
  },
  {
   "cell_type": "markdown",
   "id": "887a05f6",
   "metadata": {},
   "source": [
    "Изучим связь цены и удаленности квартиры от центра:"
   ]
  },
  {
   "cell_type": "code",
   "execution_count": 57,
   "id": "6a097a12",
   "metadata": {},
   "outputs": [
    {
     "data": {
      "text/plain": [
       "-0.12923319327466512"
      ]
     },
     "execution_count": 57,
     "metadata": {},
     "output_type": "execute_result"
    },
    {
     "data": {
      "image/png": "[encoded data removed]",
      "text/plain": [
       "<Figure size 432x288 with 1 Axes>"
      ]
     },
     "metadata": {
      "needs_background": "light"
     },
     "output_type": "display_data"
    }
   ],
   "source": [
    "(\n",
    "    spb_center_data.pivot_table(index='cityCenters_nearest_km', values='last_price')\n",
    "    .plot(grid=True, style='o-', figsize=(6,4), xlim=(-1,8))\n",
    ")\n",
    "\n",
    "spb_center_data['cityCenters_nearest_km'].corr(good_data['last_price'])    #считаем корреляцию"
   ]
  },
  {
   "cell_type": "markdown",
   "id": "0480820e",
   "metadata": {},
   "source": [
    "Коэффициент корреляции примерно такой же как при работе со всей выборкой. Существует небольшая связь между стоимостью квартиры и ее удаленностью от центра города - чем меньше расстояние до центра, тем дороже квартиры, но не всегда."
   ]
  },
  {
   "cell_type": "markdown",
   "id": "7bbfd381",
   "metadata": {},
   "source": [
    "Изучим связь цены от даты размещения объявления:"
   ]
  },
  {
   "cell_type": "code",
   "execution_count": 58,
   "id": "34ff1f93",
   "metadata": {},
   "outputs": [
    {
     "data": {
      "text/html": [
       "<div>\n",
       "<style scoped>\n",
       "    .dataframe tbody tr th:only-of-type {\n",
       "        vertical-align: middle;\n",
       "    }\n",
       "\n",
       "    .dataframe tbody tr th {\n",
       "        vertical-align: top;\n",
       "    }\n",
       "\n",
       "    .dataframe thead th {\n",
       "        text-align: right;\n",
       "    }\n",
       "</style>\n",
       "<table border=\"1\" class=\"dataframe\">\n",
       "  <thead>\n",
       "    <tr style=\"text-align: right;\">\n",
       "      <th></th>\n",
       "      <th>last_price</th>\n",
       "    </tr>\n",
       "    <tr>\n",
       "      <th>weekday</th>\n",
       "      <th></th>\n",
       "    </tr>\n",
       "  </thead>\n",
       "  <tbody>\n",
       "    <tr>\n",
       "      <th>0</th>\n",
       "      <td>7.080270e+06</td>\n",
       "    </tr>\n",
       "    <tr>\n",
       "      <th>1</th>\n",
       "      <td>7.121208e+06</td>\n",
       "    </tr>\n",
       "    <tr>\n",
       "      <th>2</th>\n",
       "      <td>7.031616e+06</td>\n",
       "    </tr>\n",
       "    <tr>\n",
       "      <th>3</th>\n",
       "      <td>7.066321e+06</td>\n",
       "    </tr>\n",
       "    <tr>\n",
       "      <th>4</th>\n",
       "      <td>7.264435e+06</td>\n",
       "    </tr>\n",
       "    <tr>\n",
       "      <th>5</th>\n",
       "      <td>7.162609e+06</td>\n",
       "    </tr>\n",
       "    <tr>\n",
       "      <th>6</th>\n",
       "      <td>7.382802e+06</td>\n",
       "    </tr>\n",
       "  </tbody>\n",
       "</table>\n",
       "</div>"
      ],
      "text/plain": [
       "           last_price\n",
       "weekday              \n",
       "0        7.080270e+06\n",
       "1        7.121208e+06\n",
       "2        7.031616e+06\n",
       "3        7.066321e+06\n",
       "4        7.264435e+06\n",
       "5        7.162609e+06\n",
       "6        7.382802e+06"
      ]
     },
     "execution_count": 58,
     "metadata": {},
     "output_type": "execute_result"
    },
    {
     "data": {
      "image/png": "[encoded data removed]",
      "text/plain": [
       "<Figure size 432x288 with 1 Axes>"
      ]
     },
     "metadata": {
      "needs_background": "light"
     },
     "output_type": "display_data"
    }
   ],
   "source": [
    "#день недели\n",
    "(\n",
    "    spb_center_data.pivot_table(index='weekday', values='last_price')\n",
    "    .plot(grid=True, style='o-', figsize=(6,4), xlim=(-0.1,6.1))\n",
    ")\n",
    "\n",
    "spb_center_data.pivot_table(index='weekday', values='last_price')"
   ]
  },
  {
   "cell_type": "markdown",
   "id": "57130d8e",
   "metadata": {},
   "source": [
    "Если в общей базе объявления с самыми высокими ценами на квартиры были выставлены в четверг, а с самыми низкими - в выходные, здесь ситуация противоположная. Дни с минимальной средней ценой - понедельник, среда, четверг. С максимальной средней ценой - воскресенье."
   ]
  },
  {
   "cell_type": "code",
   "execution_count": 59,
   "id": "65b60af8",
   "metadata": {
    "scrolled": false
   },
   "outputs": [
    {
     "data": {
      "text/html": [
       "<div>\n",
       "<style scoped>\n",
       "    .dataframe tbody tr th:only-of-type {\n",
       "        vertical-align: middle;\n",
       "    }\n",
       "\n",
       "    .dataframe tbody tr th {\n",
       "        vertical-align: top;\n",
       "    }\n",
       "\n",
       "    .dataframe thead th {\n",
       "        text-align: right;\n",
       "    }\n",
       "</style>\n",
       "<table border=\"1\" class=\"dataframe\">\n",
       "  <thead>\n",
       "    <tr style=\"text-align: right;\">\n",
       "      <th></th>\n",
       "      <th>last_price</th>\n",
       "    </tr>\n",
       "    <tr>\n",
       "      <th>month</th>\n",
       "      <th></th>\n",
       "    </tr>\n",
       "  </thead>\n",
       "  <tbody>\n",
       "    <tr>\n",
       "      <th>1</th>\n",
       "      <td>7.468922e+06</td>\n",
       "    </tr>\n",
       "    <tr>\n",
       "      <th>2</th>\n",
       "      <td>7.152931e+06</td>\n",
       "    </tr>\n",
       "    <tr>\n",
       "      <th>3</th>\n",
       "      <td>7.263855e+06</td>\n",
       "    </tr>\n",
       "    <tr>\n",
       "      <th>4</th>\n",
       "      <td>6.951796e+06</td>\n",
       "    </tr>\n",
       "    <tr>\n",
       "      <th>5</th>\n",
       "      <td>7.022822e+06</td>\n",
       "    </tr>\n",
       "    <tr>\n",
       "      <th>6</th>\n",
       "      <td>6.953548e+06</td>\n",
       "    </tr>\n",
       "    <tr>\n",
       "      <th>7</th>\n",
       "      <td>7.075683e+06</td>\n",
       "    </tr>\n",
       "    <tr>\n",
       "      <th>8</th>\n",
       "      <td>7.152326e+06</td>\n",
       "    </tr>\n",
       "    <tr>\n",
       "      <th>9</th>\n",
       "      <td>7.410359e+06</td>\n",
       "    </tr>\n",
       "    <tr>\n",
       "      <th>10</th>\n",
       "      <td>7.075943e+06</td>\n",
       "    </tr>\n",
       "    <tr>\n",
       "      <th>11</th>\n",
       "      <td>7.166343e+06</td>\n",
       "    </tr>\n",
       "    <tr>\n",
       "      <th>12</th>\n",
       "      <td>6.873262e+06</td>\n",
       "    </tr>\n",
       "  </tbody>\n",
       "</table>\n",
       "</div>"
      ],
      "text/plain": [
       "         last_price\n",
       "month              \n",
       "1      7.468922e+06\n",
       "2      7.152931e+06\n",
       "3      7.263855e+06\n",
       "4      6.951796e+06\n",
       "5      7.022822e+06\n",
       "6      6.953548e+06\n",
       "7      7.075683e+06\n",
       "8      7.152326e+06\n",
       "9      7.410359e+06\n",
       "10     7.075943e+06\n",
       "11     7.166343e+06\n",
       "12     6.873262e+06"
      ]
     },
     "execution_count": 59,
     "metadata": {},
     "output_type": "execute_result"
    },
    {
     "data": {
      "image/png": "[encoded data removed]",
      "text/plain": [
       "<Figure size 576x288 with 1 Axes>"
      ]
     },
     "metadata": {
      "needs_background": "light"
     },
     "output_type": "display_data"
    }
   ],
   "source": [
    "#месяц\n",
    "(\n",
    "    spb_center_data.pivot_table(index='month', values='last_price')\n",
    "    .plot(grid=True, style='o-', figsize=(8,4), xlim=(0,12.3))\n",
    ")\n",
    "\n",
    "spb_center_data.pivot_table(index='month', values='last_price')"
   ]
  },
  {
   "cell_type": "markdown",
   "id": "f0aafb94",
   "metadata": {},
   "source": [
    "Ситуация схожа с общей выборкой - дешевле всего квартиры, выставленные на продажу в декабре, апреле и июне. Дороже всего - в январе и сентябре."
   ]
  },
  {
   "cell_type": "code",
   "execution_count": 60,
   "id": "e6be2bb2",
   "metadata": {},
   "outputs": [
    {
     "data": {
      "text/html": [
       "<div>\n",
       "<style scoped>\n",
       "    .dataframe tbody tr th:only-of-type {\n",
       "        vertical-align: middle;\n",
       "    }\n",
       "\n",
       "    .dataframe tbody tr th {\n",
       "        vertical-align: top;\n",
       "    }\n",
       "\n",
       "    .dataframe thead th {\n",
       "        text-align: right;\n",
       "    }\n",
       "</style>\n",
       "<table border=\"1\" class=\"dataframe\">\n",
       "  <thead>\n",
       "    <tr style=\"text-align: right;\">\n",
       "      <th></th>\n",
       "      <th>last_price</th>\n",
       "    </tr>\n",
       "    <tr>\n",
       "      <th>year</th>\n",
       "      <th></th>\n",
       "    </tr>\n",
       "  </thead>\n",
       "  <tbody>\n",
       "    <tr>\n",
       "      <th>2015</th>\n",
       "      <td>6.698017e+06</td>\n",
       "    </tr>\n",
       "    <tr>\n",
       "      <th>2016</th>\n",
       "      <td>7.114026e+06</td>\n",
       "    </tr>\n",
       "    <tr>\n",
       "      <th>2017</th>\n",
       "      <td>7.175419e+06</td>\n",
       "    </tr>\n",
       "    <tr>\n",
       "      <th>2018</th>\n",
       "      <td>7.150643e+06</td>\n",
       "    </tr>\n",
       "    <tr>\n",
       "      <th>2019</th>\n",
       "      <td>6.971456e+06</td>\n",
       "    </tr>\n",
       "  </tbody>\n",
       "</table>\n",
       "</div>"
      ],
      "text/plain": [
       "        last_price\n",
       "year              \n",
       "2015  6.698017e+06\n",
       "2016  7.114026e+06\n",
       "2017  7.175419e+06\n",
       "2018  7.150643e+06\n",
       "2019  6.971456e+06"
      ]
     },
     "execution_count": 60,
     "metadata": {},
     "output_type": "execute_result"
    },
    {
     "data": {
      "image/png": "[encoded data removed]",
      "text/plain": [
       "<Figure size 432x288 with 1 Axes>"
      ]
     },
     "metadata": {
      "needs_background": "light"
     },
     "output_type": "display_data"
    }
   ],
   "source": [
    "#год\n",
    "(\n",
    "    spb_center_data.pivot_table(index='year', values='last_price')\n",
    "    .plot(grid=True, style='o-', figsize=(6,4), xlim=(2014,2020))\n",
    ")\n",
    "\n",
    "spb_center_data.pivot_table(index='year', values='last_price')"
   ]
  },
  {
   "cell_type": "markdown",
   "id": "33ff0d1f",
   "metadata": {},
   "source": [
    "А здесь, в отличии от снижения стоимости квартир в 2016 году, которое мы наблюдали при анализе всех объявлений, произошел резкий рост цен. Небольшое снижение произошло только в 2019 году.  "
   ]
  },
  {
   "cell_type": "markdown",
   "id": "187a4acc",
   "metadata": {},
   "source": [
    "## Общий вывод"
   ]
  },
  {
   "cell_type": "markdown",
   "id": "0486ec24",
   "metadata": {},
   "source": [
    "Мы изучили большой объем данных, представляющий собой архив объявлений о продаже квартир в Санкт-Петербурге и соседних населённых пунктах за несколько лет, и ответили на поставленные вопросы.\n",
    "\n",
    "**Время продажи квартиры**\n",
    "\n",
    "Чаще всего квартиры продают в срок от 1,5 до 6,5 месяцев. Однако в данных присутствовали и объявления старше трех лет. Быстрой продажей квартиры может считаться продажа менее чем за 45 дней, а долгой - больше чем за 230 дней.\n",
    "\n",
    "**Стоимость жилья**\n",
    "\n",
    "Среди самых популярных (по количеству объявлений) насленнных пунктов самая высокая стоимость жилья за квадратный метр - в Санкт-Петербурге(104332), самая низкая - в Выборге(56953).\n",
    "\n",
    "**Факторы, влияющие на стоимость жилья**\n",
    "\n",
    "Больше всего на стоимость влияет площадь квартиры и этаж, на котором она расположена. Чем больше общая площадь жилья, тем больше цена. Ниже всего цена на квартиры, расположенные на первом этаже. В меньшей степени на стоимость влияют число комнат и расстояние до центра города.\n",
    "\n",
    "**Факторы, влияющие на стоимость жилья в Санкт-Петербурге**\n",
    "\n",
    "Помимо вышеперечисленных факторов, которые справедливы и для центра Санкт-Петербурга, в этом районе есть свои особенности. Так, в центре Петербурга цены на квартиры на последнем этаже почти на таком же высоком уровне, как на квартиры на других этажах (за исключением первого). Также интересно, что в 2016 году в Санкт-Петербурге не было снижения цен на недвижимость, напротив, цены сильно выросли. Средняя площадь квартиры и средняя ее цена в центре Санкт-Петербурга немного выше, чем в целом по выборке. \n",
    "\n",
    "**Параметры**\n",
    "\n",
    "Мы изучили такие характеристики как площадь, цена, число комнат и высота потолков и определили, что в данных есть выбивающиеся значения. Для построения автоматизированной системы, отслеживающей аномалии и мошенническую деятельность, предлагаем установить следующие параметры: площадь квартир - до 120 м2, цена - не превышает 12 млн, число комнат - не больше 6, высота потолков - до 4 м. "
   ]
  }
 ],
 "metadata": {
  "kernelspec": {
   "display_name": "Python 3 (ipykernel)",
   "language": "python",
   "name": "python3"
  },
  "language_info": {
   "codemirror_mode": {
    "name": "ipython",
    "version": 3
   },
   "file_extension": ".py",
   "mimetype": "text/x-python",
   "name": "python",
   "nbconvert_exporter": "python",
   "pygments_lexer": "ipython3",
   "version": "3.9.12"
  },
  "toc": {
   "base_numbering": 1,
   "nav_menu": {},
   "number_sections": true,
   "sideBar": true,
   "skip_h1_title": true,
   "title_cell": "Table of Contents",
   "title_sidebar": "Contents",
   "toc_cell": false,
   "toc_position": {},
   "toc_section_display": true,
   "toc_window_display": false
  }
 },
 "nbformat": 4,
 "nbformat_minor": 5
}
