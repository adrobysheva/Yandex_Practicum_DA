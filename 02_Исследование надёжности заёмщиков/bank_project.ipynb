{
 "cells": [
  {
   "cell_type": "markdown",
   "id": "96b9feab",
   "metadata": {
    "toc": true
   },
   "source": [
    "<h1>Содержание<span class=\"tocSkip\"></span></h1>\n",
    "<div class=\"toc\"><ul class=\"toc-item\"><li><span><a href=\"#Обзор-данных\" data-toc-modified-id=\"Обзор-данных-1\"><span class=\"toc-item-num\">1&nbsp;&nbsp;</span>Обзор данных</a></span></li><li><span><a href=\"#Предобработка-данных\" data-toc-modified-id=\"Предобработка-данных-2\"><span class=\"toc-item-num\">2&nbsp;&nbsp;</span>Предобработка данных</a></span><ul class=\"toc-item\"><li><span><a href=\"#Работа-с-пропусками-и-аномалиями-в-данных\" data-toc-modified-id=\"Работа-с-пропусками-и-аномалиями-в-данных-2.1\"><span class=\"toc-item-num\">2.1&nbsp;&nbsp;</span>Работа с пропусками и аномалиями в данных</a></span></li><li><span><a href=\"#Замена-вещественного-типа-данных-на-целочисленный\" data-toc-modified-id=\"Замена-вещественного-типа-данных-на-целочисленный-2.2\"><span class=\"toc-item-num\">2.2&nbsp;&nbsp;</span>Замена вещественного типа данных на целочисленный</a></span></li><li><span><a href=\"#Дубликаты\" data-toc-modified-id=\"Дубликаты-2.3\"><span class=\"toc-item-num\">2.3&nbsp;&nbsp;</span>Дубликаты</a></span></li><li><span><a href=\"#Категоризация-данных\" data-toc-modified-id=\"Категоризация-данных-2.4\"><span class=\"toc-item-num\">2.4&nbsp;&nbsp;</span>Категоризация данных</a></span></li></ul></li><li><span><a href=\"#Определение-зависимостей\" data-toc-modified-id=\"Определение-зависимостей-3\"><span class=\"toc-item-num\">3&nbsp;&nbsp;</span>Определение зависимостей</a></span><ul class=\"toc-item\"><li><span><a href=\"#Зависимость-между-количеством-детей-и-возвратом-кредита-в-срок\" data-toc-modified-id=\"Зависимость-между-количеством-детей-и-возвратом-кредита-в-срок-3.1\"><span class=\"toc-item-num\">3.1&nbsp;&nbsp;</span>Зависимость между количеством детей и возвратом кредита в срок</a></span></li><li><span><a href=\"#Зависимость-между-семейным-положением-и-возвратом-кредита-в-срок\" data-toc-modified-id=\"Зависимость-между-семейным-положением-и-возвратом-кредита-в-срок-3.2\"><span class=\"toc-item-num\">3.2&nbsp;&nbsp;</span>Зависимость между семейным положением и возвратом кредита в срок</a></span></li><li><span><a href=\"#Зависимость-между-уровнем-дохода-и-возвратом-кредита-в-срок\" data-toc-modified-id=\"Зависимость-между-уровнем-дохода-и-возвратом-кредита-в-срок-3.3\"><span class=\"toc-item-num\">3.3&nbsp;&nbsp;</span>Зависимость между уровнем дохода и возвратом кредита в срок</a></span></li><li><span><a href=\"#Зависимость-между-целью-получения-кредита-и-его-возвратом-в-срок\" data-toc-modified-id=\"Зависимость-между-целью-получения-кредита-и-его-возвратом-в-срок-3.4\"><span class=\"toc-item-num\">3.4&nbsp;&nbsp;</span>Зависимость между целью получения кредита и его возвратом в срок</a></span></li></ul></li><li><span><a href=\"#Итоги-исследования\" data-toc-modified-id=\"Итоги-исследования-4\"><span class=\"toc-item-num\">4&nbsp;&nbsp;</span>Итоги исследования</a></span></li></ul></div>"
   ]
  },
  {
   "cell_type": "markdown",
   "id": "3e6c559a",
   "metadata": {},
   "source": [
    "# Исследование надёжности заёмщиков"
   ]
  },
  {
   "cell_type": "markdown",
   "id": "6fcb40d4",
   "metadata": {},
   "source": [
    "**Цель исследования** - определить, существуют ли следующие зависимости:\n",
    "1. Зависимость между количеством детей и возвратом кредита в срок.\n",
    "2. Зависимость между семейным положением и возвратом кредита в срок.\n",
    "3. Зависимость между уровнем дохода и возвратом кредита в срок.\n",
    "4. Зависимость между целью получения кредита и его возвратом в срок.\n",
    "\n",
    "**Ход исследования**\n",
    "\n",
    "Входные данные от банка — статистика о платёжеспособности клиентов. О качестве данных ничего не известно. Поэтому перед проверкой гипотез понадобится обзор данных.\n",
    "\n",
    "Необходимо проверить данные на ошибки и оценить их влияние на исследование. Затем, на этапе предобработки нужно исправить самые критичные ошибки данных.\n",
    "\n",
    "Таким образом, исследование пройдёт в три этапа:\n",
    "\n",
    "1. Обзор данных.\n",
    "2. Предобработка данных.\n",
    "3. Определение зависимостей."
   ]
  },
  {
   "cell_type": "markdown",
   "id": "c4753acd",
   "metadata": {},
   "source": [
    "## Обзор данных"
   ]
  },
  {
   "cell_type": "markdown",
   "id": "3cfb2c01",
   "metadata": {},
   "source": [
    "Импортируем библиотеку `pandas`."
   ]
  },
  {
   "cell_type": "code",
   "execution_count": 1,
   "id": "31c4cb9e",
   "metadata": {},
   "outputs": [],
   "source": [
    "import pandas as pd"
   ]
  },
  {
   "cell_type": "markdown",
   "id": "5245f575",
   "metadata": {},
   "source": [
    "Читаем файл `data.csv` и сохраняем его в переменной `data`:"
   ]
  },
  {
   "cell_type": "code",
   "execution_count": 2,
   "id": "50c712f0",
   "metadata": {},
   "outputs": [],
   "source": [
    "try:\n",
    "    data = pd.read_csv(r'C:\\Users\\м\\Documents\\Data\\data.csv')\n",
    "except:\n",
    "    data = pd.read_csv('/datasets/data.csv')"
   ]
  },
  {
   "cell_type": "markdown",
   "id": "c3b13264",
   "metadata": {},
   "source": [
    "Выводим первые десять строк таблицы `data` на экран:"
   ]
  },
  {
   "cell_type": "code",
   "execution_count": 3,
   "id": "e330ae7a",
   "metadata": {},
   "outputs": [
    {
     "data": {
      "text/html": [
       "<div>\n",
       "<style scoped>\n",
       "    .dataframe tbody tr th:only-of-type {\n",
       "        vertical-align: middle;\n",
       "    }\n",
       "\n",
       "    .dataframe tbody tr th {\n",
       "        vertical-align: top;\n",
       "    }\n",
       "\n",
       "    .dataframe thead th {\n",
       "        text-align: right;\n",
       "    }\n",
       "</style>\n",
       "<table border=\"1\" class=\"dataframe\">\n",
       "  <thead>\n",
       "    <tr style=\"text-align: right;\">\n",
       "      <th></th>\n",
       "      <th>children</th>\n",
       "      <th>days_employed</th>\n",
       "      <th>dob_years</th>\n",
       "      <th>education</th>\n",
       "      <th>education_id</th>\n",
       "      <th>family_status</th>\n",
       "      <th>family_status_id</th>\n",
       "      <th>gender</th>\n",
       "      <th>income_type</th>\n",
       "      <th>debt</th>\n",
       "      <th>total_income</th>\n",
       "      <th>purpose</th>\n",
       "    </tr>\n",
       "  </thead>\n",
       "  <tbody>\n",
       "    <tr>\n",
       "      <th>0</th>\n",
       "      <td>1</td>\n",
       "      <td>-8437.673028</td>\n",
       "      <td>42</td>\n",
       "      <td>высшее</td>\n",
       "      <td>0</td>\n",
       "      <td>женат / замужем</td>\n",
       "      <td>0</td>\n",
       "      <td>F</td>\n",
       "      <td>сотрудник</td>\n",
       "      <td>0</td>\n",
       "      <td>253875.639453</td>\n",
       "      <td>покупка жилья</td>\n",
       "    </tr>\n",
       "    <tr>\n",
       "      <th>1</th>\n",
       "      <td>1</td>\n",
       "      <td>-4024.803754</td>\n",
       "      <td>36</td>\n",
       "      <td>среднее</td>\n",
       "      <td>1</td>\n",
       "      <td>женат / замужем</td>\n",
       "      <td>0</td>\n",
       "      <td>F</td>\n",
       "      <td>сотрудник</td>\n",
       "      <td>0</td>\n",
       "      <td>112080.014102</td>\n",
       "      <td>приобретение автомобиля</td>\n",
       "    </tr>\n",
       "    <tr>\n",
       "      <th>2</th>\n",
       "      <td>0</td>\n",
       "      <td>-5623.422610</td>\n",
       "      <td>33</td>\n",
       "      <td>Среднее</td>\n",
       "      <td>1</td>\n",
       "      <td>женат / замужем</td>\n",
       "      <td>0</td>\n",
       "      <td>M</td>\n",
       "      <td>сотрудник</td>\n",
       "      <td>0</td>\n",
       "      <td>145885.952297</td>\n",
       "      <td>покупка жилья</td>\n",
       "    </tr>\n",
       "    <tr>\n",
       "      <th>3</th>\n",
       "      <td>3</td>\n",
       "      <td>-4124.747207</td>\n",
       "      <td>32</td>\n",
       "      <td>среднее</td>\n",
       "      <td>1</td>\n",
       "      <td>женат / замужем</td>\n",
       "      <td>0</td>\n",
       "      <td>M</td>\n",
       "      <td>сотрудник</td>\n",
       "      <td>0</td>\n",
       "      <td>267628.550329</td>\n",
       "      <td>дополнительное образование</td>\n",
       "    </tr>\n",
       "    <tr>\n",
       "      <th>4</th>\n",
       "      <td>0</td>\n",
       "      <td>340266.072047</td>\n",
       "      <td>53</td>\n",
       "      <td>среднее</td>\n",
       "      <td>1</td>\n",
       "      <td>гражданский брак</td>\n",
       "      <td>1</td>\n",
       "      <td>F</td>\n",
       "      <td>пенсионер</td>\n",
       "      <td>0</td>\n",
       "      <td>158616.077870</td>\n",
       "      <td>сыграть свадьбу</td>\n",
       "    </tr>\n",
       "    <tr>\n",
       "      <th>5</th>\n",
       "      <td>0</td>\n",
       "      <td>-926.185831</td>\n",
       "      <td>27</td>\n",
       "      <td>высшее</td>\n",
       "      <td>0</td>\n",
       "      <td>гражданский брак</td>\n",
       "      <td>1</td>\n",
       "      <td>M</td>\n",
       "      <td>компаньон</td>\n",
       "      <td>0</td>\n",
       "      <td>255763.565419</td>\n",
       "      <td>покупка жилья</td>\n",
       "    </tr>\n",
       "    <tr>\n",
       "      <th>6</th>\n",
       "      <td>0</td>\n",
       "      <td>-2879.202052</td>\n",
       "      <td>43</td>\n",
       "      <td>высшее</td>\n",
       "      <td>0</td>\n",
       "      <td>женат / замужем</td>\n",
       "      <td>0</td>\n",
       "      <td>F</td>\n",
       "      <td>компаньон</td>\n",
       "      <td>0</td>\n",
       "      <td>240525.971920</td>\n",
       "      <td>операции с жильем</td>\n",
       "    </tr>\n",
       "    <tr>\n",
       "      <th>7</th>\n",
       "      <td>0</td>\n",
       "      <td>-152.779569</td>\n",
       "      <td>50</td>\n",
       "      <td>СРЕДНЕЕ</td>\n",
       "      <td>1</td>\n",
       "      <td>женат / замужем</td>\n",
       "      <td>0</td>\n",
       "      <td>M</td>\n",
       "      <td>сотрудник</td>\n",
       "      <td>0</td>\n",
       "      <td>135823.934197</td>\n",
       "      <td>образование</td>\n",
       "    </tr>\n",
       "    <tr>\n",
       "      <th>8</th>\n",
       "      <td>2</td>\n",
       "      <td>-6929.865299</td>\n",
       "      <td>35</td>\n",
       "      <td>ВЫСШЕЕ</td>\n",
       "      <td>0</td>\n",
       "      <td>гражданский брак</td>\n",
       "      <td>1</td>\n",
       "      <td>F</td>\n",
       "      <td>сотрудник</td>\n",
       "      <td>0</td>\n",
       "      <td>95856.832424</td>\n",
       "      <td>на проведение свадьбы</td>\n",
       "    </tr>\n",
       "    <tr>\n",
       "      <th>9</th>\n",
       "      <td>0</td>\n",
       "      <td>-2188.756445</td>\n",
       "      <td>41</td>\n",
       "      <td>среднее</td>\n",
       "      <td>1</td>\n",
       "      <td>женат / замужем</td>\n",
       "      <td>0</td>\n",
       "      <td>M</td>\n",
       "      <td>сотрудник</td>\n",
       "      <td>0</td>\n",
       "      <td>144425.938277</td>\n",
       "      <td>покупка жилья для семьи</td>\n",
       "    </tr>\n",
       "  </tbody>\n",
       "</table>\n",
       "</div>"
      ],
      "text/plain": [
       "   children  days_employed  dob_years education  education_id  \\\n",
       "0         1   -8437.673028         42    высшее             0   \n",
       "1         1   -4024.803754         36   среднее             1   \n",
       "2         0   -5623.422610         33   Среднее             1   \n",
       "3         3   -4124.747207         32   среднее             1   \n",
       "4         0  340266.072047         53   среднее             1   \n",
       "5         0    -926.185831         27    высшее             0   \n",
       "6         0   -2879.202052         43    высшее             0   \n",
       "7         0    -152.779569         50   СРЕДНЕЕ             1   \n",
       "8         2   -6929.865299         35    ВЫСШЕЕ             0   \n",
       "9         0   -2188.756445         41   среднее             1   \n",
       "\n",
       "      family_status  family_status_id gender income_type  debt   total_income  \\\n",
       "0   женат / замужем                 0      F   сотрудник     0  253875.639453   \n",
       "1   женат / замужем                 0      F   сотрудник     0  112080.014102   \n",
       "2   женат / замужем                 0      M   сотрудник     0  145885.952297   \n",
       "3   женат / замужем                 0      M   сотрудник     0  267628.550329   \n",
       "4  гражданский брак                 1      F   пенсионер     0  158616.077870   \n",
       "5  гражданский брак                 1      M   компаньон     0  255763.565419   \n",
       "6   женат / замужем                 0      F   компаньон     0  240525.971920   \n",
       "7   женат / замужем                 0      M   сотрудник     0  135823.934197   \n",
       "8  гражданский брак                 1      F   сотрудник     0   95856.832424   \n",
       "9   женат / замужем                 0      M   сотрудник     0  144425.938277   \n",
       "\n",
       "                      purpose  \n",
       "0               покупка жилья  \n",
       "1     приобретение автомобиля  \n",
       "2               покупка жилья  \n",
       "3  дополнительное образование  \n",
       "4             сыграть свадьбу  \n",
       "5               покупка жилья  \n",
       "6           операции с жильем  \n",
       "7                 образование  \n",
       "8       на проведение свадьбы  \n",
       "9     покупка жилья для семьи  "
      ]
     },
     "execution_count": 3,
     "metadata": {},
     "output_type": "execute_result"
    }
   ],
   "source": [
    "data.head(10)"
   ]
  },
  {
   "cell_type": "markdown",
   "id": "ba1494b3",
   "metadata": {},
   "source": [
    "Получаем общую информацию о таблице:"
   ]
  },
  {
   "cell_type": "code",
   "execution_count": 4,
   "id": "f0087e8d",
   "metadata": {},
   "outputs": [
    {
     "name": "stdout",
     "output_type": "stream",
     "text": [
      "<class 'pandas.core.frame.DataFrame'>\n",
      "RangeIndex: 21525 entries, 0 to 21524\n",
      "Data columns (total 12 columns):\n",
      " #   Column            Non-Null Count  Dtype  \n",
      "---  ------            --------------  -----  \n",
      " 0   children          21525 non-null  int64  \n",
      " 1   days_employed     19351 non-null  float64\n",
      " 2   dob_years         21525 non-null  int64  \n",
      " 3   education         21525 non-null  object \n",
      " 4   education_id      21525 non-null  int64  \n",
      " 5   family_status     21525 non-null  object \n",
      " 6   family_status_id  21525 non-null  int64  \n",
      " 7   gender            21525 non-null  object \n",
      " 8   income_type       21525 non-null  object \n",
      " 9   debt              21525 non-null  int64  \n",
      " 10  total_income      19351 non-null  float64\n",
      " 11  purpose           21525 non-null  object \n",
      "dtypes: float64(2), int64(5), object(5)\n",
      "memory usage: 2.0+ MB\n"
     ]
    }
   ],
   "source": [
    "data.info()"
   ]
  },
  {
   "cell_type": "markdown",
   "id": "4d7472b7",
   "metadata": {},
   "source": [
    "В таблице 12 столбцов. Согласно документации к данным:\n",
    "- `children` — количество детей в семье\n",
    "- `days_employed` — общий трудовой стаж в днях\n",
    "- `dob_years` — возраст клиента в годах\n",
    "- `education` — уровень образования клиента\n",
    "- `education_id` — идентификатор уровня образования\n",
    "- `family_status` — семейное положение\n",
    "- `family_status_id` — идентификатор семейного положения\n",
    "- `gender` — пол клиента\n",
    "- `income_type` — тип занятости\n",
    "- `debt` — имел ли задолженность по возврату кредитов\n",
    "- `total_income` — ежемесячный доход\n",
    "- `purpose` — цель получения кредита\n",
    "\n",
    "Количество значений в столбцах различается. Значит, в данных есть пропущенные значения."
   ]
  },
  {
   "cell_type": "markdown",
   "id": "a1cac106",
   "metadata": {},
   "source": [
    "Нужно устранить проблемы в данных."
   ]
  },
  {
   "cell_type": "markdown",
   "id": "00d59bed",
   "metadata": {},
   "source": [
    "## Предобработка данных"
   ]
  },
  {
   "cell_type": "markdown",
   "id": "100cbc05",
   "metadata": {},
   "source": [
    "### Работа с пропусками и аномалиями в данных\n",
    "Посчитаем, сколько в таблице пропущенных значений:"
   ]
  },
  {
   "cell_type": "code",
   "execution_count": 5,
   "id": "8435d0aa",
   "metadata": {
    "scrolled": true
   },
   "outputs": [
    {
     "data": {
      "text/plain": [
       "children               0\n",
       "days_employed       2174\n",
       "dob_years              0\n",
       "education              0\n",
       "education_id           0\n",
       "family_status          0\n",
       "family_status_id       0\n",
       "gender                 0\n",
       "income_type            0\n",
       "debt                   0\n",
       "total_income        2174\n",
       "purpose                0\n",
       "dtype: int64"
      ]
     },
     "execution_count": 5,
     "metadata": {},
     "output_type": "execute_result"
    }
   ],
   "source": [
    "data.isna().sum()"
   ]
  },
  {
   "cell_type": "markdown",
   "id": "f82f0d0d",
   "metadata": {},
   "source": [
    "В обоих случаях пропущено 2174 значения. Для датафрейма `data`, в котором 21525 строк, это составляет ~10,1% от всех значений. Это довольно большая доля, поэтому мы не будем удалять строки с пропущенными значениями, это может сказаться на результатах исследования."
   ]
  },
  {
   "cell_type": "markdown",
   "id": "f082a3a1",
   "metadata": {},
   "source": [
    "Из таблицы видно, что в столбце `days_employed` есть отрицательные значения. Похоже, что при внесении данных имел место человеческий фактор.  Поскольку трудовой стаж не может быть отрицательным, перезапишем значения в положительные с помощью встроенной функции `abs()`: "
   ]
  },
  {
   "cell_type": "code",
   "execution_count": 6,
   "id": "23f3bd41",
   "metadata": {},
   "outputs": [],
   "source": [
    "data['days_employed'] = data['days_employed'].abs()"
   ]
  },
  {
   "cell_type": "markdown",
   "id": "d9bc56b1",
   "metadata": {},
   "source": [
    "Так как данные в столбцах `days_employed` и `total_income` представлены количественными переменными, пропуски в них нужно заполнить характерными значениями. Даже из первых десяти строк таблицы видно, что в столбце `days_employed` есть очень большие значения, превышающие даже возраст человека. Возможно, по ошибке данные были записаны не в днях, а в часах. Чтобы избежать влияния на результаты исследования сильно выделяющихся значений, заменим пропуски медианным значением. "
   ]
  },
  {
   "cell_type": "markdown",
   "id": "d7447792",
   "metadata": {},
   "source": [
    "Создадим цикл, который пройдет по всем значениям столбцов `days_employed` и `total_income`, рассчитает медианное значение по каждому из столбцов и заполнит ими пропущенные значения в этих столбцах: "
   ]
  },
  {
   "cell_type": "code",
   "execution_count": 7,
   "id": "e53996db",
   "metadata": {},
   "outputs": [],
   "source": [
    "columns_to_replace = ['days_employed', 'total_income'] #создаем список из названий двух столбцов\n",
    "for column in columns_to_replace:                      #перебор значений в цикле, расчет медианного значения и заполнение \n",
    "    avg = data[column].median()                        #им пропусков  \n",
    "    data[column] = data[column].fillna(avg) "
   ]
  },
  {
   "cell_type": "markdown",
   "id": "3e382754",
   "metadata": {},
   "source": [
    "Убедимся, что в таблице не осталось пропущенных значений:"
   ]
  },
  {
   "cell_type": "code",
   "execution_count": 8,
   "id": "21f82c6b",
   "metadata": {
    "scrolled": true
   },
   "outputs": [
    {
     "data": {
      "text/plain": [
       "children            0\n",
       "days_employed       0\n",
       "dob_years           0\n",
       "education           0\n",
       "education_id        0\n",
       "family_status       0\n",
       "family_status_id    0\n",
       "gender              0\n",
       "income_type         0\n",
       "debt                0\n",
       "total_income        0\n",
       "purpose             0\n",
       "dtype: int64"
      ]
     },
     "execution_count": 8,
     "metadata": {},
     "output_type": "execute_result"
    }
   ],
   "source": [
    "data.isna().sum()"
   ]
  },
  {
   "cell_type": "markdown",
   "id": "78126472",
   "metadata": {},
   "source": [
    "Посмотрим, есть ли в данных другие аномалии. Посмотрим на список уникальных значений в столбце `children`:"
   ]
  },
  {
   "cell_type": "code",
   "execution_count": 9,
   "id": "c7eb97d2",
   "metadata": {},
   "outputs": [
    {
     "data": {
      "text/plain": [
       " 0     14149\n",
       " 1      4818\n",
       " 2      2055\n",
       " 3       330\n",
       " 20       76\n",
       "-1        47\n",
       " 4        41\n",
       " 5         9\n",
       "Name: children, dtype: int64"
      ]
     },
     "execution_count": 9,
     "metadata": {},
     "output_type": "execute_result"
    }
   ],
   "source": [
    "data['children'].value_counts()"
   ]
  },
  {
   "cell_type": "markdown",
   "id": "a03b5755",
   "metadata": {},
   "source": [
    "Количество детей не может быть отрицательным - очевидно, что это ошибка при вводе данных. Вероятнее всего, значение 20 детей - это тоже человеческая ошибка. Устраним эти проблемы. "
   ]
  },
  {
   "cell_type": "code",
   "execution_count": 10,
   "id": "fc849baa",
   "metadata": {},
   "outputs": [],
   "source": [
    "data['children'] = data['children'].abs()    #приведем все значения столбца к положительным\n",
    "\n",
    "data = data.loc[data['children'] != 20]      #так как число строк, где кол-во детей равно 20, составляет несущественную долю  \n",
    "                                             #от общего числа строк, удалим их из датафрейма   "
   ]
  },
  {
   "cell_type": "markdown",
   "id": "0f573cc5",
   "metadata": {},
   "source": [
    "Взглянем также на уникальные значения столбца `dob_years`:"
   ]
  },
  {
   "cell_type": "code",
   "execution_count": 11,
   "id": "d87fb2e5",
   "metadata": {},
   "outputs": [
    {
     "data": {
      "text/plain": [
       "35    615\n",
       "40    605\n",
       "41    605\n",
       "34    600\n",
       "38    597\n",
       "42    594\n",
       "33    579\n",
       "39    572\n",
       "31    558\n",
       "36    553\n",
       "44    545\n",
       "29    543\n",
       "48    537\n",
       "30    537\n",
       "37    533\n",
       "50    511\n",
       "43    511\n",
       "32    508\n",
       "49    505\n",
       "28    503\n",
       "45    494\n",
       "27    491\n",
       "52    483\n",
       "56    482\n",
       "47    480\n",
       "54    478\n",
       "46    472\n",
       "58    461\n",
       "57    459\n",
       "53    458\n",
       "51    447\n",
       "59    442\n",
       "55    442\n",
       "26    407\n",
       "60    376\n",
       "25    356\n",
       "61    354\n",
       "62    351\n",
       "63    269\n",
       "64    264\n",
       "24    263\n",
       "23    253\n",
       "65    194\n",
       "66    183\n",
       "22    183\n",
       "67    167\n",
       "21    110\n",
       "0     100\n",
       "68     99\n",
       "69     84\n",
       "70     65\n",
       "71     58\n",
       "20     51\n",
       "72     33\n",
       "19     14\n",
       "73      8\n",
       "74      6\n",
       "75      1\n",
       "Name: dob_years, dtype: int64"
      ]
     },
     "execution_count": 11,
     "metadata": {},
     "output_type": "execute_result"
    }
   ],
   "source": [
    "data['dob_years'].value_counts()"
   ]
  },
  {
   "cell_type": "markdown",
   "id": "a54b4b81",
   "metadata": {},
   "source": [
    "Вывод показал нам, что есть 100 строк с нулевым значением возраста клиента. Так как в данном столбце нет аномальных значений, заполним эти строки средним возрастом клиентов."
   ]
  },
  {
   "cell_type": "code",
   "execution_count": 12,
   "id": "d6e1e42e",
   "metadata": {},
   "outputs": [],
   "source": [
    "#после операции замены возвращаем тип данных int\n",
    "data['dob_years'] = data['dob_years'].replace(0, data['dob_years'].mean()).astype('int') "
   ]
  },
  {
   "cell_type": "markdown",
   "id": "61d7498b",
   "metadata": {},
   "source": [
    "### Замена вещественного типа данных на целочисленный"
   ]
  },
  {
   "cell_type": "markdown",
   "id": "13cc3368",
   "metadata": {},
   "source": [
    "Для более удобной работы со значениями столбца `total_income` заменим вещественный тип данных `float` на целочисленный `int`:"
   ]
  },
  {
   "cell_type": "code",
   "execution_count": 13,
   "id": "7ffb752c",
   "metadata": {},
   "outputs": [],
   "source": [
    "data['total_income'] = data['total_income'].astype('int') "
   ]
  },
  {
   "cell_type": "markdown",
   "id": "6f2667b7",
   "metadata": {},
   "source": [
    "### Дубликаты"
   ]
  },
  {
   "cell_type": "markdown",
   "id": "5409b399",
   "metadata": {},
   "source": [
    "Посчитаем количество строк-дубликатов в таблице с помощью сочетания методов `duplicated()` и `sum()`, а затем удалим повторяющиеся строки."
   ]
  },
  {
   "cell_type": "code",
   "execution_count": 14,
   "id": "1efffcf2",
   "metadata": {},
   "outputs": [
    {
     "data": {
      "text/plain": [
       "54"
      ]
     },
     "execution_count": 14,
     "metadata": {},
     "output_type": "execute_result"
    }
   ],
   "source": [
    "data.duplicated().sum()    #считаем кол-во строк-дубликатов"
   ]
  },
  {
   "cell_type": "code",
   "execution_count": 15,
   "id": "1fa36f8e",
   "metadata": {},
   "outputs": [],
   "source": [
    "#создаем новый датафрейм без дубликатов и обновляем индексацию\n",
    "data = data.drop_duplicates().reset_index(drop=True) "
   ]
  },
  {
   "cell_type": "markdown",
   "id": "fbd8dc61",
   "metadata": {},
   "source": [
    "Теперь необходимо проверить данные на неявные дубликаты. Уже из первых строк таблицы, которую мы выводили на экран, видно что значения столбца `education` отличаются регистром. Посмотрим на все уникальные значения этого столбца:"
   ]
  },
  {
   "cell_type": "code",
   "execution_count": 16,
   "id": "009e8d01",
   "metadata": {},
   "outputs": [
    {
     "data": {
      "text/plain": [
       "array(['высшее', 'среднее', 'Среднее', 'СРЕДНЕЕ', 'ВЫСШЕЕ',\n",
       "       'неоконченное высшее', 'начальное', 'Высшее',\n",
       "       'НЕОКОНЧЕННОЕ ВЫСШЕЕ', 'Неоконченное высшее', 'НАЧАЛЬНОЕ',\n",
       "       'Начальное', 'Ученая степень', 'УЧЕНАЯ СТЕПЕНЬ', 'ученая степень'],\n",
       "      dtype=object)"
      ]
     },
     "execution_count": 16,
     "metadata": {},
     "output_type": "execute_result"
    }
   ],
   "source": [
    "data['education'].unique()"
   ]
  },
  {
   "cell_type": "markdown",
   "id": "070bb860",
   "metadata": {},
   "source": [
    "Действительно, в столбце есть дублирующиеся значения, отличающиеся только написанием. Переведем их в нижний регистр и заново посчитаем количество явных дубликатов в датафрейме.  "
   ]
  },
  {
   "cell_type": "code",
   "execution_count": 17,
   "id": "c19b663d",
   "metadata": {},
   "outputs": [
    {
     "data": {
      "text/plain": [
       "17"
      ]
     },
     "execution_count": 17,
     "metadata": {},
     "output_type": "execute_result"
    }
   ],
   "source": [
    "#перезаписываем значения столбца в нижний регистр и считаем кол-во строк-дубликатов\n",
    "data['education'] = data['education'].str.lower()         \n",
    "data.duplicated().sum()                                   "
   ]
  },
  {
   "cell_type": "markdown",
   "id": "276964d1",
   "metadata": {},
   "source": [
    "Нашлось еще семнадцать строк-дубликатов. Удалим их аналогичным образом - с использованием метода `drop_duplicates()`:"
   ]
  },
  {
   "cell_type": "code",
   "execution_count": 18,
   "id": "7301016c",
   "metadata": {},
   "outputs": [],
   "source": [
    "#создаем новый датафрейм без дубликатов и обновляем индексацию\n",
    "data = data.drop_duplicates().reset_index(drop=True) "
   ]
  },
  {
   "cell_type": "markdown",
   "id": "11ccea63",
   "metadata": {},
   "source": [
    "Далее поочередно проверим значения всех столбцов, содержащих данные типа `object` на предмет наличия значений-дубликатов, записанных в разном регистре."
   ]
  },
  {
   "cell_type": "code",
   "execution_count": 19,
   "id": "1f38791e",
   "metadata": {},
   "outputs": [
    {
     "data": {
      "text/plain": [
       "array(['женат / замужем', 'гражданский брак', 'вдовец / вдова',\n",
       "       'в разводе', 'Не женат / не замужем'], dtype=object)"
      ]
     },
     "execution_count": 19,
     "metadata": {},
     "output_type": "execute_result"
    }
   ],
   "source": [
    "data['family_status'].unique()"
   ]
  },
  {
   "cell_type": "code",
   "execution_count": 20,
   "id": "87c627fe",
   "metadata": {},
   "outputs": [
    {
     "data": {
      "text/plain": [
       "array(['F', 'M', 'XNA'], dtype=object)"
      ]
     },
     "execution_count": 20,
     "metadata": {},
     "output_type": "execute_result"
    }
   ],
   "source": [
    "data['gender'].unique()"
   ]
  },
  {
   "cell_type": "markdown",
   "id": "35992822",
   "metadata": {},
   "source": [
    "Мы обнаружили аномальное значение `XNA` в столбце `gender`. Посмотрим, много ли таких значений:  "
   ]
  },
  {
   "cell_type": "code",
   "execution_count": 21,
   "id": "26852b2f",
   "metadata": {},
   "outputs": [
    {
     "data": {
      "text/plain": [
       "1"
      ]
     },
     "execution_count": 21,
     "metadata": {},
     "output_type": "execute_result"
    }
   ],
   "source": [
    "data.loc[data['gender']=='XNA']['gender'].count()"
   ]
  },
  {
   "cell_type": "markdown",
   "id": "f7d2e6c2",
   "metadata": {},
   "source": [
    "Поскольку значение `XNA` встречается всего один раз, можно предположить, что при записи произошла техническая ошибка. Наличие одной единственной строки с таким значением никак не скажется на результатах исследования, не будем ее удалять. "
   ]
  },
  {
   "cell_type": "code",
   "execution_count": 22,
   "id": "9865239b",
   "metadata": {},
   "outputs": [
    {
     "data": {
      "text/plain": [
       "array(['сотрудник', 'пенсионер', 'компаньон', 'госслужащий',\n",
       "       'безработный', 'предприниматель', 'студент', 'в декрете'],\n",
       "      dtype=object)"
      ]
     },
     "execution_count": 22,
     "metadata": {},
     "output_type": "execute_result"
    }
   ],
   "source": [
    "data['income_type'].unique()"
   ]
  },
  {
   "cell_type": "code",
   "execution_count": 23,
   "id": "5a73e98e",
   "metadata": {},
   "outputs": [
    {
     "data": {
      "text/plain": [
       "array(['покупка жилья', 'приобретение автомобиля',\n",
       "       'дополнительное образование', 'сыграть свадьбу',\n",
       "       'операции с жильем', 'образование', 'на проведение свадьбы',\n",
       "       'покупка жилья для семьи', 'покупка недвижимости',\n",
       "       'покупка коммерческой недвижимости', 'покупка жилой недвижимости',\n",
       "       'строительство собственной недвижимости', 'недвижимость',\n",
       "       'строительство недвижимости', 'на покупку подержанного автомобиля',\n",
       "       'на покупку своего автомобиля',\n",
       "       'операции с коммерческой недвижимостью',\n",
       "       'строительство жилой недвижимости', 'жилье',\n",
       "       'операции со своей недвижимостью', 'автомобили',\n",
       "       'заняться образованием', 'сделка с подержанным автомобилем',\n",
       "       'получение образования', 'автомобиль', 'свадьба',\n",
       "       'получение дополнительного образования', 'покупка своего жилья',\n",
       "       'операции с недвижимостью', 'получение высшего образования',\n",
       "       'свой автомобиль', 'сделка с автомобилем',\n",
       "       'профильное образование', 'высшее образование',\n",
       "       'покупка жилья для сдачи', 'на покупку автомобиля', 'ремонт жилью',\n",
       "       'заняться высшим образованием'], dtype=object)"
      ]
     },
     "execution_count": 23,
     "metadata": {},
     "output_type": "execute_result"
    }
   ],
   "source": [
    "data['purpose'].unique()"
   ]
  },
  {
   "cell_type": "markdown",
   "id": "363cb8e3",
   "metadata": {},
   "source": [
    "Во всех проверенных столбцах не было обнаружено проблем с использованием разных регистров. Однако в последнем столбце `purpose` очень много похожих по смыслу, но по-разному записанных значений. К решению этой проблемы мы вернемся позже.  "
   ]
  },
  {
   "cell_type": "markdown",
   "id": "d0085dc4",
   "metadata": {},
   "source": [
    "**Выводы**\n",
    "\n",
    "Нами была обнаружена и удалена 71 строка-дубликат. Возможно, дубликаты возникли из-за повторного обращения некоторых клиентов в банк и соответственно повторного внесения их в таблицу. Также дубликаты появились в связи с неучетом регистра при заполнении таблицы.     \n",
    "\n",
    "Для поиска явных дубликатов нами был использован метод `duplicated()`. Он находит строки, значения которых совпадают во всех столбцах. Сочетая его с методом `sum()`, мы нашли количество строк-дубликатов. Иначе мы бы получили Series со значением True для строк-дубликатов.  \n",
    "Неявные дубликаты мы нашли с помощью метода `unique()`, он возвращает список уникальных значений в столбце. Для того, чтобы найти дубликаты с учетом регистра и привести записи к единообразию, мы вызвали метод `str.lower()`. \n",
    "Все дубликаты мы удалили с применением метода `drop_duplicates()`. Он создал очищенный от повторяющихся строк датафрейм. "
   ]
  },
  {
   "cell_type": "markdown",
   "id": "6217d2dc",
   "metadata": {},
   "source": [
    "### Категоризация данных"
   ]
  },
  {
   "cell_type": "markdown",
   "id": "3af020b5",
   "metadata": {},
   "source": [
    "Для оптимизации данных разделим таблицу `data` и создадим по ней два «словаря»:"
   ]
  },
  {
   "cell_type": "code",
   "execution_count": 24,
   "id": "85a8ce5e",
   "metadata": {},
   "outputs": [
    {
     "data": {
      "text/html": [
       "<div>\n",
       "<style scoped>\n",
       "    .dataframe tbody tr th:only-of-type {\n",
       "        vertical-align: middle;\n",
       "    }\n",
       "\n",
       "    .dataframe tbody tr th {\n",
       "        vertical-align: top;\n",
       "    }\n",
       "\n",
       "    .dataframe thead th {\n",
       "        text-align: right;\n",
       "    }\n",
       "</style>\n",
       "<table border=\"1\" class=\"dataframe\">\n",
       "  <thead>\n",
       "    <tr style=\"text-align: right;\">\n",
       "      <th></th>\n",
       "      <th>education</th>\n",
       "      <th>education_id</th>\n",
       "    </tr>\n",
       "  </thead>\n",
       "  <tbody>\n",
       "    <tr>\n",
       "      <th>0</th>\n",
       "      <td>высшее</td>\n",
       "      <td>0</td>\n",
       "    </tr>\n",
       "    <tr>\n",
       "      <th>1</th>\n",
       "      <td>среднее</td>\n",
       "      <td>1</td>\n",
       "    </tr>\n",
       "    <tr>\n",
       "      <th>2</th>\n",
       "      <td>среднее</td>\n",
       "      <td>1</td>\n",
       "    </tr>\n",
       "    <tr>\n",
       "      <th>3</th>\n",
       "      <td>среднее</td>\n",
       "      <td>1</td>\n",
       "    </tr>\n",
       "    <tr>\n",
       "      <th>4</th>\n",
       "      <td>среднее</td>\n",
       "      <td>1</td>\n",
       "    </tr>\n",
       "  </tbody>\n",
       "</table>\n",
       "</div>"
      ],
      "text/plain": [
       "  education  education_id\n",
       "0    высшее             0\n",
       "1   среднее             1\n",
       "2   среднее             1\n",
       "3   среднее             1\n",
       "4   среднее             1"
      ]
     },
     "execution_count": 24,
     "metadata": {},
     "output_type": "execute_result"
    }
   ],
   "source": [
    "#создаем новый датафрейм со столбцами с уровнем образования клиентов\n",
    "#и с идентификаторами уровня образования \n",
    "data_education = data[['education', 'education_id']]    \n",
    "data_education.head()                                 "
   ]
  },
  {
   "cell_type": "code",
   "execution_count": 25,
   "id": "043bf992",
   "metadata": {},
   "outputs": [
    {
     "data": {
      "text/html": [
       "<div>\n",
       "<style scoped>\n",
       "    .dataframe tbody tr th:only-of-type {\n",
       "        vertical-align: middle;\n",
       "    }\n",
       "\n",
       "    .dataframe tbody tr th {\n",
       "        vertical-align: top;\n",
       "    }\n",
       "\n",
       "    .dataframe thead th {\n",
       "        text-align: right;\n",
       "    }\n",
       "</style>\n",
       "<table border=\"1\" class=\"dataframe\">\n",
       "  <thead>\n",
       "    <tr style=\"text-align: right;\">\n",
       "      <th></th>\n",
       "      <th>family_status</th>\n",
       "      <th>family_status_id</th>\n",
       "    </tr>\n",
       "  </thead>\n",
       "  <tbody>\n",
       "    <tr>\n",
       "      <th>0</th>\n",
       "      <td>женат / замужем</td>\n",
       "      <td>0</td>\n",
       "    </tr>\n",
       "    <tr>\n",
       "      <th>1</th>\n",
       "      <td>женат / замужем</td>\n",
       "      <td>0</td>\n",
       "    </tr>\n",
       "    <tr>\n",
       "      <th>2</th>\n",
       "      <td>женат / замужем</td>\n",
       "      <td>0</td>\n",
       "    </tr>\n",
       "    <tr>\n",
       "      <th>3</th>\n",
       "      <td>женат / замужем</td>\n",
       "      <td>0</td>\n",
       "    </tr>\n",
       "    <tr>\n",
       "      <th>4</th>\n",
       "      <td>гражданский брак</td>\n",
       "      <td>1</td>\n",
       "    </tr>\n",
       "  </tbody>\n",
       "</table>\n",
       "</div>"
      ],
      "text/plain": [
       "      family_status  family_status_id\n",
       "0   женат / замужем                 0\n",
       "1   женат / замужем                 0\n",
       "2   женат / замужем                 0\n",
       "3   женат / замужем                 0\n",
       "4  гражданский брак                 1"
      ]
     },
     "execution_count": 25,
     "metadata": {},
     "output_type": "execute_result"
    }
   ],
   "source": [
    "#создаем новый датафрейм со столбцами с семейным положением\n",
    "#клиентов и с идентификаторами семейного положения\n",
    "data_family = data[['family_status', 'family_status_id']]  \n",
    "data_family.head()                                       "
   ]
  },
  {
   "cell_type": "markdown",
   "id": "ba014ea5",
   "metadata": {},
   "source": [
    "В созданных таблицах много дубликатов, удалим их, применив знакомую цепочку методов: `drop_duplicates()` и `reset_index()`:"
   ]
  },
  {
   "cell_type": "code",
   "execution_count": 26,
   "id": "b5a8b140",
   "metadata": {},
   "outputs": [
    {
     "data": {
      "text/html": [
       "<div>\n",
       "<style scoped>\n",
       "    .dataframe tbody tr th:only-of-type {\n",
       "        vertical-align: middle;\n",
       "    }\n",
       "\n",
       "    .dataframe tbody tr th {\n",
       "        vertical-align: top;\n",
       "    }\n",
       "\n",
       "    .dataframe thead th {\n",
       "        text-align: right;\n",
       "    }\n",
       "</style>\n",
       "<table border=\"1\" class=\"dataframe\">\n",
       "  <thead>\n",
       "    <tr style=\"text-align: right;\">\n",
       "      <th></th>\n",
       "      <th>education</th>\n",
       "      <th>education_id</th>\n",
       "    </tr>\n",
       "  </thead>\n",
       "  <tbody>\n",
       "    <tr>\n",
       "      <th>0</th>\n",
       "      <td>высшее</td>\n",
       "      <td>0</td>\n",
       "    </tr>\n",
       "    <tr>\n",
       "      <th>1</th>\n",
       "      <td>среднее</td>\n",
       "      <td>1</td>\n",
       "    </tr>\n",
       "    <tr>\n",
       "      <th>2</th>\n",
       "      <td>неоконченное высшее</td>\n",
       "      <td>2</td>\n",
       "    </tr>\n",
       "    <tr>\n",
       "      <th>3</th>\n",
       "      <td>начальное</td>\n",
       "      <td>3</td>\n",
       "    </tr>\n",
       "    <tr>\n",
       "      <th>4</th>\n",
       "      <td>ученая степень</td>\n",
       "      <td>4</td>\n",
       "    </tr>\n",
       "  </tbody>\n",
       "</table>\n",
       "</div>"
      ],
      "text/plain": [
       "             education  education_id\n",
       "0               высшее             0\n",
       "1              среднее             1\n",
       "2  неоконченное высшее             2\n",
       "3            начальное             3\n",
       "4       ученая степень             4"
      ]
     },
     "execution_count": 26,
     "metadata": {},
     "output_type": "execute_result"
    }
   ],
   "source": [
    "data_education = data_education.drop_duplicates().reset_index(drop=True)\n",
    "data_education.head(10)                                         #выведем результат на экран"
   ]
  },
  {
   "cell_type": "code",
   "execution_count": 27,
   "id": "18f9d618",
   "metadata": {},
   "outputs": [
    {
     "data": {
      "text/html": [
       "<div>\n",
       "<style scoped>\n",
       "    .dataframe tbody tr th:only-of-type {\n",
       "        vertical-align: middle;\n",
       "    }\n",
       "\n",
       "    .dataframe tbody tr th {\n",
       "        vertical-align: top;\n",
       "    }\n",
       "\n",
       "    .dataframe thead th {\n",
       "        text-align: right;\n",
       "    }\n",
       "</style>\n",
       "<table border=\"1\" class=\"dataframe\">\n",
       "  <thead>\n",
       "    <tr style=\"text-align: right;\">\n",
       "      <th></th>\n",
       "      <th>family_status</th>\n",
       "      <th>family_status_id</th>\n",
       "    </tr>\n",
       "  </thead>\n",
       "  <tbody>\n",
       "    <tr>\n",
       "      <th>0</th>\n",
       "      <td>женат / замужем</td>\n",
       "      <td>0</td>\n",
       "    </tr>\n",
       "    <tr>\n",
       "      <th>1</th>\n",
       "      <td>гражданский брак</td>\n",
       "      <td>1</td>\n",
       "    </tr>\n",
       "    <tr>\n",
       "      <th>2</th>\n",
       "      <td>вдовец / вдова</td>\n",
       "      <td>2</td>\n",
       "    </tr>\n",
       "    <tr>\n",
       "      <th>3</th>\n",
       "      <td>в разводе</td>\n",
       "      <td>3</td>\n",
       "    </tr>\n",
       "    <tr>\n",
       "      <th>4</th>\n",
       "      <td>Не женат / не замужем</td>\n",
       "      <td>4</td>\n",
       "    </tr>\n",
       "  </tbody>\n",
       "</table>\n",
       "</div>"
      ],
      "text/plain": [
       "           family_status  family_status_id\n",
       "0        женат / замужем                 0\n",
       "1       гражданский брак                 1\n",
       "2         вдовец / вдова                 2\n",
       "3              в разводе                 3\n",
       "4  Не женат / не замужем                 4"
      ]
     },
     "execution_count": 27,
     "metadata": {},
     "output_type": "execute_result"
    }
   ],
   "source": [
    "data_family = data_family.drop_duplicates().reset_index(drop=True)\n",
    "data_family.head(10)                                         #выведем результат на экран"
   ]
  },
  {
   "cell_type": "markdown",
   "id": "fa9cf72d",
   "metadata": {},
   "source": [
    "Для той же оптимизации данных удалим из исходного датафрейма столбцы `education` и `family_status`, оставим только столбцы с их идентификаторами: "
   ]
  },
  {
   "cell_type": "code",
   "execution_count": 28,
   "id": "fed29237",
   "metadata": {},
   "outputs": [
    {
     "data": {
      "text/html": [
       "<div>\n",
       "<style scoped>\n",
       "    .dataframe tbody tr th:only-of-type {\n",
       "        vertical-align: middle;\n",
       "    }\n",
       "\n",
       "    .dataframe tbody tr th {\n",
       "        vertical-align: top;\n",
       "    }\n",
       "\n",
       "    .dataframe thead th {\n",
       "        text-align: right;\n",
       "    }\n",
       "</style>\n",
       "<table border=\"1\" class=\"dataframe\">\n",
       "  <thead>\n",
       "    <tr style=\"text-align: right;\">\n",
       "      <th></th>\n",
       "      <th>children</th>\n",
       "      <th>days_employed</th>\n",
       "      <th>dob_years</th>\n",
       "      <th>education_id</th>\n",
       "      <th>family_status_id</th>\n",
       "      <th>gender</th>\n",
       "      <th>income_type</th>\n",
       "      <th>debt</th>\n",
       "      <th>total_income</th>\n",
       "      <th>purpose</th>\n",
       "    </tr>\n",
       "  </thead>\n",
       "  <tbody>\n",
       "    <tr>\n",
       "      <th>0</th>\n",
       "      <td>1</td>\n",
       "      <td>8437.673028</td>\n",
       "      <td>42</td>\n",
       "      <td>0</td>\n",
       "      <td>0</td>\n",
       "      <td>F</td>\n",
       "      <td>сотрудник</td>\n",
       "      <td>0</td>\n",
       "      <td>253875</td>\n",
       "      <td>покупка жилья</td>\n",
       "    </tr>\n",
       "    <tr>\n",
       "      <th>1</th>\n",
       "      <td>1</td>\n",
       "      <td>4024.803754</td>\n",
       "      <td>36</td>\n",
       "      <td>1</td>\n",
       "      <td>0</td>\n",
       "      <td>F</td>\n",
       "      <td>сотрудник</td>\n",
       "      <td>0</td>\n",
       "      <td>112080</td>\n",
       "      <td>приобретение автомобиля</td>\n",
       "    </tr>\n",
       "    <tr>\n",
       "      <th>2</th>\n",
       "      <td>0</td>\n",
       "      <td>5623.422610</td>\n",
       "      <td>33</td>\n",
       "      <td>1</td>\n",
       "      <td>0</td>\n",
       "      <td>M</td>\n",
       "      <td>сотрудник</td>\n",
       "      <td>0</td>\n",
       "      <td>145885</td>\n",
       "      <td>покупка жилья</td>\n",
       "    </tr>\n",
       "    <tr>\n",
       "      <th>3</th>\n",
       "      <td>3</td>\n",
       "      <td>4124.747207</td>\n",
       "      <td>32</td>\n",
       "      <td>1</td>\n",
       "      <td>0</td>\n",
       "      <td>M</td>\n",
       "      <td>сотрудник</td>\n",
       "      <td>0</td>\n",
       "      <td>267628</td>\n",
       "      <td>дополнительное образование</td>\n",
       "    </tr>\n",
       "    <tr>\n",
       "      <th>4</th>\n",
       "      <td>0</td>\n",
       "      <td>340266.072047</td>\n",
       "      <td>53</td>\n",
       "      <td>1</td>\n",
       "      <td>1</td>\n",
       "      <td>F</td>\n",
       "      <td>пенсионер</td>\n",
       "      <td>0</td>\n",
       "      <td>158616</td>\n",
       "      <td>сыграть свадьбу</td>\n",
       "    </tr>\n",
       "  </tbody>\n",
       "</table>\n",
       "</div>"
      ],
      "text/plain": [
       "   children  days_employed  dob_years  education_id  family_status_id gender  \\\n",
       "0         1    8437.673028         42             0                 0      F   \n",
       "1         1    4024.803754         36             1                 0      F   \n",
       "2         0    5623.422610         33             1                 0      M   \n",
       "3         3    4124.747207         32             1                 0      M   \n",
       "4         0  340266.072047         53             1                 1      F   \n",
       "\n",
       "  income_type  debt  total_income                     purpose  \n",
       "0   сотрудник     0        253875               покупка жилья  \n",
       "1   сотрудник     0        112080     приобретение автомобиля  \n",
       "2   сотрудник     0        145885               покупка жилья  \n",
       "3   сотрудник     0        267628  дополнительное образование  \n",
       "4   пенсионер     0        158616             сыграть свадьбу  "
      ]
     },
     "execution_count": 28,
     "metadata": {},
     "output_type": "execute_result"
    }
   ],
   "source": [
    "data = data.drop(['education', 'family_status'], axis = 1)      #создаем новую таблицу без двух указанных столбцов\n",
    "data.head()                                                     #проверяем внесенные изменения"
   ]
  },
  {
   "cell_type": "markdown",
   "id": "16f0a872",
   "metadata": {},
   "source": [
    "Таким образом мы уменьшили размер исходной таблицы, ускорили процесс фильтрации данных и упростили визуальную работу с датафреймом. В дальнейшем, чтобы проанализировать данные по уровню образования или семейному положению клиентов, не нужно будет запоминать полное словесное выражение, достаточно будет обратиться к идентификатору и по нему получить значение из «словаря». "
   ]
  },
  {
   "cell_type": "markdown",
   "id": "dd9a382b",
   "metadata": {},
   "source": [
    "Теперь разделим клиентов на категории в зависимости от размеров ежемесячного дохода. Для этого создадим функцию.\n",
    "Категории распределим следующим образом:\n",
    "- 0–30000 — E;\n",
    "- 30001–50000 — D;\n",
    "- 50001–200000 — C;\n",
    "- 200001–1000000 — B;\n",
    "- 1000001 и выше — A."
   ]
  },
  {
   "cell_type": "code",
   "execution_count": 29,
   "id": "23638fb8",
   "metadata": {},
   "outputs": [],
   "source": [
    "def income_group(income):\n",
    "    if income <= 30000:\n",
    "        return 'E'\n",
    "    if income <= 50000:\n",
    "        return 'D'\n",
    "    if income <= 200000:\n",
    "        return 'C'\n",
    "    if income <= 1000000:\n",
    "        return 'B'\n",
    "    return 'A'"
   ]
  },
  {
   "cell_type": "markdown",
   "id": "6fe830b3",
   "metadata": {},
   "source": [
    "Создадим в датафрейме отдельный столбец с категориями дохода:"
   ]
  },
  {
   "cell_type": "code",
   "execution_count": 30,
   "id": "3e3ce059",
   "metadata": {
    "scrolled": false
   },
   "outputs": [
    {
     "data": {
      "text/html": [
       "<div>\n",
       "<style scoped>\n",
       "    .dataframe tbody tr th:only-of-type {\n",
       "        vertical-align: middle;\n",
       "    }\n",
       "\n",
       "    .dataframe tbody tr th {\n",
       "        vertical-align: top;\n",
       "    }\n",
       "\n",
       "    .dataframe thead th {\n",
       "        text-align: right;\n",
       "    }\n",
       "</style>\n",
       "<table border=\"1\" class=\"dataframe\">\n",
       "  <thead>\n",
       "    <tr style=\"text-align: right;\">\n",
       "      <th></th>\n",
       "      <th>children</th>\n",
       "      <th>days_employed</th>\n",
       "      <th>dob_years</th>\n",
       "      <th>education_id</th>\n",
       "      <th>family_status_id</th>\n",
       "      <th>gender</th>\n",
       "      <th>income_type</th>\n",
       "      <th>debt</th>\n",
       "      <th>total_income</th>\n",
       "      <th>purpose</th>\n",
       "      <th>total_income_category</th>\n",
       "    </tr>\n",
       "  </thead>\n",
       "  <tbody>\n",
       "    <tr>\n",
       "      <th>0</th>\n",
       "      <td>1</td>\n",
       "      <td>8437.673028</td>\n",
       "      <td>42</td>\n",
       "      <td>0</td>\n",
       "      <td>0</td>\n",
       "      <td>F</td>\n",
       "      <td>сотрудник</td>\n",
       "      <td>0</td>\n",
       "      <td>253875</td>\n",
       "      <td>покупка жилья</td>\n",
       "      <td>B</td>\n",
       "    </tr>\n",
       "    <tr>\n",
       "      <th>1</th>\n",
       "      <td>1</td>\n",
       "      <td>4024.803754</td>\n",
       "      <td>36</td>\n",
       "      <td>1</td>\n",
       "      <td>0</td>\n",
       "      <td>F</td>\n",
       "      <td>сотрудник</td>\n",
       "      <td>0</td>\n",
       "      <td>112080</td>\n",
       "      <td>приобретение автомобиля</td>\n",
       "      <td>C</td>\n",
       "    </tr>\n",
       "    <tr>\n",
       "      <th>2</th>\n",
       "      <td>0</td>\n",
       "      <td>5623.422610</td>\n",
       "      <td>33</td>\n",
       "      <td>1</td>\n",
       "      <td>0</td>\n",
       "      <td>M</td>\n",
       "      <td>сотрудник</td>\n",
       "      <td>0</td>\n",
       "      <td>145885</td>\n",
       "      <td>покупка жилья</td>\n",
       "      <td>C</td>\n",
       "    </tr>\n",
       "    <tr>\n",
       "      <th>3</th>\n",
       "      <td>3</td>\n",
       "      <td>4124.747207</td>\n",
       "      <td>32</td>\n",
       "      <td>1</td>\n",
       "      <td>0</td>\n",
       "      <td>M</td>\n",
       "      <td>сотрудник</td>\n",
       "      <td>0</td>\n",
       "      <td>267628</td>\n",
       "      <td>дополнительное образование</td>\n",
       "      <td>B</td>\n",
       "    </tr>\n",
       "    <tr>\n",
       "      <th>4</th>\n",
       "      <td>0</td>\n",
       "      <td>340266.072047</td>\n",
       "      <td>53</td>\n",
       "      <td>1</td>\n",
       "      <td>1</td>\n",
       "      <td>F</td>\n",
       "      <td>пенсионер</td>\n",
       "      <td>0</td>\n",
       "      <td>158616</td>\n",
       "      <td>сыграть свадьбу</td>\n",
       "      <td>C</td>\n",
       "    </tr>\n",
       "    <tr>\n",
       "      <th>5</th>\n",
       "      <td>0</td>\n",
       "      <td>926.185831</td>\n",
       "      <td>27</td>\n",
       "      <td>0</td>\n",
       "      <td>1</td>\n",
       "      <td>M</td>\n",
       "      <td>компаньон</td>\n",
       "      <td>0</td>\n",
       "      <td>255763</td>\n",
       "      <td>покупка жилья</td>\n",
       "      <td>B</td>\n",
       "    </tr>\n",
       "    <tr>\n",
       "      <th>6</th>\n",
       "      <td>0</td>\n",
       "      <td>2879.202052</td>\n",
       "      <td>43</td>\n",
       "      <td>0</td>\n",
       "      <td>0</td>\n",
       "      <td>F</td>\n",
       "      <td>компаньон</td>\n",
       "      <td>0</td>\n",
       "      <td>240525</td>\n",
       "      <td>операции с жильем</td>\n",
       "      <td>B</td>\n",
       "    </tr>\n",
       "    <tr>\n",
       "      <th>7</th>\n",
       "      <td>0</td>\n",
       "      <td>152.779569</td>\n",
       "      <td>50</td>\n",
       "      <td>1</td>\n",
       "      <td>0</td>\n",
       "      <td>M</td>\n",
       "      <td>сотрудник</td>\n",
       "      <td>0</td>\n",
       "      <td>135823</td>\n",
       "      <td>образование</td>\n",
       "      <td>C</td>\n",
       "    </tr>\n",
       "    <tr>\n",
       "      <th>8</th>\n",
       "      <td>2</td>\n",
       "      <td>6929.865299</td>\n",
       "      <td>35</td>\n",
       "      <td>0</td>\n",
       "      <td>1</td>\n",
       "      <td>F</td>\n",
       "      <td>сотрудник</td>\n",
       "      <td>0</td>\n",
       "      <td>95856</td>\n",
       "      <td>на проведение свадьбы</td>\n",
       "      <td>C</td>\n",
       "    </tr>\n",
       "    <tr>\n",
       "      <th>9</th>\n",
       "      <td>0</td>\n",
       "      <td>2188.756445</td>\n",
       "      <td>41</td>\n",
       "      <td>1</td>\n",
       "      <td>0</td>\n",
       "      <td>M</td>\n",
       "      <td>сотрудник</td>\n",
       "      <td>0</td>\n",
       "      <td>144425</td>\n",
       "      <td>покупка жилья для семьи</td>\n",
       "      <td>C</td>\n",
       "    </tr>\n",
       "  </tbody>\n",
       "</table>\n",
       "</div>"
      ],
      "text/plain": [
       "   children  days_employed  dob_years  education_id  family_status_id gender  \\\n",
       "0         1    8437.673028         42             0                 0      F   \n",
       "1         1    4024.803754         36             1                 0      F   \n",
       "2         0    5623.422610         33             1                 0      M   \n",
       "3         3    4124.747207         32             1                 0      M   \n",
       "4         0  340266.072047         53             1                 1      F   \n",
       "5         0     926.185831         27             0                 1      M   \n",
       "6         0    2879.202052         43             0                 0      F   \n",
       "7         0     152.779569         50             1                 0      M   \n",
       "8         2    6929.865299         35             0                 1      F   \n",
       "9         0    2188.756445         41             1                 0      M   \n",
       "\n",
       "  income_type  debt  total_income                     purpose  \\\n",
       "0   сотрудник     0        253875               покупка жилья   \n",
       "1   сотрудник     0        112080     приобретение автомобиля   \n",
       "2   сотрудник     0        145885               покупка жилья   \n",
       "3   сотрудник     0        267628  дополнительное образование   \n",
       "4   пенсионер     0        158616             сыграть свадьбу   \n",
       "5   компаньон     0        255763               покупка жилья   \n",
       "6   компаньон     0        240525           операции с жильем   \n",
       "7   сотрудник     0        135823                 образование   \n",
       "8   сотрудник     0         95856       на проведение свадьбы   \n",
       "9   сотрудник     0        144425     покупка жилья для семьи   \n",
       "\n",
       "  total_income_category  \n",
       "0                     B  \n",
       "1                     C  \n",
       "2                     C  \n",
       "3                     B  \n",
       "4                     C  \n",
       "5                     B  \n",
       "6                     B  \n",
       "7                     C  \n",
       "8                     C  \n",
       "9                     C  "
      ]
     },
     "execution_count": 30,
     "metadata": {},
     "output_type": "execute_result"
    }
   ],
   "source": [
    "#применяем созданную ранее функцию к значениям столбца 'total_income'\n",
    "#выводим часть датафрейма на экран\n",
    "\n",
    "data['total_income_category'] = data['total_income'].apply(income_group)                                                                          \n",
    "data.head(10)                                                            "
   ]
  },
  {
   "cell_type": "markdown",
   "id": "a7bde623",
   "metadata": {},
   "source": [
    "Создадим также отдельный столбец с категориями покупателей по цели получения кредита. Ранее мы выводили уникальные значения столбца `purpose` на экран и увидели, что в нем много похожих по смыслу значений. Определим следующие категории:\n",
    "- операции с автомобилем;\n",
    "- операции с недвижимостью;\n",
    "- проведение свадьбы;\n",
    "- получение образования.\n",
    "\n",
    "Вначале пропишем функцию, которая будет искать ключевые слова в столбце с целью и возвращать название категории:"
   ]
  },
  {
   "cell_type": "code",
   "execution_count": 31,
   "id": "4d18d418",
   "metadata": {},
   "outputs": [],
   "source": [
    "def purpose_group(purpose):\n",
    "    if 'автомобил' in purpose:\n",
    "        return 'операции с автомобилем'\n",
    "    if 'недвижимост' in purpose:\n",
    "        return 'операции с недвижимостью'\n",
    "    if 'жиль' in purpose:\n",
    "        return 'операции с недвижимостью'\n",
    "    if 'свадьб' in purpose:\n",
    "        return 'проведение свадьбы'\n",
    "    if 'образован' in purpose:\n",
    "        return 'получение образования'"
   ]
  },
  {
   "cell_type": "markdown",
   "id": "03567602",
   "metadata": {},
   "source": [
    "А сейчас создадим в датафрейме отдельный столбец с категориями целей получения кредита:"
   ]
  },
  {
   "cell_type": "code",
   "execution_count": 32,
   "id": "cd69d043",
   "metadata": {
    "scrolled": false
   },
   "outputs": [
    {
     "data": {
      "text/html": [
       "<div>\n",
       "<style scoped>\n",
       "    .dataframe tbody tr th:only-of-type {\n",
       "        vertical-align: middle;\n",
       "    }\n",
       "\n",
       "    .dataframe tbody tr th {\n",
       "        vertical-align: top;\n",
       "    }\n",
       "\n",
       "    .dataframe thead th {\n",
       "        text-align: right;\n",
       "    }\n",
       "</style>\n",
       "<table border=\"1\" class=\"dataframe\">\n",
       "  <thead>\n",
       "    <tr style=\"text-align: right;\">\n",
       "      <th></th>\n",
       "      <th>children</th>\n",
       "      <th>days_employed</th>\n",
       "      <th>dob_years</th>\n",
       "      <th>education_id</th>\n",
       "      <th>family_status_id</th>\n",
       "      <th>gender</th>\n",
       "      <th>income_type</th>\n",
       "      <th>debt</th>\n",
       "      <th>total_income</th>\n",
       "      <th>purpose</th>\n",
       "      <th>total_income_category</th>\n",
       "      <th>purpose_category</th>\n",
       "    </tr>\n",
       "  </thead>\n",
       "  <tbody>\n",
       "    <tr>\n",
       "      <th>0</th>\n",
       "      <td>1</td>\n",
       "      <td>8437.673028</td>\n",
       "      <td>42</td>\n",
       "      <td>0</td>\n",
       "      <td>0</td>\n",
       "      <td>F</td>\n",
       "      <td>сотрудник</td>\n",
       "      <td>0</td>\n",
       "      <td>253875</td>\n",
       "      <td>покупка жилья</td>\n",
       "      <td>B</td>\n",
       "      <td>операции с недвижимостью</td>\n",
       "    </tr>\n",
       "    <tr>\n",
       "      <th>1</th>\n",
       "      <td>1</td>\n",
       "      <td>4024.803754</td>\n",
       "      <td>36</td>\n",
       "      <td>1</td>\n",
       "      <td>0</td>\n",
       "      <td>F</td>\n",
       "      <td>сотрудник</td>\n",
       "      <td>0</td>\n",
       "      <td>112080</td>\n",
       "      <td>приобретение автомобиля</td>\n",
       "      <td>C</td>\n",
       "      <td>операции с автомобилем</td>\n",
       "    </tr>\n",
       "    <tr>\n",
       "      <th>2</th>\n",
       "      <td>0</td>\n",
       "      <td>5623.422610</td>\n",
       "      <td>33</td>\n",
       "      <td>1</td>\n",
       "      <td>0</td>\n",
       "      <td>M</td>\n",
       "      <td>сотрудник</td>\n",
       "      <td>0</td>\n",
       "      <td>145885</td>\n",
       "      <td>покупка жилья</td>\n",
       "      <td>C</td>\n",
       "      <td>операции с недвижимостью</td>\n",
       "    </tr>\n",
       "    <tr>\n",
       "      <th>3</th>\n",
       "      <td>3</td>\n",
       "      <td>4124.747207</td>\n",
       "      <td>32</td>\n",
       "      <td>1</td>\n",
       "      <td>0</td>\n",
       "      <td>M</td>\n",
       "      <td>сотрудник</td>\n",
       "      <td>0</td>\n",
       "      <td>267628</td>\n",
       "      <td>дополнительное образование</td>\n",
       "      <td>B</td>\n",
       "      <td>получение образования</td>\n",
       "    </tr>\n",
       "    <tr>\n",
       "      <th>4</th>\n",
       "      <td>0</td>\n",
       "      <td>340266.072047</td>\n",
       "      <td>53</td>\n",
       "      <td>1</td>\n",
       "      <td>1</td>\n",
       "      <td>F</td>\n",
       "      <td>пенсионер</td>\n",
       "      <td>0</td>\n",
       "      <td>158616</td>\n",
       "      <td>сыграть свадьбу</td>\n",
       "      <td>C</td>\n",
       "      <td>проведение свадьбы</td>\n",
       "    </tr>\n",
       "    <tr>\n",
       "      <th>5</th>\n",
       "      <td>0</td>\n",
       "      <td>926.185831</td>\n",
       "      <td>27</td>\n",
       "      <td>0</td>\n",
       "      <td>1</td>\n",
       "      <td>M</td>\n",
       "      <td>компаньон</td>\n",
       "      <td>0</td>\n",
       "      <td>255763</td>\n",
       "      <td>покупка жилья</td>\n",
       "      <td>B</td>\n",
       "      <td>операции с недвижимостью</td>\n",
       "    </tr>\n",
       "    <tr>\n",
       "      <th>6</th>\n",
       "      <td>0</td>\n",
       "      <td>2879.202052</td>\n",
       "      <td>43</td>\n",
       "      <td>0</td>\n",
       "      <td>0</td>\n",
       "      <td>F</td>\n",
       "      <td>компаньон</td>\n",
       "      <td>0</td>\n",
       "      <td>240525</td>\n",
       "      <td>операции с жильем</td>\n",
       "      <td>B</td>\n",
       "      <td>операции с недвижимостью</td>\n",
       "    </tr>\n",
       "    <tr>\n",
       "      <th>7</th>\n",
       "      <td>0</td>\n",
       "      <td>152.779569</td>\n",
       "      <td>50</td>\n",
       "      <td>1</td>\n",
       "      <td>0</td>\n",
       "      <td>M</td>\n",
       "      <td>сотрудник</td>\n",
       "      <td>0</td>\n",
       "      <td>135823</td>\n",
       "      <td>образование</td>\n",
       "      <td>C</td>\n",
       "      <td>получение образования</td>\n",
       "    </tr>\n",
       "    <tr>\n",
       "      <th>8</th>\n",
       "      <td>2</td>\n",
       "      <td>6929.865299</td>\n",
       "      <td>35</td>\n",
       "      <td>0</td>\n",
       "      <td>1</td>\n",
       "      <td>F</td>\n",
       "      <td>сотрудник</td>\n",
       "      <td>0</td>\n",
       "      <td>95856</td>\n",
       "      <td>на проведение свадьбы</td>\n",
       "      <td>C</td>\n",
       "      <td>проведение свадьбы</td>\n",
       "    </tr>\n",
       "    <tr>\n",
       "      <th>9</th>\n",
       "      <td>0</td>\n",
       "      <td>2188.756445</td>\n",
       "      <td>41</td>\n",
       "      <td>1</td>\n",
       "      <td>0</td>\n",
       "      <td>M</td>\n",
       "      <td>сотрудник</td>\n",
       "      <td>0</td>\n",
       "      <td>144425</td>\n",
       "      <td>покупка жилья для семьи</td>\n",
       "      <td>C</td>\n",
       "      <td>операции с недвижимостью</td>\n",
       "    </tr>\n",
       "  </tbody>\n",
       "</table>\n",
       "</div>"
      ],
      "text/plain": [
       "   children  days_employed  dob_years  education_id  family_status_id gender  \\\n",
       "0         1    8437.673028         42             0                 0      F   \n",
       "1         1    4024.803754         36             1                 0      F   \n",
       "2         0    5623.422610         33             1                 0      M   \n",
       "3         3    4124.747207         32             1                 0      M   \n",
       "4         0  340266.072047         53             1                 1      F   \n",
       "5         0     926.185831         27             0                 1      M   \n",
       "6         0    2879.202052         43             0                 0      F   \n",
       "7         0     152.779569         50             1                 0      M   \n",
       "8         2    6929.865299         35             0                 1      F   \n",
       "9         0    2188.756445         41             1                 0      M   \n",
       "\n",
       "  income_type  debt  total_income                     purpose  \\\n",
       "0   сотрудник     0        253875               покупка жилья   \n",
       "1   сотрудник     0        112080     приобретение автомобиля   \n",
       "2   сотрудник     0        145885               покупка жилья   \n",
       "3   сотрудник     0        267628  дополнительное образование   \n",
       "4   пенсионер     0        158616             сыграть свадьбу   \n",
       "5   компаньон     0        255763               покупка жилья   \n",
       "6   компаньон     0        240525           операции с жильем   \n",
       "7   сотрудник     0        135823                 образование   \n",
       "8   сотрудник     0         95856       на проведение свадьбы   \n",
       "9   сотрудник     0        144425     покупка жилья для семьи   \n",
       "\n",
       "  total_income_category          purpose_category  \n",
       "0                     B  операции с недвижимостью  \n",
       "1                     C    операции с автомобилем  \n",
       "2                     C  операции с недвижимостью  \n",
       "3                     B     получение образования  \n",
       "4                     C        проведение свадьбы  \n",
       "5                     B  операции с недвижимостью  \n",
       "6                     B  операции с недвижимостью  \n",
       "7                     C     получение образования  \n",
       "8                     C        проведение свадьбы  \n",
       "9                     C  операции с недвижимостью  "
      ]
     },
     "execution_count": 32,
     "metadata": {},
     "output_type": "execute_result"
    }
   ],
   "source": [
    "#применяем созданную ранее функцию к значениям столбца 'purpose'\n",
    "#выводим часть датафрейма на экран\n",
    "\n",
    "data['purpose_category'] = data['purpose'].apply(purpose_group)                                                                    \n",
    "data.head(10)                                                        "
   ]
  },
  {
   "cell_type": "markdown",
   "id": "9362fc67",
   "metadata": {},
   "source": [
    "Проверим, по всем ли строкам удалось определить категорию цели получения кредита:"
   ]
  },
  {
   "cell_type": "code",
   "execution_count": 33,
   "id": "f03e83d6",
   "metadata": {},
   "outputs": [
    {
     "data": {
      "text/plain": [
       "0"
      ]
     },
     "execution_count": 33,
     "metadata": {},
     "output_type": "execute_result"
    }
   ],
   "source": [
    "#ищем пропущенные значения в столбце 'purpose_category'\n",
    "data['purpose_category'].isna().sum()     "
   ]
  },
  {
   "cell_type": "markdown",
   "id": "ba56a9b2",
   "metadata": {},
   "source": [
    "Теперь, когда все данные очищены от пропусков, дубликатов и в целом приведены в порядок, можно приступать к поиску взаимосвязей и ответу на вопросы."
   ]
  },
  {
   "cell_type": "markdown",
   "id": "a0b816a5",
   "metadata": {},
   "source": [
    "## Определение зависимостей"
   ]
  },
  {
   "cell_type": "markdown",
   "id": "2f7fe7bd",
   "metadata": {},
   "source": [
    "### Зависимость между количеством детей и возвратом кредита в срок"
   ]
  },
  {
   "cell_type": "markdown",
   "id": "2509f9c4",
   "metadata": {},
   "source": [
    "Для того, чтобы проверить существует ли зависимость между количеством детей у клиентов банка и возвратом кредита в срок, построим сводную таблицу:"
   ]
  },
  {
   "cell_type": "code",
   "execution_count": 34,
   "id": "4110e17a",
   "metadata": {},
   "outputs": [
    {
     "data": {
      "text/html": [
       "<div>\n",
       "<style scoped>\n",
       "    .dataframe tbody tr th:only-of-type {\n",
       "        vertical-align: middle;\n",
       "    }\n",
       "\n",
       "    .dataframe tbody tr th {\n",
       "        vertical-align: top;\n",
       "    }\n",
       "\n",
       "    .dataframe thead th {\n",
       "        text-align: right;\n",
       "    }\n",
       "</style>\n",
       "<table border=\"1\" class=\"dataframe\">\n",
       "  <thead>\n",
       "    <tr style=\"text-align: right;\">\n",
       "      <th>debt</th>\n",
       "      <th>0</th>\n",
       "      <th>1</th>\n",
       "    </tr>\n",
       "    <tr>\n",
       "      <th>children</th>\n",
       "      <th></th>\n",
       "      <th></th>\n",
       "    </tr>\n",
       "  </thead>\n",
       "  <tbody>\n",
       "    <tr>\n",
       "      <th>0</th>\n",
       "      <td>13028</td>\n",
       "      <td>1063</td>\n",
       "    </tr>\n",
       "    <tr>\n",
       "      <th>1</th>\n",
       "      <td>4410</td>\n",
       "      <td>445</td>\n",
       "    </tr>\n",
       "    <tr>\n",
       "      <th>2</th>\n",
       "      <td>1858</td>\n",
       "      <td>194</td>\n",
       "    </tr>\n",
       "    <tr>\n",
       "      <th>3</th>\n",
       "      <td>303</td>\n",
       "      <td>27</td>\n",
       "    </tr>\n",
       "    <tr>\n",
       "      <th>4</th>\n",
       "      <td>37</td>\n",
       "      <td>4</td>\n",
       "    </tr>\n",
       "    <tr>\n",
       "      <th>5</th>\n",
       "      <td>9</td>\n",
       "      <td>0</td>\n",
       "    </tr>\n",
       "  </tbody>\n",
       "</table>\n",
       "</div>"
      ],
      "text/plain": [
       "debt          0     1\n",
       "children             \n",
       "0         13028  1063\n",
       "1          4410   445\n",
       "2          1858   194\n",
       "3           303    27\n",
       "4            37     4\n",
       "5             9     0"
      ]
     },
     "execution_count": 34,
     "metadata": {},
     "output_type": "execute_result"
    }
   ],
   "source": [
    "data_pivot_children = data.pivot_table(index='children', columns='debt', \n",
    "                                       values='gender', aggfunc='count', fill_value=0)\n",
    "data_pivot_children\n",
    "\n",
    "#создаем сводную таблицу, которая покажет кол-во клиентов по кол-ву детей\n",
    "#и наличию задолженности по кредиту"
   ]
  },
  {
   "cell_type": "markdown",
   "id": "2b6fe5bf",
   "metadata": {},
   "source": [
    "Добавим в сводную таблицу новый столбец, который покажет отношение числа клиентов с задолженностью по кредиту к общему числу клиентов в зависимости от количества детей:"
   ]
  },
  {
   "cell_type": "code",
   "execution_count": 35,
   "id": "3b8d9139",
   "metadata": {},
   "outputs": [
    {
     "data": {
      "text/html": [
       "<div>\n",
       "<style scoped>\n",
       "    .dataframe tbody tr th:only-of-type {\n",
       "        vertical-align: middle;\n",
       "    }\n",
       "\n",
       "    .dataframe tbody tr th {\n",
       "        vertical-align: top;\n",
       "    }\n",
       "\n",
       "    .dataframe thead th {\n",
       "        text-align: right;\n",
       "    }\n",
       "</style>\n",
       "<table border=\"1\" class=\"dataframe\">\n",
       "  <thead>\n",
       "    <tr style=\"text-align: right;\">\n",
       "      <th>debt</th>\n",
       "      <th>0</th>\n",
       "      <th>1</th>\n",
       "      <th>ratio</th>\n",
       "    </tr>\n",
       "    <tr>\n",
       "      <th>children</th>\n",
       "      <th></th>\n",
       "      <th></th>\n",
       "      <th></th>\n",
       "    </tr>\n",
       "  </thead>\n",
       "  <tbody>\n",
       "    <tr>\n",
       "      <th>0</th>\n",
       "      <td>13028</td>\n",
       "      <td>1063</td>\n",
       "      <td>7.543822</td>\n",
       "    </tr>\n",
       "    <tr>\n",
       "      <th>1</th>\n",
       "      <td>4410</td>\n",
       "      <td>445</td>\n",
       "      <td>9.165808</td>\n",
       "    </tr>\n",
       "    <tr>\n",
       "      <th>2</th>\n",
       "      <td>1858</td>\n",
       "      <td>194</td>\n",
       "      <td>9.454191</td>\n",
       "    </tr>\n",
       "    <tr>\n",
       "      <th>3</th>\n",
       "      <td>303</td>\n",
       "      <td>27</td>\n",
       "      <td>8.181818</td>\n",
       "    </tr>\n",
       "    <tr>\n",
       "      <th>4</th>\n",
       "      <td>37</td>\n",
       "      <td>4</td>\n",
       "      <td>9.756098</td>\n",
       "    </tr>\n",
       "    <tr>\n",
       "      <th>5</th>\n",
       "      <td>9</td>\n",
       "      <td>0</td>\n",
       "      <td>0.000000</td>\n",
       "    </tr>\n",
       "  </tbody>\n",
       "</table>\n",
       "</div>"
      ],
      "text/plain": [
       "debt          0     1     ratio\n",
       "children                       \n",
       "0         13028  1063  7.543822\n",
       "1          4410   445  9.165808\n",
       "2          1858   194  9.454191\n",
       "3           303    27  8.181818\n",
       "4            37     4  9.756098\n",
       "5             9     0  0.000000"
      ]
     },
     "execution_count": 35,
     "metadata": {},
     "output_type": "execute_result"
    }
   ],
   "source": [
    "data_pivot_children['ratio'] = (data_pivot_children[1] /\n",
    "                              (data_pivot_children[0] + data_pivot_children[1]) * 100)\n",
    "data_pivot_children\n",
    "\n",
    "#умножаем результат деления на 100, чтобы получить соотношение в процентах"
   ]
  },
  {
   "cell_type": "markdown",
   "id": "5a913d4f",
   "metadata": {},
   "source": [
    "**Вывод**\n",
    "\n",
    "Судя по результатам, некоторая зависимость между количеством детей и наличием задолженности по кредиту все же есть. Процент бездетных клиентов с задолженностью ниже аналогичного показателя у клиентов с детьми, учитывая еще и тот факт, что в целом таких клиентов гораздо больше, чем остальных. \n",
    "Результаты по клиентам с тремя детьми и больше малопоказательны из-за небольшой выборки. Однако если объединить многодетных клиентов в отдельную категорию, процент наличия задолженности по кредиту у них все равно будет больше, чем у клиентов без детей.   "
   ]
  },
  {
   "cell_type": "code",
   "execution_count": 36,
   "id": "9789d64c",
   "metadata": {},
   "outputs": [
    {
     "data": {
      "text/plain": [
       "8.157894736842106"
      ]
     },
     "execution_count": 36,
     "metadata": {},
     "output_type": "execute_result"
    }
   ],
   "source": [
    "result = ((data_pivot_children.loc[3,1] + data_pivot_children.loc[4,1]) /\n",
    "         (data_pivot_children.loc[3,0] + data_pivot_children.loc[3,1] + \n",
    "          data_pivot_children.loc[4,0] + data_pivot_children.loc[4,1] + \n",
    "          data_pivot_children.loc[5,0]) * 100)\n",
    "result\n",
    "\n",
    "### понимаю, что значения можно было ввести вручную, но решила отработать индексацию"
   ]
  },
  {
   "cell_type": "markdown",
   "id": "4f60883e",
   "metadata": {},
   "source": [
    "### Зависимость между семейным положением и возвратом кредита в срок"
   ]
  },
  {
   "cell_type": "markdown",
   "id": "939a77d5",
   "metadata": {},
   "source": [
    "Определим, есть ли зависимость между семейным положением и возвратом кредита в срок с помощью сводной таблицы. "
   ]
  },
  {
   "cell_type": "code",
   "execution_count": 37,
   "id": "b7d84d36",
   "metadata": {},
   "outputs": [
    {
     "data": {
      "text/html": [
       "<div>\n",
       "<style scoped>\n",
       "    .dataframe tbody tr th:only-of-type {\n",
       "        vertical-align: middle;\n",
       "    }\n",
       "\n",
       "    .dataframe tbody tr th {\n",
       "        vertical-align: top;\n",
       "    }\n",
       "\n",
       "    .dataframe thead th {\n",
       "        text-align: right;\n",
       "    }\n",
       "</style>\n",
       "<table border=\"1\" class=\"dataframe\">\n",
       "  <thead>\n",
       "    <tr style=\"text-align: right;\">\n",
       "      <th>debt</th>\n",
       "      <th>0</th>\n",
       "      <th>1</th>\n",
       "    </tr>\n",
       "    <tr>\n",
       "      <th>family_status_id</th>\n",
       "      <th></th>\n",
       "      <th></th>\n",
       "    </tr>\n",
       "  </thead>\n",
       "  <tbody>\n",
       "    <tr>\n",
       "      <th>0</th>\n",
       "      <td>11362</td>\n",
       "      <td>928</td>\n",
       "    </tr>\n",
       "    <tr>\n",
       "      <th>1</th>\n",
       "      <td>3754</td>\n",
       "      <td>385</td>\n",
       "    </tr>\n",
       "    <tr>\n",
       "      <th>2</th>\n",
       "      <td>892</td>\n",
       "      <td>63</td>\n",
       "    </tr>\n",
       "    <tr>\n",
       "      <th>3</th>\n",
       "      <td>1109</td>\n",
       "      <td>84</td>\n",
       "    </tr>\n",
       "    <tr>\n",
       "      <th>4</th>\n",
       "      <td>2528</td>\n",
       "      <td>273</td>\n",
       "    </tr>\n",
       "  </tbody>\n",
       "</table>\n",
       "</div>"
      ],
      "text/plain": [
       "debt                  0    1\n",
       "family_status_id            \n",
       "0                 11362  928\n",
       "1                  3754  385\n",
       "2                   892   63\n",
       "3                  1109   84\n",
       "4                  2528  273"
      ]
     },
     "execution_count": 37,
     "metadata": {},
     "output_type": "execute_result"
    }
   ],
   "source": [
    "data_pivot_family = data.pivot_table(index='family_status_id', columns='debt', \n",
    "                                     values='gender', aggfunc='count', fill_value=0)\n",
    "data_pivot_family\n",
    "\n",
    "#создаем сводную таблицу, которая покажет кол-во клиентов по наличию задолженности \n",
    "#по кредиту в зависимости от семейного статуса"
   ]
  },
  {
   "cell_type": "markdown",
   "id": "b2861a2b",
   "metadata": {},
   "source": [
    "Для того, чтобы понять, какой id какое семейное положение обозначает, объединим полученную сводную таблицу с ранее созданной таблицей-\"словарем\" с помощью метода `merge()`:"
   ]
  },
  {
   "cell_type": "code",
   "execution_count": 38,
   "id": "99f64c5b",
   "metadata": {},
   "outputs": [
    {
     "data": {
      "text/html": [
       "<div>\n",
       "<style scoped>\n",
       "    .dataframe tbody tr th:only-of-type {\n",
       "        vertical-align: middle;\n",
       "    }\n",
       "\n",
       "    .dataframe tbody tr th {\n",
       "        vertical-align: top;\n",
       "    }\n",
       "\n",
       "    .dataframe thead th {\n",
       "        text-align: right;\n",
       "    }\n",
       "</style>\n",
       "<table border=\"1\" class=\"dataframe\">\n",
       "  <thead>\n",
       "    <tr style=\"text-align: right;\">\n",
       "      <th></th>\n",
       "      <th>family_status_id</th>\n",
       "      <th>0</th>\n",
       "      <th>1</th>\n",
       "      <th>family_status</th>\n",
       "    </tr>\n",
       "  </thead>\n",
       "  <tbody>\n",
       "    <tr>\n",
       "      <th>0</th>\n",
       "      <td>0</td>\n",
       "      <td>11362</td>\n",
       "      <td>928</td>\n",
       "      <td>женат / замужем</td>\n",
       "    </tr>\n",
       "    <tr>\n",
       "      <th>1</th>\n",
       "      <td>1</td>\n",
       "      <td>3754</td>\n",
       "      <td>385</td>\n",
       "      <td>гражданский брак</td>\n",
       "    </tr>\n",
       "    <tr>\n",
       "      <th>2</th>\n",
       "      <td>2</td>\n",
       "      <td>892</td>\n",
       "      <td>63</td>\n",
       "      <td>вдовец / вдова</td>\n",
       "    </tr>\n",
       "    <tr>\n",
       "      <th>3</th>\n",
       "      <td>3</td>\n",
       "      <td>1109</td>\n",
       "      <td>84</td>\n",
       "      <td>в разводе</td>\n",
       "    </tr>\n",
       "    <tr>\n",
       "      <th>4</th>\n",
       "      <td>4</td>\n",
       "      <td>2528</td>\n",
       "      <td>273</td>\n",
       "      <td>Не женат / не замужем</td>\n",
       "    </tr>\n",
       "  </tbody>\n",
       "</table>\n",
       "</div>"
      ],
      "text/plain": [
       "   family_status_id      0    1          family_status\n",
       "0                 0  11362  928        женат / замужем\n",
       "1                 1   3754  385       гражданский брак\n",
       "2                 2    892   63         вдовец / вдова\n",
       "3                 3   1109   84              в разводе\n",
       "4                 4   2528  273  Не женат / не замужем"
      ]
     },
     "execution_count": 38,
     "metadata": {},
     "output_type": "execute_result"
    }
   ],
   "source": [
    "data_subcategory = data_pivot_family.merge(data_family, on='family_status_id', how='left')\n",
    "data_subcategory\n",
    "\n",
    "#присоединяем таблицу data_family к таблице data_pivot_family \n",
    "#на основании общего столбца 'family_status_id'"
   ]
  },
  {
   "cell_type": "markdown",
   "id": "3fac68e5",
   "metadata": {},
   "source": [
    "Теперь рассчитаем соотношение клиентов с задолженностью и общего числа клиентов для каждой категории семейного положения и добавим результаты в отдельный столбец."
   ]
  },
  {
   "cell_type": "code",
   "execution_count": 39,
   "id": "387b8d08",
   "metadata": {},
   "outputs": [
    {
     "data": {
      "text/html": [
       "<div>\n",
       "<style scoped>\n",
       "    .dataframe tbody tr th:only-of-type {\n",
       "        vertical-align: middle;\n",
       "    }\n",
       "\n",
       "    .dataframe tbody tr th {\n",
       "        vertical-align: top;\n",
       "    }\n",
       "\n",
       "    .dataframe thead th {\n",
       "        text-align: right;\n",
       "    }\n",
       "</style>\n",
       "<table border=\"1\" class=\"dataframe\">\n",
       "  <thead>\n",
       "    <tr style=\"text-align: right;\">\n",
       "      <th></th>\n",
       "      <th>family_status_id</th>\n",
       "      <th>0</th>\n",
       "      <th>1</th>\n",
       "      <th>family_status</th>\n",
       "      <th>ratio</th>\n",
       "    </tr>\n",
       "  </thead>\n",
       "  <tbody>\n",
       "    <tr>\n",
       "      <th>4</th>\n",
       "      <td>4</td>\n",
       "      <td>2528</td>\n",
       "      <td>273</td>\n",
       "      <td>Не женат / не замужем</td>\n",
       "      <td>9.746519</td>\n",
       "    </tr>\n",
       "    <tr>\n",
       "      <th>1</th>\n",
       "      <td>1</td>\n",
       "      <td>3754</td>\n",
       "      <td>385</td>\n",
       "      <td>гражданский брак</td>\n",
       "      <td>9.301764</td>\n",
       "    </tr>\n",
       "    <tr>\n",
       "      <th>0</th>\n",
       "      <td>0</td>\n",
       "      <td>11362</td>\n",
       "      <td>928</td>\n",
       "      <td>женат / замужем</td>\n",
       "      <td>7.550854</td>\n",
       "    </tr>\n",
       "    <tr>\n",
       "      <th>3</th>\n",
       "      <td>3</td>\n",
       "      <td>1109</td>\n",
       "      <td>84</td>\n",
       "      <td>в разводе</td>\n",
       "      <td>7.041073</td>\n",
       "    </tr>\n",
       "    <tr>\n",
       "      <th>2</th>\n",
       "      <td>2</td>\n",
       "      <td>892</td>\n",
       "      <td>63</td>\n",
       "      <td>вдовец / вдова</td>\n",
       "      <td>6.596859</td>\n",
       "    </tr>\n",
       "  </tbody>\n",
       "</table>\n",
       "</div>"
      ],
      "text/plain": [
       "   family_status_id      0    1          family_status     ratio\n",
       "4                 4   2528  273  Не женат / не замужем  9.746519\n",
       "1                 1   3754  385       гражданский брак  9.301764\n",
       "0                 0  11362  928        женат / замужем  7.550854\n",
       "3                 3   1109   84              в разводе  7.041073\n",
       "2                 2    892   63         вдовец / вдова  6.596859"
      ]
     },
     "execution_count": 39,
     "metadata": {},
     "output_type": "execute_result"
    }
   ],
   "source": [
    "data_subcategory['ratio'] = data_subcategory[1] / (data_subcategory[0] + data_subcategory[1]) * 100\n",
    "data_subcategory.sort_values(by='ratio', ascending=False)\n",
    "\n",
    "#умножаем результат деления на 100, чтобы получить соотношение в процентах\n",
    "#выводим таблицу на экран, отсортировав по уменьшению значений столбца 'ratio'"
   ]
  },
  {
   "cell_type": "markdown",
   "id": "528fffc9",
   "metadata": {},
   "source": [
    "**Вывод**\n",
    "\n",
    "Зависимость между семейным положением и возвратом кредита в срок определенно прослеживается. Больше всего доля задолженности по кредиту среди клиентов, не связанных узами брака и состоящих в гражданском браке. Соответственно те, кто состоит в официальном браке или состоял ранее, реже являются должниками."
   ]
  },
  {
   "cell_type": "markdown",
   "id": "43f38935",
   "metadata": {},
   "source": [
    "### Зависимость между уровнем дохода и возвратом кредита в срок"
   ]
  },
  {
   "cell_type": "markdown",
   "id": "12f4819f",
   "metadata": {},
   "source": [
    "С помощью сводной таблицы узнаем существует ли зависимость между уровнем дохода и возвратом кредита в срок:"
   ]
  },
  {
   "cell_type": "code",
   "execution_count": 40,
   "id": "47412251",
   "metadata": {},
   "outputs": [
    {
     "data": {
      "text/html": [
       "<div>\n",
       "<style scoped>\n",
       "    .dataframe tbody tr th:only-of-type {\n",
       "        vertical-align: middle;\n",
       "    }\n",
       "\n",
       "    .dataframe tbody tr th {\n",
       "        vertical-align: top;\n",
       "    }\n",
       "\n",
       "    .dataframe thead th {\n",
       "        text-align: right;\n",
       "    }\n",
       "</style>\n",
       "<table border=\"1\" class=\"dataframe\">\n",
       "  <thead>\n",
       "    <tr style=\"text-align: right;\">\n",
       "      <th>debt</th>\n",
       "      <th>0</th>\n",
       "      <th>1</th>\n",
       "    </tr>\n",
       "    <tr>\n",
       "      <th>total_income_category</th>\n",
       "      <th></th>\n",
       "      <th></th>\n",
       "    </tr>\n",
       "  </thead>\n",
       "  <tbody>\n",
       "    <tr>\n",
       "      <th>A</th>\n",
       "      <td>23</td>\n",
       "      <td>2</td>\n",
       "    </tr>\n",
       "    <tr>\n",
       "      <th>B</th>\n",
       "      <td>4667</td>\n",
       "      <td>354</td>\n",
       "    </tr>\n",
       "    <tr>\n",
       "      <th>C</th>\n",
       "      <td>14606</td>\n",
       "      <td>1354</td>\n",
       "    </tr>\n",
       "    <tr>\n",
       "      <th>D</th>\n",
       "      <td>329</td>\n",
       "      <td>21</td>\n",
       "    </tr>\n",
       "    <tr>\n",
       "      <th>E</th>\n",
       "      <td>20</td>\n",
       "      <td>2</td>\n",
       "    </tr>\n",
       "  </tbody>\n",
       "</table>\n",
       "</div>"
      ],
      "text/plain": [
       "debt                       0     1\n",
       "total_income_category             \n",
       "A                         23     2\n",
       "B                       4667   354\n",
       "C                      14606  1354\n",
       "D                        329    21\n",
       "E                         20     2"
      ]
     },
     "execution_count": 40,
     "metadata": {},
     "output_type": "execute_result"
    }
   ],
   "source": [
    "data_pivot_income = data.pivot_table(index='total_income_category', columns='debt', \n",
    "                                     values='gender', aggfunc='count', fill_value=0)\n",
    "data_pivot_income\n",
    "\n",
    "#создаем сводную таблицу, которая покажет кол-во клиентов по наличию задолженности \n",
    "#по кредиту в зависимости от уровня дохода\n"
   ]
  },
  {
   "cell_type": "markdown",
   "id": "6df1a754",
   "metadata": {},
   "source": [
    "Добавим в сводную таблицу новый столбец, который покажет отношение числа клиентов с задолженностью по кредиту к общему числу клиентов по каждой категории дохода:"
   ]
  },
  {
   "cell_type": "code",
   "execution_count": 41,
   "id": "6ff167ca",
   "metadata": {},
   "outputs": [
    {
     "data": {
      "text/html": [
       "<div>\n",
       "<style scoped>\n",
       "    .dataframe tbody tr th:only-of-type {\n",
       "        vertical-align: middle;\n",
       "    }\n",
       "\n",
       "    .dataframe tbody tr th {\n",
       "        vertical-align: top;\n",
       "    }\n",
       "\n",
       "    .dataframe thead th {\n",
       "        text-align: right;\n",
       "    }\n",
       "</style>\n",
       "<table border=\"1\" class=\"dataframe\">\n",
       "  <thead>\n",
       "    <tr style=\"text-align: right;\">\n",
       "      <th>debt</th>\n",
       "      <th>0</th>\n",
       "      <th>1</th>\n",
       "      <th>ratio</th>\n",
       "    </tr>\n",
       "    <tr>\n",
       "      <th>total_income_category</th>\n",
       "      <th></th>\n",
       "      <th></th>\n",
       "      <th></th>\n",
       "    </tr>\n",
       "  </thead>\n",
       "  <tbody>\n",
       "    <tr>\n",
       "      <th>E</th>\n",
       "      <td>20</td>\n",
       "      <td>2</td>\n",
       "      <td>9.090909</td>\n",
       "    </tr>\n",
       "    <tr>\n",
       "      <th>C</th>\n",
       "      <td>14606</td>\n",
       "      <td>1354</td>\n",
       "      <td>8.483709</td>\n",
       "    </tr>\n",
       "    <tr>\n",
       "      <th>A</th>\n",
       "      <td>23</td>\n",
       "      <td>2</td>\n",
       "      <td>8.000000</td>\n",
       "    </tr>\n",
       "    <tr>\n",
       "      <th>B</th>\n",
       "      <td>4667</td>\n",
       "      <td>354</td>\n",
       "      <td>7.050388</td>\n",
       "    </tr>\n",
       "    <tr>\n",
       "      <th>D</th>\n",
       "      <td>329</td>\n",
       "      <td>21</td>\n",
       "      <td>6.000000</td>\n",
       "    </tr>\n",
       "  </tbody>\n",
       "</table>\n",
       "</div>"
      ],
      "text/plain": [
       "debt                       0     1     ratio\n",
       "total_income_category                       \n",
       "E                         20     2  9.090909\n",
       "C                      14606  1354  8.483709\n",
       "A                         23     2  8.000000\n",
       "B                       4667   354  7.050388\n",
       "D                        329    21  6.000000"
      ]
     },
     "execution_count": 41,
     "metadata": {},
     "output_type": "execute_result"
    }
   ],
   "source": [
    "data_pivot_income['ratio'] = data_pivot_income[1] / (data_pivot_income[0] + data_pivot_income[1]) * 100\n",
    "data_pivot_income.sort_values(by='ratio', ascending=False)\n",
    "\n",
    "#умножаем результат деления на 100, чтобы получить соотношение в процентах\n",
    "#выводим таблицу на экран, отсортировав по уменьшению значений столбца 'ratio'"
   ]
  },
  {
   "cell_type": "markdown",
   "id": "625124fb",
   "metadata": {},
   "source": [
    "**Вывод**\n",
    "\n",
    "Некоторая зависимость между уровнем дохода и возвратом кредита в срок существует. Судя по результатам в категориях B и C, чем выше доход клиента(B), тем меньше доля задолженностей (почти на 1,5% по сравнению с категорией C). Однако, чтобы с полной уверенностью говорить о корреляции между уровнем дохода и наличием задолженности по кредиту, необходимо расширить выборку и дополнить данные по клиентам с категорией дохода A, D и E."
   ]
  },
  {
   "cell_type": "markdown",
   "id": "97f3dca5",
   "metadata": {},
   "source": [
    "### Зависимость между целью получения кредита и его возвратом в срок"
   ]
  },
  {
   "cell_type": "markdown",
   "id": "f4f04cb5",
   "metadata": {},
   "source": [
    "Чтобы ответить на вопрос о наличии зависимости снова обратимся к сводной таблице:"
   ]
  },
  {
   "cell_type": "code",
   "execution_count": 42,
   "id": "f94c77ee",
   "metadata": {},
   "outputs": [
    {
     "data": {
      "text/html": [
       "<div>\n",
       "<style scoped>\n",
       "    .dataframe tbody tr th:only-of-type {\n",
       "        vertical-align: middle;\n",
       "    }\n",
       "\n",
       "    .dataframe tbody tr th {\n",
       "        vertical-align: top;\n",
       "    }\n",
       "\n",
       "    .dataframe thead th {\n",
       "        text-align: right;\n",
       "    }\n",
       "</style>\n",
       "<table border=\"1\" class=\"dataframe\">\n",
       "  <thead>\n",
       "    <tr style=\"text-align: right;\">\n",
       "      <th>debt</th>\n",
       "      <th>0</th>\n",
       "      <th>1</th>\n",
       "    </tr>\n",
       "    <tr>\n",
       "      <th>purpose_category</th>\n",
       "      <th></th>\n",
       "      <th></th>\n",
       "    </tr>\n",
       "  </thead>\n",
       "  <tbody>\n",
       "    <tr>\n",
       "      <th>операции с автомобилем</th>\n",
       "      <td>3889</td>\n",
       "      <td>401</td>\n",
       "    </tr>\n",
       "    <tr>\n",
       "      <th>операции с недвижимостью</th>\n",
       "      <td>9995</td>\n",
       "      <td>780</td>\n",
       "    </tr>\n",
       "    <tr>\n",
       "      <th>получение образования</th>\n",
       "      <td>3629</td>\n",
       "      <td>369</td>\n",
       "    </tr>\n",
       "    <tr>\n",
       "      <th>проведение свадьбы</th>\n",
       "      <td>2132</td>\n",
       "      <td>183</td>\n",
       "    </tr>\n",
       "  </tbody>\n",
       "</table>\n",
       "</div>"
      ],
      "text/plain": [
       "debt                         0    1\n",
       "purpose_category                   \n",
       "операции с автомобилем    3889  401\n",
       "операции с недвижимостью  9995  780\n",
       "получение образования     3629  369\n",
       "проведение свадьбы        2132  183"
      ]
     },
     "execution_count": 42,
     "metadata": {},
     "output_type": "execute_result"
    }
   ],
   "source": [
    "data_pivot_purpose = data.pivot_table(index='purpose_category', columns='debt', \n",
    "                                      values='gender', aggfunc='count', fill_value=0)\n",
    "data_pivot_purpose\n",
    "\n",
    "#создаем сводную таблицу, которая покажет кол-во клиентов по наличию задолженности \n",
    "#по кредиту в зависимости от цели получения кредита"
   ]
  },
  {
   "cell_type": "markdown",
   "id": "959cf393",
   "metadata": {},
   "source": [
    "Рассчитаем соотношение клиентов с задолженностью и общего числа клиентов в зависимости от цели получения кредита и запишем результаты в новый столбец."
   ]
  },
  {
   "cell_type": "code",
   "execution_count": 43,
   "id": "f18dd5d5",
   "metadata": {},
   "outputs": [
    {
     "data": {
      "text/html": [
       "<div>\n",
       "<style scoped>\n",
       "    .dataframe tbody tr th:only-of-type {\n",
       "        vertical-align: middle;\n",
       "    }\n",
       "\n",
       "    .dataframe tbody tr th {\n",
       "        vertical-align: top;\n",
       "    }\n",
       "\n",
       "    .dataframe thead th {\n",
       "        text-align: right;\n",
       "    }\n",
       "</style>\n",
       "<table border=\"1\" class=\"dataframe\">\n",
       "  <thead>\n",
       "    <tr style=\"text-align: right;\">\n",
       "      <th>debt</th>\n",
       "      <th>0</th>\n",
       "      <th>1</th>\n",
       "      <th>ratio</th>\n",
       "    </tr>\n",
       "    <tr>\n",
       "      <th>purpose_category</th>\n",
       "      <th></th>\n",
       "      <th></th>\n",
       "      <th></th>\n",
       "    </tr>\n",
       "  </thead>\n",
       "  <tbody>\n",
       "    <tr>\n",
       "      <th>операции с автомобилем</th>\n",
       "      <td>3889</td>\n",
       "      <td>401</td>\n",
       "      <td>9.347319</td>\n",
       "    </tr>\n",
       "    <tr>\n",
       "      <th>получение образования</th>\n",
       "      <td>3629</td>\n",
       "      <td>369</td>\n",
       "      <td>9.229615</td>\n",
       "    </tr>\n",
       "    <tr>\n",
       "      <th>проведение свадьбы</th>\n",
       "      <td>2132</td>\n",
       "      <td>183</td>\n",
       "      <td>7.904968</td>\n",
       "    </tr>\n",
       "    <tr>\n",
       "      <th>операции с недвижимостью</th>\n",
       "      <td>9995</td>\n",
       "      <td>780</td>\n",
       "      <td>7.238979</td>\n",
       "    </tr>\n",
       "  </tbody>\n",
       "</table>\n",
       "</div>"
      ],
      "text/plain": [
       "debt                         0    1     ratio\n",
       "purpose_category                             \n",
       "операции с автомобилем    3889  401  9.347319\n",
       "получение образования     3629  369  9.229615\n",
       "проведение свадьбы        2132  183  7.904968\n",
       "операции с недвижимостью  9995  780  7.238979"
      ]
     },
     "execution_count": 43,
     "metadata": {},
     "output_type": "execute_result"
    }
   ],
   "source": [
    "data_pivot_purpose['ratio'] = (data_pivot_purpose[1] / (data_pivot_purpose[0] + \n",
    "                                                       data_pivot_purpose[1]) * 100)\n",
    "data_pivot_purpose.sort_values(by='ratio', ascending=False)\n",
    "\n",
    "#умножаем результат деления на 100, чтобы получить соотношение в процентах\n",
    "#выводим таблицу на экран, отсортировав по уменьшению значений столбца 'ratio'"
   ]
  },
  {
   "cell_type": "markdown",
   "id": "c978dbbd",
   "metadata": {},
   "source": [
    "**Вывод**\n",
    "\n",
    "Гипотеза о зависимости между целью получения кредита и его возвратом в срок подтверждается. Чаще всего задолженность возникает при получении кредита на различные операции с автомобилем и получение образования. Кредиты, на операции с недвижимостью, напротив, чаще всего погашаются вовремя. "
   ]
  },
  {
   "cell_type": "markdown",
   "id": "5181f718",
   "metadata": {},
   "source": [
    "## Итоги исследования"
   ]
  },
  {
   "cell_type": "markdown",
   "id": "bee11149",
   "metadata": {},
   "source": [
    "Мы проверили четыре гипотезы и установили:\n",
    "1. Зависимость между количеством детей и возвратом кредита в срок.\n",
    "\n",
    "Гипотеза подтвердилась, зависимость существует. Чем больше у клиента банка детей, тем больше вероятность просрочки по кредиту. \n",
    "\n",
    "2. Зависимость между семейным положением и возвратом кредита в срок.\n",
    "\n",
    "Гипотеза также подтвердилась. Как правило, у клиентов, не состоящих в браке или находящихся в гражданском браке, чаще есть задолженность по кредиту. \n",
    "\n",
    "3. Зависимость между уровнем дохода и возвратом кредита в срок.\n",
    "\n",
    "Некоторая зависимость между уровнем дохода и возвратом кредита в срок существует. Клиенты с более низким доходом показывают больший процент задолженности по кредиту. Однако, прежде чем учитывать этот результат при построении модели кредитного скоринга, есть смысл расширить выборку и дополнить данные по клиентам с другими категориями дохода.\n",
    "\n",
    "4. Зависимость между целью получения кредита и его возвратом в срок.\n",
    "\n",
    "Четвертая гипотеза подтвердилась. Чаще всего возвращают в срок кредиты, полученные на операции с недвижимостью. Хуже всего дело обстоит с кредитами, взятыми на различные операции с автомобилем и получение образования. "
   ]
  }
 ],
 "metadata": {
  "kernelspec": {
   "display_name": "Python 3 (ipykernel)",
   "language": "python",
   "name": "python3"
  },
  "language_info": {
   "codemirror_mode": {
    "name": "ipython",
    "version": 3
   },
   "file_extension": ".py",
   "mimetype": "text/x-python",
   "name": "python",
   "nbconvert_exporter": "python",
   "pygments_lexer": "ipython3",
   "version": "3.9.12"
  },
  "toc": {
   "base_numbering": 1,
   "nav_menu": {},
   "number_sections": true,
   "sideBar": true,
   "skip_h1_title": true,
   "title_cell": "Содержание",
   "title_sidebar": "Contents",
   "toc_cell": true,
   "toc_position": {},
   "toc_section_display": true,
   "toc_window_display": false
  }
 },
 "nbformat": 4,
 "nbformat_minor": 5
}
